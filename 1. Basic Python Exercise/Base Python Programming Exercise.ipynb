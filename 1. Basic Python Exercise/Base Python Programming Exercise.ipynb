{
 "cells": [
  {
   "cell_type": "markdown",
   "metadata": {},
   "source": [
    "## Python Basic Programming Exercises"
   ]
  },
  {
   "cell_type": "raw",
   "metadata": {},
   "source": [
    "Q1: What is the output of following expression\n",
    "    5 + 4 * 9 % (3 + 1) / 6 - 1"
   ]
  },
  {
   "cell_type": "code",
   "execution_count": 1,
   "metadata": {},
   "outputs": [
    {
     "name": "stdout",
     "output_type": "stream",
     "text": [
      "4.0\n"
     ]
    }
   ],
   "source": [
    "print(5+4*9%(3+1)/6-1)"
   ]
  },
  {
   "cell_type": "raw",
   "metadata": {},
   "source": [
    "Q2: Write a program to check if a Number is Odd or Even. Take number as a input from user at runtime."
   ]
  },
  {
   "cell_type": "code",
   "execution_count": 2,
   "metadata": {},
   "outputs": [
    {
     "name": "stdout",
     "output_type": "stream",
     "text": [
      "enter number5\n",
      "odd number\n"
     ]
    }
   ],
   "source": [
    "number = int(input('enter number'));\n",
    "if(number%2==0):\n",
    "    print('even number')\n",
    "else:\n",
    "    print('odd number')\n",
    "    "
   ]
  },
  {
   "cell_type": "raw",
   "metadata": {},
   "source": [
    "Q3: Write a program to display the multiplication table by taking a number as input. \n",
    "    [Hint : Use print statement inside of a loop]"
   ]
  },
  {
   "cell_type": "code",
   "execution_count": 3,
   "metadata": {},
   "outputs": [
    {
     "name": "stdout",
     "output_type": "stream",
     "text": [
      "enter number5\n",
      "5 * 1  = 5 \n",
      "5 * 2  = 10 \n",
      "5 * 3  = 15 \n",
      "5 * 4  = 20 \n",
      "5 * 5  = 25 \n",
      "5 * 6  = 30 \n",
      "5 * 7  = 35 \n",
      "5 * 8  = 40 \n",
      "5 * 9  = 45 \n",
      "5 * 10 = 50 \n",
      "5 * 11 = 55 \n",
      "5 * 12 = 60 \n"
     ]
    }
   ],
   "source": [
    "number = int(input('enter number'));\n",
    "for i in range (1, 13):\n",
    "    if i> 9:\n",
    "        print(f\"{number} * {i} = {number * i} \")\n",
    "    else:\n",
    "        \n",
    "        print(f\"{number} * {i}  = {number * i} \")"
   ]
  },
  {
   "cell_type": "raw",
   "metadata": {},
   "source": [
    "Q4: Write a program which will find all numbers between 2000 and 3200 which are divisible by 7 \n",
    "    but are not a multiple of 5.\n",
    " \n",
    "Note: The numbers obtained should be printed in a comma-separated sequence on a single line."
   ]
  },
  {
   "cell_type": "code",
   "execution_count": 10,
   "metadata": {},
   "outputs": [
    {
     "name": "stdout",
     "output_type": "stream",
     "text": [
      "2002,2009,2016,2023,2037,2044,2051,2058,2072,2079,2086,2093,2107,2114,2121,2128,2142,2149,2156,2163,2177,2184,2191,2198,2212,2219,2226,2233,2247,2254,2261,2268,2282,2289,2296,2303,2317,2324,2331,2338,2352,2359,2366,2373,2387,2394,2401,2408,2422,2429,2436,2443,2457,2464,2471,2478,2492,2499,2506,2513,2527,2534,2541,2548,2562,2569,2576,2583,2597,2604,2611,2618,2632,2639,2646,2653,2667,2674,2681,2688,2702,2709,2716,2723,2737,2744,2751,2758,2772,2779,2786,2793,2807,2814,2821,2828,2842,2849,2856,2863,2877,2884,2891,2898,2912,2919,2926,2933,2947,2954,2961,2968,2982,2989,2996,3003,3017,3024,3031,3038,3052,3059,3066,3073,3087,3094,3101,3108,3122,3129,3136,3143,3157,3164,3171,3178,3192,3199\n"
     ]
    }
   ],
   "source": [
    "ride = []\n",
    "for i in range (2000, 3200):\n",
    "    if (i % 7 == 0) and not(i%5 == 0):\n",
    "        ride.append(str(i))\n",
    "print(\",\".join(ride))\n",
    "\n"
   ]
  },
  {
   "cell_type": "raw",
   "metadata": {},
   "source": [
    "Q5: Count the elements of each datatype inside the list and display in output\n",
    "    [2, 3, 'Py', '10', 1, 'SQL', 5.5, True, 3, 'John', None, 7]    "
   ]
  },
  {
   "cell_type": "code",
   "execution_count": 25,
   "metadata": {},
   "outputs": [
    {
     "name": "stdout",
     "output_type": "stream",
     "text": [
      "int: 5\n",
      "str: 4\n",
      "float: 1\n",
      "bool: 1\n",
      "NoneType: 1\n"
     ]
    }
   ],
   "source": [
    "data_list = [2, 3, 'Py', '10', 1, 'SQL', 5.5, True, 3, 'John', None, 7]\n",
    "\n",
    "type_counts = {}\n",
    "\n",
    "for item in data_list:\n",
    "    data_type = type(item).__name__  \n",
    "    if data_type in type_counts:\n",
    "        type_counts[data_type] += 1\n",
    "    else:\n",
    "        type_counts[data_type] = 1\n",
    "\n",
    "for data_type, count in type_counts.items():\n",
    "    print(f\"{data_type}: {count}\")\n"
   ]
  },
  {
   "cell_type": "raw",
   "metadata": {},
   "source": [
    "Q6: Add all values from the list with numeric datatypes \n",
    "    [2, 3, 'Py', '10', 1, 'SQL', 5.5, True, 3, 'John', None, 7] "
   ]
  },
  {
   "cell_type": "code",
   "execution_count": 26,
   "metadata": {},
   "outputs": [
    {
     "name": "stdout",
     "output_type": "stream",
     "text": [
      "21.5\n"
     ]
    }
   ],
   "source": [
    "liara = [2, 3, 'Py', '10', 1, 'SQL', 5.5, True, 3, 'John', None, 7] \n",
    "suma = 0\n",
    "for li in liara:\n",
    "    if(type(li)==int or type(li)==float):\n",
    "        suma = suma + li\n",
    "print(suma)"
   ]
  },
  {
   "cell_type": "raw",
   "metadata": {},
   "source": [
    "Q7: Concat all str datatypes with hyphen as a delimiter\n",
    "    [2, 3, 'Py', '10', 1, 'SQL', 5.5, True, 3, 'John', None, 7] "
   ]
  },
  {
   "cell_type": "code",
   "execution_count": 27,
   "metadata": {},
   "outputs": [
    {
     "name": "stdout",
     "output_type": "stream",
     "text": [
      "Py:10:SQL:John\n"
     ]
    }
   ],
   "source": [
    "liara = [2, 3, 'Py', '10', 1, 'SQL', 5.5, True, 3, 'John', None, 7] \n",
    "suma = ''\n",
    "fara = 1\n",
    "for li in liara:\n",
    "    \n",
    "    if(type(li)==str):\n",
    "        if fara ==1:\n",
    "            suma = li\n",
    "            fara = fara + 1\n",
    "        else:\n",
    "            suma = suma +':'+ li\n",
    "print(suma)"
   ]
  },
  {
   "cell_type": "raw",
   "metadata": {},
   "source": [
    "Q8: Write a UDF that takes list as input and returns sum of all numbers \n",
    "    (exclude bool) and count of all str \n",
    "    [2, 3, 'Py', '10', 1, 'SQL', 5.5, True, 3, 'John', None, 7] \n",
    "    \n",
    "Hint:\n",
    "-----\n",
    "def my_func:\n",
    "    # your code\n",
    "        \n",
    "my_func(l1)\n",
    "# output --> {'Sum': xxx, 'Count_of_Strs': xxx}"
   ]
  },
  {
   "cell_type": "code",
   "execution_count": 36,
   "metadata": {},
   "outputs": [
    {
     "name": "stdout",
     "output_type": "stream",
     "text": [
      "Sum: 22.5\n",
      "Count_of_Strs: 4\n"
     ]
    }
   ],
   "source": [
    "\n",
    "def calculate_sum_and_count(data_list):\n",
    "    num_sum = 0 \n",
    "    str_count = 0 \n",
    "\n",
    "    for item in data_list:\n",
    "        if isinstance(item, (int, float)): \n",
    "            num_sum += item\n",
    "        elif isinstance(item, str): \n",
    "            str_count += 1\n",
    "\n",
    "    return num_sum, str_count\n",
    "\n",
    "\n",
    "data_list = [2, 3, 'Py', '10', 1, 'SQL', 5.5, True, 3, 'John', None, 7]\n",
    "result = calculate_sum_and_count(data_list)\n",
    "print(\"Sum:\", result[0])\n",
    "print(\"Count_of_Strs:\", result[1])\n",
    "\n"
   ]
  },
  {
   "cell_type": "raw",
   "metadata": {},
   "source": [
    "Q9: Get only odd numbers from the following list and store the numbers in new list\n",
    "    li = [5, 7, 22, 97, 54, 62, 77, 23, 73, 61]\n",
    "\n",
    "    i. Use loops to get the answer\n",
    "   ii. Use list comprehensions\n",
    "  iii. Use lambda function with filter"
   ]
  },
  {
   "cell_type": "code",
   "execution_count": 49,
   "metadata": {},
   "outputs": [
    {
     "name": "stdout",
     "output_type": "stream",
     "text": [
      "[5, 7, 97, 77, 23, 73, 61]\n",
      "[5, 7, 97, 77, 23, 73, 61]\n",
      "[5, 7, 97, 77, 23, 73, 61]\n"
     ]
    }
   ],
   "source": [
    "li = [5, 7, 22, 97, 54, 62, 77, 23, 73, 61]\n",
    "odd_numbers = []\n",
    "\n",
    "for num in li:\n",
    "    if num % 2 != 0:\n",
    "        odd_numbers.append(num)\n",
    "\n",
    "print(odd_numbers)\n",
    "\n",
    "odd_numbers2 = []\n",
    "\n",
    "odd_numbers2 = [num for num in li if num % 2 != 0]\n",
    "\n",
    "print(odd_numbers2)\n",
    "\n",
    "\n",
    "odd_numbers3 = []\n",
    "li = [5, 7, 22, 97, 54, 62, 77, 23, 73, 61]\n",
    "odd_numbers3 = list(filter(lambda num: num % 2 != 0, li))\n",
    "\n",
    "print(odd_numbers3)"
   ]
  },
  {
   "cell_type": "raw",
   "metadata": {},
   "source": [
    "Q10: Write a UDF to return the descriptives [sum, count, min, mean, max] for a list of n number of input \n",
    "    numbers."
   ]
  },
  {
   "cell_type": "code",
   "execution_count": 54,
   "metadata": {},
   "outputs": [
    {
     "name": "stdout",
     "output_type": "stream",
     "text": [
      "enter the numberes and type \"q\" for getting the result5\n",
      "enter the numberes and type \"q\" for getting the result5\n",
      "enter the numberes and type \"q\" for getting the result5\n",
      "enter the numberes and type \"q\" for getting the result1\n",
      "enter the numberes and type \"q\" for getting the resultq\n",
      "sum = 16; count = 4; min = 1; mean = 4; max = 4;\n"
     ]
    }
   ],
   "source": [
    "def function2(*args):\n",
    "    import statistics\n",
    "    args = args[0]\n",
    "    output = [0,0,0,0,0]\n",
    "   \n",
    "    output[0] = sum(args)\n",
    "    output[1] = min(args)\n",
    "    output[2] = max(args)\n",
    "    output[3] = statistics.mean(args)\n",
    "    output[4]  = len(args)\n",
    "    return output\n",
    "\n",
    "\n",
    "list5 = None\n",
    "list5 = []\n",
    "    \n",
    "    \n",
    "while True:\n",
    "    \n",
    "    \n",
    "    term = input('enter the numberes and type \"q\" for getting the result')\n",
    "    \n",
    "    if(term == 'q'):\n",
    "        break\n",
    "    else:\n",
    "        list5.append(int(term))\n",
    "    \n",
    "takeop = function2(list5)\n",
    "\n",
    "print(f\"sum = {takeop[0]}; count = {takeop[4]}; min = {takeop[1]}; mean = {takeop[3]}; max = {takeop[3]};\")"
   ]
  },
  {
   "cell_type": "raw",
   "metadata": {},
   "source": [
    "Q11: Write an udf to calculate the area of different shapes\n",
    "\n",
    "Take shape and dimensions as arguments to udf as follows : \n",
    "\n",
    "1. square which has side\n",
    "2. rectangle which has length and width\n",
    "3. circle which has radius\n",
    "\n",
    "The shape should be a positional argument and it's dimensions are taken as kwargs\n",
    "\n",
    "Perform proper validation for the user inputs and then calculate area.\n",
    "\n",
    "E.g. if shape is square, ensure kwargs has \"side\" and if so, then you may return the area, else display appropriate error message like \"Please enter 'side' for a square\""
   ]
  },
  {
   "cell_type": "code",
   "execution_count": 60,
   "metadata": {},
   "outputs": [
    {
     "name": "stdout",
     "output_type": "stream",
     "text": [
      "select the shape \n",
      " 1. circle \n",
      " 2. sqare \n",
      " 3. rectangle \n",
      " enter the choose option:1\n",
      "enter the radius for circle: 5\n",
      "area of the circle :  78.53981633974483\n"
     ]
    }
   ],
   "source": [
    "import math as maran\n",
    "\n",
    "def circle(**kwargs):\n",
    "\n",
    "    print('area of the circle : ',maran.pi*kwargs['side']*kwargs['side'])\n",
    " \n",
    "    \n",
    "def square(**kwargs):\n",
    "    print('area of the sqaure : ',kwargs['side']*kwargs['side'])\n",
    "\n",
    "def rectangle(**kwargs):\n",
    "    print('area of the rectangle : ',kwargs['length']*kwargs['width'])\n",
    "\n",
    "\n",
    "shape = int(input('select the shape \\n 1. circle \\n 2. sqare \\n 3. rectangle \\n enter the choose option:'))\n",
    "if(shape <4 and shape>0):\n",
    "    if(shape==1):\n",
    "        rad = int(input('enter the radius for circle: '))\n",
    "        circle(side=rad)\n",
    "    elif(shape==2):\n",
    "        rad = int(input('enter the side for sqaure: '))\n",
    "        square(side=rad)\n",
    "    elif(shape==3):\n",
    "        length = int(input('enter the length for rectangele: '))\n",
    "        width = int(input('enter the width for rectangle: '))\n",
    "        rectangle(length=length,width=width)\n",
    "\n",
    "        "
   ]
  },
  {
   "cell_type": "raw",
   "metadata": {},
   "source": [
    "Q12: Write a UDF to reconcile the values within two lists.\n",
    "    l1 = ['January', 'February', 'March', 'May', 'June', 'September', 'December']\n",
    "    l2 = ['January', 'February', 'April', 'June', 'October', 'December']\n",
    "\n",
    "Hint:\n",
    "-----\n",
    "def func(l1, l2):\n",
    "    your code here...\n",
    "    \n",
    "Output:\n",
    "{'Matched': ['January', 'February', 'June', 'December'],\n",
    "    'Only in l1': ['March', 'May', 'September'],\n",
    "        'Only in l2': ['April', 'October']}"
   ]
  },
  {
   "cell_type": "code",
   "execution_count": 73,
   "metadata": {},
   "outputs": [
    {
     "name": "stdout",
     "output_type": "stream",
     "text": [
      "{'Matched': ['January', 'February', 'June', 'December'], 'Only in l1': ['March', 'May', 'September'], 'Only in l2': ['April', 'October']}\n"
     ]
    }
   ],
   "source": [
    "l1 = ['January', 'February', 'March', 'May', 'June', 'September', 'December']\n",
    "l2 = ['January', 'February', 'April', 'June', 'October', 'December']\n",
    "\n",
    "\n",
    "def laram(l1, l2):\n",
    "    result = {\n",
    "        'Matched': [],\n",
    "        'Only in l1': [],\n",
    "        'Only in l2': []\n",
    "    }\n",
    "\n",
    "    for item in l1:\n",
    "        if item in l2:\n",
    "            result['Matched'].append(item)\n",
    "        else:\n",
    "            result['Only in l1'].append(item)\n",
    "\n",
    "    for item in l2:\n",
    "        if item not in l1:\n",
    "            result['Only in l2'].append(item)\n",
    "\n",
    "    return result\n",
    "\n",
    "l1 = ['January', 'February', 'March', 'May', 'June', 'September', 'December']\n",
    "l2 = ['January', 'February', 'April', 'June', 'October', 'December']\n",
    "output = laram(l1, l2)\n",
    "print(output)\n"
   ]
  },
  {
   "cell_type": "raw",
   "metadata": {
    "collapsed": true
   },
   "source": [
    "Q13: write a UDF to check if a number is prime or not."
   ]
  },
  {
   "cell_type": "code",
   "execution_count": 80,
   "metadata": {},
   "outputs": [
    {
     "name": "stdout",
     "output_type": "stream",
     "text": [
      "enter the number : 9\n",
      "not a prime number\n"
     ]
    }
   ],
   "source": [
    "def checkprimeornot(laral2):\n",
    "    if laral2 <= 1:\n",
    "        return False\n",
    "    for i in range(2, int(laral2/2) + 1):\n",
    "        if laral2 % i == 0:\n",
    "            return False\n",
    "    return True\n",
    "\n",
    "lime = int(input('enter the number : '))\n",
    "sim = checkprimeornot(lime)\n",
    "if(sim):\n",
    "    print('prime number')\n",
    "elif(sim == 0):\n",
    "    print('not a prime number')\n"
   ]
  },
  {
   "cell_type": "raw",
   "metadata": {
    "collapsed": true
   },
   "source": [
    "Q14. Write a program which can compute the factorial of a given numbers. \n",
    "#   The results should be printed in a comma-separated sequence on a single line. \n",
    "# input() function can be used for getting user(console) input\n",
    "\n",
    "\n",
    "#Suppose the input is supplied to the program:  8  \n",
    "#Then, the output should be:  40320 \n",
    "#Hints: In case of input data being supplied to the question, it should be assumed to be a console input. \n"
   ]
  },
  {
   "cell_type": "code",
   "execution_count": 84,
   "metadata": {},
   "outputs": [
    {
     "name": "stdout",
     "output_type": "stream",
     "text": [
      "enter the number : 5\n"
     ]
    },
    {
     "data": {
      "text/plain": [
       "120"
      ]
     },
     "execution_count": 84,
     "metadata": {},
     "output_type": "execute_result"
    }
   ],
   "source": [
    "def factorial_of_number(facta):\n",
    "    if facta == 0:\n",
    "        return 1\n",
    "    else:\n",
    "        return facta * factorial_of_number(facta - 1)\n",
    "fara = int(input('enter the number : '))\n",
    "factorial_of_number(fara)"
   ]
  },
  {
   "cell_type": "raw",
   "metadata": {
    "collapsed": true
   },
   "source": [
    "Q15. With a given integral number n, write a program to generate a dictionary that contains (i, i*i) such that is an integral number between 1 and n (both included). and then the program should print the dictionary.\n",
    "\n",
    "#Suppose the following input is supplied to the program: 8\n",
    "#Then, the output should be: {1: 1, 2: 4, 3: 9, 4: 16, 5: 25, 6: 36, 7: 49, 8: 64}\n",
    "#Hints: In case of input data being supplied to the question, it should be assumed to be a console input. Consider using dict()\n",
    "\n"
   ]
  },
  {
   "cell_type": "code",
   "execution_count": 85,
   "metadata": {},
   "outputs": [
    {
     "name": "stdout",
     "output_type": "stream",
     "text": [
      "enter the number 8\n",
      "{1: 1, 2: 4, 3: 9, 4: 16, 5: 25, 6: 36, 7: 49, 8: 64}\n"
     ]
    }
   ],
   "source": [
    "dira = {}\n",
    "forer = int(input('enter the number '))\n",
    "for i in range(1, forer+1):\n",
    "    dira[i] = i*i\n",
    "print(dira)"
   ]
  },
  {
   "cell_type": "raw",
   "metadata": {
    "collapsed": true
   },
   "source": [
    "Q16. Write a program which accepts a sequence of comma-separated numbers from console and generate a list and a tuple which contains every number.\n",
    "#Suppose the following input is supplied to the program: 34,67,55,33,12,98\n",
    "    #Then, the output should be: ['34', '67', '55', '33', '12', '98'] ('34', '67', '55', '33', '12', '98')\n",
    "\n",
    "#Hints: In case of input data being supplied to the question, it should be assumed to be a console input. you may use tuple() method to convert list to tuple\n"
   ]
  },
  {
   "cell_type": "code",
   "execution_count": 88,
   "metadata": {},
   "outputs": [
    {
     "name": "stdout",
     "output_type": "stream",
     "text": [
      "enter the comma-seperated nubers   34,67,55,33,12,98\n",
      "['34', '67', '55', '33', '12', '98']   ('34', '67', '55', '33', '12', '98')\n"
     ]
    }
   ],
   "source": [
    "inpra = input('enter the comma-seperated nubers ')\n",
    "inpra = inpra.strip()\n",
    "inpra2 = inpra.split(\",\")\n",
    "print(inpra2 ,' ',tuple(inpra2))\n"
   ]
  },
  {
   "cell_type": "raw",
   "metadata": {
    "collapsed": true
   },
   "source": [
    "Q17. Write a program that accepts a comma separated sequence of words as input and \n",
    "# prints the words in a comma-separated sequence after sorting them alphabetically.\n",
    "\n",
    "# Suppose the following input is supplied to the program: without,hello,bag,world\n",
    "# Then, the output should be: bag,hello,without,world\n",
    "\n",
    "#Hints: In case of input data being supplied to the question, it should be assumed to be a console input.\n"
   ]
  },
  {
   "cell_type": "code",
   "execution_count": 102,
   "metadata": {},
   "outputs": [
    {
     "name": "stdout",
     "output_type": "stream",
     "text": [
      "enter the wordswithout,hello,bag,world,Then,\n",
      "bag,hello,Then,without,world,"
     ]
    }
   ],
   "source": [
    "unfildata = input(\"enter the words\")\n",
    "unfildata = unfildata.strip()\n",
    "unfildata = unfildata.split(\",\")\n",
    "unfildata = sorted(unfildata,key=lambda x: (x.lower(), x))\n",
    "for i in unfildata:\n",
    "    if(i!= None and i!=''):\n",
    "        print(i,end =',')\n",
    "    \n"
   ]
  },
  {
   "cell_type": "raw",
   "metadata": {
    "collapsed": true
   },
   "source": [
    "Q18. Write a program that accepts a sequence of whitespace separated words \n",
    "# as input and prints the words after removing all duplicate words and sorting them alphanumerically.\n",
    "# Suppose the following input is supplied to the program: hello world and practice makes perfect and hello world again\n",
    "# Then, the output should be: again and hello makes perfect practice world\n",
    "\n",
    "#Hints: In case of input data being supplied to the question, it should be assumed to be a console input.\n",
    "#We use set container to remove duplicated data automatically and then use sorted() to sort the data.\n"
   ]
  },
  {
   "cell_type": "code",
   "execution_count": 111,
   "metadata": {},
   "outputs": [
    {
     "name": "stdout",
     "output_type": "stream",
     "text": [
      "Enter a sequence of whitespace-separated words: afda king king afa\n",
      "afa afda king\n"
     ]
    }
   ],
   "source": [
    "white_space_seperated = input(\"Enter a sequence of whitespace-separated words: \")\n",
    "\n",
    "container1 = white_space_seperated.split()\n",
    "container1 =  set(container1)\n",
    "fara =  sorted(container1,reverse = False)\n",
    "print(\" \".join(fara))\n"
   ]
  },
  {
   "cell_type": "raw",
   "metadata": {
    "collapsed": true
   },
   "source": [
    "Q19. Write a program that accepts a sentence and calculate the number of upper case \n",
    "# letters and lower case letters.\n",
    "#Suppose the following input is supplied to the program: Hello world!\n",
    "#Then, the output should be: UPPER CASE 1 LOWER CASE 9\n",
    "\n",
    "#Hints: In case of input data being supplied to the question, it should be assumed to be a console input.\n"
   ]
  },
  {
   "cell_type": "code",
   "execution_count": 112,
   "metadata": {},
   "outputs": [
    {
     "name": "stdout",
     "output_type": "stream",
     "text": [
      "Enter sentence: Hello world!\n",
      " UPPER CASE:  1  LOWER CASE:  9\n"
     ]
    }
   ],
   "source": [
    "LARVE = input(\"Enter sentence: \")\n",
    "count = 0\n",
    "countl = 0\n",
    "for la in LARVE:\n",
    "    if(la.isupper()):\n",
    "        count = count+1\n",
    "    elif(la.islower()):\n",
    "        countl = countl + 1\n",
    "\n",
    "print(' UPPER CASE: ', count,' LOWER CASE: ', countl)\n"
   ]
  },
  {
   "cell_type": "raw",
   "metadata": {
    "collapsed": true
   },
   "source": [
    "Q20. Write a program that takes a string and returns reversed string. i.e. if input is \"abcd123\" output should be \"321dcba\""
   ]
  },
  {
   "cell_type": "code",
   "execution_count": 113,
   "metadata": {},
   "outputs": [
    {
     "name": "stdout",
     "output_type": "stream",
     "text": [
      "enterabcd123\n",
      "321dcba\n"
     ]
    }
   ],
   "source": [
    "stra = input('enter')\n",
    "print(stra[::-1])"
   ]
  },
  {
   "cell_type": "code",
   "execution_count": null,
   "metadata": {},
   "outputs": [],
   "source": []
  }
 ],
 "metadata": {
  "kernelspec": {
   "display_name": "Python 3 (ipykernel)",
   "language": "python",
   "name": "python3"
  },
  "language_info": {
   "codemirror_mode": {
    "name": "ipython",
    "version": 3
   },
   "file_extension": ".py",
   "mimetype": "text/x-python",
   "name": "python",
   "nbconvert_exporter": "python",
   "pygments_lexer": "ipython3",
   "version": "3.10.9"
  },
  "varInspector": {
   "cols": {
    "lenName": 16,
    "lenType": 16,
    "lenVar": 40
   },
   "kernels_config": {
    "python": {
     "delete_cmd_postfix": "",
     "delete_cmd_prefix": "del ",
     "library": "var_list.py",
     "varRefreshCmd": "print(var_dic_list())"
    },
    "r": {
     "delete_cmd_postfix": ") ",
     "delete_cmd_prefix": "rm(",
     "library": "var_list.r",
     "varRefreshCmd": "cat(var_dic_list()) "
    }
   },
   "types_to_exclude": [
    "module",
    "function",
    "builtin_function_or_method",
    "instance",
    "_Feature"
   ],
   "window_display": false
  }
 },
 "nbformat": 4,
 "nbformat_minor": 2
}
