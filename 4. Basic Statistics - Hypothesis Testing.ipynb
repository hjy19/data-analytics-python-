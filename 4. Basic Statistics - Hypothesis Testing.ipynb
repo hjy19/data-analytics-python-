{
 "cells": [
  {
   "cell_type": "markdown",
   "id": "9f774661",
   "metadata": {},
   "source": [
    "# Basic Statistics Case Study"
   ]
  },
  {
   "cell_type": "code",
   "execution_count": 1,
   "id": "1573f496",
   "metadata": {},
   "outputs": [],
   "source": [
    "import numpy as np\n",
    "import pandas as pd\n",
    "from scipy import stats\n",
    "import matplotlib.pyplot as plt\n",
    "import seaborn as sns\n",
    "import warnings\n",
    "warnings.filterwarnings('ignore')"
   ]
  },
  {
   "cell_type": "markdown",
   "id": "c1bf9699",
   "metadata": {},
   "source": [
    "## Business Problem 1"
   ]
  },
  {
   "cell_type": "code",
   "execution_count": 2,
   "id": "9f2ffdb1",
   "metadata": {},
   "outputs": [],
   "source": [
    "loans = pd.read_csv(\"LoansData.csv\")"
   ]
  },
  {
   "cell_type": "code",
   "execution_count": 11,
   "id": "3395f28c",
   "metadata": {},
   "outputs": [
    {
     "data": {
      "text/html": [
       "<div>\n",
       "<style scoped>\n",
       "    .dataframe tbody tr th:only-of-type {\n",
       "        vertical-align: middle;\n",
       "    }\n",
       "\n",
       "    .dataframe tbody tr th {\n",
       "        vertical-align: top;\n",
       "    }\n",
       "\n",
       "    .dataframe thead th {\n",
       "        text-align: right;\n",
       "    }\n",
       "</style>\n",
       "<table border=\"1\" class=\"dataframe\">\n",
       "  <thead>\n",
       "    <tr style=\"text-align: right;\">\n",
       "      <th></th>\n",
       "      <th>Amount.Requested</th>\n",
       "      <th>Amount.Funded.By.Investors</th>\n",
       "      <th>Interest.Rate</th>\n",
       "      <th>Loan.Length</th>\n",
       "      <th>Loan.Purpose</th>\n",
       "      <th>Debt.To.Income.Ratio</th>\n",
       "      <th>State</th>\n",
       "      <th>Home.Ownership</th>\n",
       "      <th>Monthly.Income</th>\n",
       "      <th>FICO.Range</th>\n",
       "      <th>Open.CREDIT.Lines</th>\n",
       "      <th>Revolving.CREDIT.Balance</th>\n",
       "      <th>Inquiries.in.the.Last.6.Months</th>\n",
       "      <th>Employment.Length</th>\n",
       "    </tr>\n",
       "  </thead>\n",
       "  <tbody>\n",
       "    <tr>\n",
       "      <th>0</th>\n",
       "      <td>20000.0</td>\n",
       "      <td>20000.00</td>\n",
       "      <td>8.90%</td>\n",
       "      <td>36 months</td>\n",
       "      <td>debt_consolidation</td>\n",
       "      <td>14.90%</td>\n",
       "      <td>SC</td>\n",
       "      <td>MORTGAGE</td>\n",
       "      <td>6541.67</td>\n",
       "      <td>735-739</td>\n",
       "      <td>14.0</td>\n",
       "      <td>14272.0</td>\n",
       "      <td>2.0</td>\n",
       "      <td>&lt; 1 year</td>\n",
       "    </tr>\n",
       "    <tr>\n",
       "      <th>1</th>\n",
       "      <td>19200.0</td>\n",
       "      <td>19200.00</td>\n",
       "      <td>12.12%</td>\n",
       "      <td>36 months</td>\n",
       "      <td>debt_consolidation</td>\n",
       "      <td>28.36%</td>\n",
       "      <td>TX</td>\n",
       "      <td>MORTGAGE</td>\n",
       "      <td>4583.33</td>\n",
       "      <td>715-719</td>\n",
       "      <td>12.0</td>\n",
       "      <td>11140.0</td>\n",
       "      <td>1.0</td>\n",
       "      <td>2 years</td>\n",
       "    </tr>\n",
       "    <tr>\n",
       "      <th>2</th>\n",
       "      <td>35000.0</td>\n",
       "      <td>35000.00</td>\n",
       "      <td>21.98%</td>\n",
       "      <td>60 months</td>\n",
       "      <td>debt_consolidation</td>\n",
       "      <td>23.81%</td>\n",
       "      <td>CA</td>\n",
       "      <td>MORTGAGE</td>\n",
       "      <td>11500.00</td>\n",
       "      <td>690-694</td>\n",
       "      <td>14.0</td>\n",
       "      <td>21977.0</td>\n",
       "      <td>1.0</td>\n",
       "      <td>2 years</td>\n",
       "    </tr>\n",
       "    <tr>\n",
       "      <th>3</th>\n",
       "      <td>10000.0</td>\n",
       "      <td>9975.00</td>\n",
       "      <td>9.99%</td>\n",
       "      <td>36 months</td>\n",
       "      <td>debt_consolidation</td>\n",
       "      <td>14.30%</td>\n",
       "      <td>KS</td>\n",
       "      <td>MORTGAGE</td>\n",
       "      <td>3833.33</td>\n",
       "      <td>695-699</td>\n",
       "      <td>10.0</td>\n",
       "      <td>9346.0</td>\n",
       "      <td>0.0</td>\n",
       "      <td>5 years</td>\n",
       "    </tr>\n",
       "    <tr>\n",
       "      <th>4</th>\n",
       "      <td>12000.0</td>\n",
       "      <td>12000.00</td>\n",
       "      <td>11.71%</td>\n",
       "      <td>36 months</td>\n",
       "      <td>credit_card</td>\n",
       "      <td>18.78%</td>\n",
       "      <td>NJ</td>\n",
       "      <td>RENT</td>\n",
       "      <td>3195.00</td>\n",
       "      <td>695-699</td>\n",
       "      <td>11.0</td>\n",
       "      <td>14469.0</td>\n",
       "      <td>0.0</td>\n",
       "      <td>9 years</td>\n",
       "    </tr>\n",
       "    <tr>\n",
       "      <th>...</th>\n",
       "      <td>...</td>\n",
       "      <td>...</td>\n",
       "      <td>...</td>\n",
       "      <td>...</td>\n",
       "      <td>...</td>\n",
       "      <td>...</td>\n",
       "      <td>...</td>\n",
       "      <td>...</td>\n",
       "      <td>...</td>\n",
       "      <td>...</td>\n",
       "      <td>...</td>\n",
       "      <td>...</td>\n",
       "      <td>...</td>\n",
       "      <td>...</td>\n",
       "    </tr>\n",
       "    <tr>\n",
       "      <th>2495</th>\n",
       "      <td>30000.0</td>\n",
       "      <td>29950.00</td>\n",
       "      <td>16.77%</td>\n",
       "      <td>60 months</td>\n",
       "      <td>debt_consolidation</td>\n",
       "      <td>19.23%</td>\n",
       "      <td>NY</td>\n",
       "      <td>MORTGAGE</td>\n",
       "      <td>9250.00</td>\n",
       "      <td>705-709</td>\n",
       "      <td>15.0</td>\n",
       "      <td>45880.0</td>\n",
       "      <td>1.0</td>\n",
       "      <td>8 years</td>\n",
       "    </tr>\n",
       "    <tr>\n",
       "      <th>2496</th>\n",
       "      <td>16000.0</td>\n",
       "      <td>16000.00</td>\n",
       "      <td>14.09%</td>\n",
       "      <td>60 months</td>\n",
       "      <td>home_improvement</td>\n",
       "      <td>21.54%</td>\n",
       "      <td>MD</td>\n",
       "      <td>OWN</td>\n",
       "      <td>8903.25</td>\n",
       "      <td>740-744</td>\n",
       "      <td>18.0</td>\n",
       "      <td>18898.0</td>\n",
       "      <td>1.0</td>\n",
       "      <td>10+ years</td>\n",
       "    </tr>\n",
       "    <tr>\n",
       "      <th>2497</th>\n",
       "      <td>10000.0</td>\n",
       "      <td>10000.00</td>\n",
       "      <td>13.99%</td>\n",
       "      <td>36 months</td>\n",
       "      <td>debt_consolidation</td>\n",
       "      <td>4.89%</td>\n",
       "      <td>PA</td>\n",
       "      <td>MORTGAGE</td>\n",
       "      <td>2166.67</td>\n",
       "      <td>680-684</td>\n",
       "      <td>4.0</td>\n",
       "      <td>4544.0</td>\n",
       "      <td>0.0</td>\n",
       "      <td>10+ years</td>\n",
       "    </tr>\n",
       "    <tr>\n",
       "      <th>2498</th>\n",
       "      <td>6000.0</td>\n",
       "      <td>6000.00</td>\n",
       "      <td>12.42%</td>\n",
       "      <td>36 months</td>\n",
       "      <td>major_purchase</td>\n",
       "      <td>16.66%</td>\n",
       "      <td>NJ</td>\n",
       "      <td>RENT</td>\n",
       "      <td>3500.00</td>\n",
       "      <td>675-679</td>\n",
       "      <td>8.0</td>\n",
       "      <td>7753.0</td>\n",
       "      <td>0.0</td>\n",
       "      <td>5 years</td>\n",
       "    </tr>\n",
       "    <tr>\n",
       "      <th>2499</th>\n",
       "      <td>9000.0</td>\n",
       "      <td>5242.75</td>\n",
       "      <td>13.79%</td>\n",
       "      <td>36 months</td>\n",
       "      <td>debt_consolidation</td>\n",
       "      <td>6.76%</td>\n",
       "      <td>NY</td>\n",
       "      <td>RENT</td>\n",
       "      <td>3875.00</td>\n",
       "      <td>670-674</td>\n",
       "      <td>7.0</td>\n",
       "      <td>7589.0</td>\n",
       "      <td>0.0</td>\n",
       "      <td>10+ years</td>\n",
       "    </tr>\n",
       "  </tbody>\n",
       "</table>\n",
       "<p>2500 rows × 14 columns</p>\n",
       "</div>"
      ],
      "text/plain": [
       "      Amount.Requested  Amount.Funded.By.Investors Interest.Rate Loan.Length   \n",
       "0              20000.0                    20000.00         8.90%   36 months  \\\n",
       "1              19200.0                    19200.00        12.12%   36 months   \n",
       "2              35000.0                    35000.00        21.98%   60 months   \n",
       "3              10000.0                     9975.00         9.99%   36 months   \n",
       "4              12000.0                    12000.00        11.71%   36 months   \n",
       "...                ...                         ...           ...         ...   \n",
       "2495           30000.0                    29950.00        16.77%   60 months   \n",
       "2496           16000.0                    16000.00        14.09%   60 months   \n",
       "2497           10000.0                    10000.00        13.99%   36 months   \n",
       "2498            6000.0                     6000.00        12.42%   36 months   \n",
       "2499            9000.0                     5242.75        13.79%   36 months   \n",
       "\n",
       "            Loan.Purpose Debt.To.Income.Ratio State Home.Ownership   \n",
       "0     debt_consolidation               14.90%    SC       MORTGAGE  \\\n",
       "1     debt_consolidation               28.36%    TX       MORTGAGE   \n",
       "2     debt_consolidation               23.81%    CA       MORTGAGE   \n",
       "3     debt_consolidation               14.30%    KS       MORTGAGE   \n",
       "4            credit_card               18.78%    NJ           RENT   \n",
       "...                  ...                  ...   ...            ...   \n",
       "2495  debt_consolidation               19.23%    NY       MORTGAGE   \n",
       "2496    home_improvement               21.54%    MD            OWN   \n",
       "2497  debt_consolidation                4.89%    PA       MORTGAGE   \n",
       "2498      major_purchase               16.66%    NJ           RENT   \n",
       "2499  debt_consolidation                6.76%    NY           RENT   \n",
       "\n",
       "      Monthly.Income FICO.Range  Open.CREDIT.Lines  Revolving.CREDIT.Balance   \n",
       "0            6541.67    735-739               14.0                   14272.0  \\\n",
       "1            4583.33    715-719               12.0                   11140.0   \n",
       "2           11500.00    690-694               14.0                   21977.0   \n",
       "3            3833.33    695-699               10.0                    9346.0   \n",
       "4            3195.00    695-699               11.0                   14469.0   \n",
       "...              ...        ...                ...                       ...   \n",
       "2495         9250.00    705-709               15.0                   45880.0   \n",
       "2496         8903.25    740-744               18.0                   18898.0   \n",
       "2497         2166.67    680-684                4.0                    4544.0   \n",
       "2498         3500.00    675-679                8.0                    7753.0   \n",
       "2499         3875.00    670-674                7.0                    7589.0   \n",
       "\n",
       "      Inquiries.in.the.Last.6.Months Employment.Length  \n",
       "0                                2.0          < 1 year  \n",
       "1                                1.0           2 years  \n",
       "2                                1.0           2 years  \n",
       "3                                0.0           5 years  \n",
       "4                                0.0           9 years  \n",
       "...                              ...               ...  \n",
       "2495                             1.0           8 years  \n",
       "2496                             1.0         10+ years  \n",
       "2497                             0.0         10+ years  \n",
       "2498                             0.0           5 years  \n",
       "2499                             0.0         10+ years  \n",
       "\n",
       "[2500 rows x 14 columns]"
      ]
     },
     "execution_count": 11,
     "metadata": {},
     "output_type": "execute_result"
    }
   ],
   "source": [
    "loans"
   ]
  },
  {
   "cell_type": "code",
   "execution_count": 3,
   "id": "5eaedf31",
   "metadata": {},
   "outputs": [
    {
     "data": {
      "text/html": [
       "<div>\n",
       "<style scoped>\n",
       "    .dataframe tbody tr th:only-of-type {\n",
       "        vertical-align: middle;\n",
       "    }\n",
       "\n",
       "    .dataframe tbody tr th {\n",
       "        vertical-align: top;\n",
       "    }\n",
       "\n",
       "    .dataframe thead th {\n",
       "        text-align: right;\n",
       "    }\n",
       "</style>\n",
       "<table border=\"1\" class=\"dataframe\">\n",
       "  <thead>\n",
       "    <tr style=\"text-align: right;\">\n",
       "      <th></th>\n",
       "      <th>Amount_Funded</th>\n",
       "      <th>Interest_Rate</th>\n",
       "      <th>Loan_Length</th>\n",
       "      <th>Loan_Purpose</th>\n",
       "      <th>Home_Ownership</th>\n",
       "      <th>FICO_Range</th>\n",
       "    </tr>\n",
       "  </thead>\n",
       "  <tbody>\n",
       "    <tr>\n",
       "      <th>0</th>\n",
       "      <td>20000.00</td>\n",
       "      <td>8.90%</td>\n",
       "      <td>36 months</td>\n",
       "      <td>debt_consolidation</td>\n",
       "      <td>MORTGAGE</td>\n",
       "      <td>735-739</td>\n",
       "    </tr>\n",
       "    <tr>\n",
       "      <th>1</th>\n",
       "      <td>19200.00</td>\n",
       "      <td>12.12%</td>\n",
       "      <td>36 months</td>\n",
       "      <td>debt_consolidation</td>\n",
       "      <td>MORTGAGE</td>\n",
       "      <td>715-719</td>\n",
       "    </tr>\n",
       "    <tr>\n",
       "      <th>2</th>\n",
       "      <td>35000.00</td>\n",
       "      <td>21.98%</td>\n",
       "      <td>60 months</td>\n",
       "      <td>debt_consolidation</td>\n",
       "      <td>MORTGAGE</td>\n",
       "      <td>690-694</td>\n",
       "    </tr>\n",
       "    <tr>\n",
       "      <th>3</th>\n",
       "      <td>9975.00</td>\n",
       "      <td>9.99%</td>\n",
       "      <td>36 months</td>\n",
       "      <td>debt_consolidation</td>\n",
       "      <td>MORTGAGE</td>\n",
       "      <td>695-699</td>\n",
       "    </tr>\n",
       "    <tr>\n",
       "      <th>4</th>\n",
       "      <td>12000.00</td>\n",
       "      <td>11.71%</td>\n",
       "      <td>36 months</td>\n",
       "      <td>credit_card</td>\n",
       "      <td>RENT</td>\n",
       "      <td>695-699</td>\n",
       "    </tr>\n",
       "    <tr>\n",
       "      <th>...</th>\n",
       "      <td>...</td>\n",
       "      <td>...</td>\n",
       "      <td>...</td>\n",
       "      <td>...</td>\n",
       "      <td>...</td>\n",
       "      <td>...</td>\n",
       "    </tr>\n",
       "    <tr>\n",
       "      <th>2495</th>\n",
       "      <td>29950.00</td>\n",
       "      <td>16.77%</td>\n",
       "      <td>60 months</td>\n",
       "      <td>debt_consolidation</td>\n",
       "      <td>MORTGAGE</td>\n",
       "      <td>705-709</td>\n",
       "    </tr>\n",
       "    <tr>\n",
       "      <th>2496</th>\n",
       "      <td>16000.00</td>\n",
       "      <td>14.09%</td>\n",
       "      <td>60 months</td>\n",
       "      <td>home_improvement</td>\n",
       "      <td>OWN</td>\n",
       "      <td>740-744</td>\n",
       "    </tr>\n",
       "    <tr>\n",
       "      <th>2497</th>\n",
       "      <td>10000.00</td>\n",
       "      <td>13.99%</td>\n",
       "      <td>36 months</td>\n",
       "      <td>debt_consolidation</td>\n",
       "      <td>MORTGAGE</td>\n",
       "      <td>680-684</td>\n",
       "    </tr>\n",
       "    <tr>\n",
       "      <th>2498</th>\n",
       "      <td>6000.00</td>\n",
       "      <td>12.42%</td>\n",
       "      <td>36 months</td>\n",
       "      <td>major_purchase</td>\n",
       "      <td>RENT</td>\n",
       "      <td>675-679</td>\n",
       "    </tr>\n",
       "    <tr>\n",
       "      <th>2499</th>\n",
       "      <td>5242.75</td>\n",
       "      <td>13.79%</td>\n",
       "      <td>36 months</td>\n",
       "      <td>debt_consolidation</td>\n",
       "      <td>RENT</td>\n",
       "      <td>670-674</td>\n",
       "    </tr>\n",
       "  </tbody>\n",
       "</table>\n",
       "<p>2500 rows × 6 columns</p>\n",
       "</div>"
      ],
      "text/plain": [
       "      Amount_Funded Interest_Rate Loan_Length        Loan_Purpose   \n",
       "0          20000.00         8.90%   36 months  debt_consolidation  \\\n",
       "1          19200.00        12.12%   36 months  debt_consolidation   \n",
       "2          35000.00        21.98%   60 months  debt_consolidation   \n",
       "3           9975.00         9.99%   36 months  debt_consolidation   \n",
       "4          12000.00        11.71%   36 months         credit_card   \n",
       "...             ...           ...         ...                 ...   \n",
       "2495       29950.00        16.77%   60 months  debt_consolidation   \n",
       "2496       16000.00        14.09%   60 months    home_improvement   \n",
       "2497       10000.00        13.99%   36 months  debt_consolidation   \n",
       "2498        6000.00        12.42%   36 months      major_purchase   \n",
       "2499        5242.75        13.79%   36 months  debt_consolidation   \n",
       "\n",
       "     Home_Ownership FICO_Range  \n",
       "0          MORTGAGE    735-739  \n",
       "1          MORTGAGE    715-719  \n",
       "2          MORTGAGE    690-694  \n",
       "3          MORTGAGE    695-699  \n",
       "4              RENT    695-699  \n",
       "...             ...        ...  \n",
       "2495       MORTGAGE    705-709  \n",
       "2496            OWN    740-744  \n",
       "2497       MORTGAGE    680-684  \n",
       "2498           RENT    675-679  \n",
       "2499           RENT    670-674  \n",
       "\n",
       "[2500 rows x 6 columns]"
      ]
     },
     "execution_count": 3,
     "metadata": {},
     "output_type": "execute_result"
    }
   ],
   "source": [
    "loans_new = loans[['Amount.Funded.By.Investors','Interest.Rate','Loan.Length','Loan.Purpose','Home.Ownership','FICO.Range']]\n",
    "# Changing the column names\n",
    "loans_new.columns = ['Amount_Funded','Interest_Rate','Loan_Length','Loan_Purpose','Home_Ownership','FICO_Range']\n",
    "loans_new"
   ]
  },
  {
   "cell_type": "code",
   "execution_count": 4,
   "id": "3f74111a",
   "metadata": {},
   "outputs": [
    {
     "data": {
      "text/plain": [
       "Amount_Funded     float64\n",
       "Interest_Rate      object\n",
       "Loan_Length        object\n",
       "Loan_Purpose       object\n",
       "Home_Ownership     object\n",
       "FICO_Range         object\n",
       "dtype: object"
      ]
     },
     "execution_count": 4,
     "metadata": {},
     "output_type": "execute_result"
    }
   ],
   "source": [
    "loans_new.dtypes"
   ]
  },
  {
   "cell_type": "code",
   "execution_count": 5,
   "id": "8b8500c1",
   "metadata": {},
   "outputs": [
    {
     "data": {
      "text/plain": [
       "Amount_Funded     float64\n",
       "Interest_Rate     float64\n",
       "Loan_Length        object\n",
       "Loan_Purpose       object\n",
       "Home_Ownership     object\n",
       "FICO_Range         object\n",
       "dtype: object"
      ]
     },
     "execution_count": 5,
     "metadata": {},
     "output_type": "execute_result"
    }
   ],
   "source": [
    "# Removing the '%'' sign\n",
    "loans_new['Interest_Rate'] = loans_new.Interest_Rate.str[:-1]\n",
    "# Changing the data type\n",
    "loans_new[['Interest_Rate']] = loans_new[['Interest_Rate']].astype('float64')\n",
    "loans_new.dtypes"
   ]
  },
  {
   "cell_type": "code",
   "execution_count": 6,
   "id": "f3496aed",
   "metadata": {},
   "outputs": [
    {
     "data": {
      "text/plain": [
       "Amount_Funded     1\n",
       "Interest_Rate     2\n",
       "Loan_Length       0\n",
       "Loan_Purpose      0\n",
       "Home_Ownership    1\n",
       "FICO_Range        2\n",
       "dtype: int64"
      ]
     },
     "execution_count": 6,
     "metadata": {},
     "output_type": "execute_result"
    }
   ],
   "source": [
    "loans_new.isna().sum()"
   ]
  },
  {
   "cell_type": "code",
   "execution_count": 7,
   "id": "6000dade",
   "metadata": {},
   "outputs": [
    {
     "data": {
      "text/plain": [
       "Amount_Funded     0\n",
       "Interest_Rate     0\n",
       "Loan_Length       0\n",
       "Loan_Purpose      0\n",
       "Home_Ownership    0\n",
       "FICO_Range        0\n",
       "dtype: int64"
      ]
     },
     "execution_count": 7,
     "metadata": {},
     "output_type": "execute_result"
    }
   ],
   "source": [
    "loans_new.dropna(inplace=True)\n",
    "loans_new.isna().sum()"
   ]
  },
  {
   "cell_type": "markdown",
   "id": "d5469959",
   "metadata": {},
   "source": [
    "### Using lending club loans data, the team would like to test below hypothesis on how different factors effecing each other (Hint: You may leverage hypothesis testing using statistical tests)"
   ]
  },
  {
   "cell_type": "markdown",
   "id": "1462e49e",
   "metadata": {},
   "source": [
    "### a. Interest rate is varied for different loan amounts (Less interest charged for high loan amounts)"
   ]
  },
  {
   "cell_type": "markdown",
   "id": "6b27e6ef",
   "metadata": {},
   "source": [
    "> H0: Interest rate is not varied for different loan amounts <br>\n",
    "  H1: Interest rate is  varied for different loan amounts"
   ]
  },
  {
   "cell_type": "code",
   "execution_count": 8,
   "id": "96702d96",
   "metadata": {},
   "outputs": [
    {
     "data": {
      "text/plain": [
       "PearsonRResult(statistic=0.3371393701762254, pvalue=2.413773962974798e-67)"
      ]
     },
     "execution_count": 8,
     "metadata": {},
     "output_type": "execute_result"
    }
   ],
   "source": [
    "stats.pearsonr(loans_new.Interest_Rate,loans_new.Amount_Funded)"
   ]
  },
  {
   "cell_type": "markdown",
   "id": "5197496e",
   "metadata": {},
   "source": [
    "Here p value is lesser than 0.05. So we  reject null hypothesis with 95% confidence level"
   ]
  },
  {
   "cell_type": "markdown",
   "id": "8c96fdc6",
   "metadata": {},
   "source": [
    "#####  Interest rate is  varied for different loan amounts (Less interest charged for high loan amounts)"
   ]
  },
  {
   "cell_type": "markdown",
   "id": "8c0a3236",
   "metadata": {},
   "source": [
    "### b. Loan length is directly effecting interest rate.\n"
   ]
  },
  {
   "cell_type": "markdown",
   "id": "63f79794",
   "metadata": {},
   "source": [
    "> H0: Loan length is not directly effecting interest rate <br>\n",
    "  H1: Loan length is  directly effecting interest rate"
   ]
  },
  {
   "cell_type": "code",
   "execution_count": 9,
   "id": "f1373b78",
   "metadata": {},
   "outputs": [
    {
     "data": {
      "text/html": [
       "<div>\n",
       "<style scoped>\n",
       "    .dataframe tbody tr th:only-of-type {\n",
       "        vertical-align: middle;\n",
       "    }\n",
       "\n",
       "    .dataframe tbody tr th {\n",
       "        vertical-align: top;\n",
       "    }\n",
       "\n",
       "    .dataframe thead th {\n",
       "        text-align: right;\n",
       "    }\n",
       "</style>\n",
       "<table border=\"1\" class=\"dataframe\">\n",
       "  <thead>\n",
       "    <tr style=\"text-align: right;\">\n",
       "      <th></th>\n",
       "      <th>Amount_Funded</th>\n",
       "      <th>Interest_Rate</th>\n",
       "      <th>Loan_Length</th>\n",
       "      <th>Loan_Purpose</th>\n",
       "      <th>Home_Ownership</th>\n",
       "      <th>FICO_Range</th>\n",
       "    </tr>\n",
       "  </thead>\n",
       "  <tbody>\n",
       "    <tr>\n",
       "      <th>0</th>\n",
       "      <td>20000.00</td>\n",
       "      <td>8.90</td>\n",
       "      <td>36 months</td>\n",
       "      <td>debt_consolidation</td>\n",
       "      <td>MORTGAGE</td>\n",
       "      <td>735-739</td>\n",
       "    </tr>\n",
       "    <tr>\n",
       "      <th>1</th>\n",
       "      <td>19200.00</td>\n",
       "      <td>12.12</td>\n",
       "      <td>36 months</td>\n",
       "      <td>debt_consolidation</td>\n",
       "      <td>MORTGAGE</td>\n",
       "      <td>715-719</td>\n",
       "    </tr>\n",
       "    <tr>\n",
       "      <th>2</th>\n",
       "      <td>35000.00</td>\n",
       "      <td>21.98</td>\n",
       "      <td>60 months</td>\n",
       "      <td>debt_consolidation</td>\n",
       "      <td>MORTGAGE</td>\n",
       "      <td>690-694</td>\n",
       "    </tr>\n",
       "    <tr>\n",
       "      <th>3</th>\n",
       "      <td>9975.00</td>\n",
       "      <td>9.99</td>\n",
       "      <td>36 months</td>\n",
       "      <td>debt_consolidation</td>\n",
       "      <td>MORTGAGE</td>\n",
       "      <td>695-699</td>\n",
       "    </tr>\n",
       "    <tr>\n",
       "      <th>4</th>\n",
       "      <td>12000.00</td>\n",
       "      <td>11.71</td>\n",
       "      <td>36 months</td>\n",
       "      <td>credit_card</td>\n",
       "      <td>RENT</td>\n",
       "      <td>695-699</td>\n",
       "    </tr>\n",
       "    <tr>\n",
       "      <th>...</th>\n",
       "      <td>...</td>\n",
       "      <td>...</td>\n",
       "      <td>...</td>\n",
       "      <td>...</td>\n",
       "      <td>...</td>\n",
       "      <td>...</td>\n",
       "    </tr>\n",
       "    <tr>\n",
       "      <th>2495</th>\n",
       "      <td>29950.00</td>\n",
       "      <td>16.77</td>\n",
       "      <td>60 months</td>\n",
       "      <td>debt_consolidation</td>\n",
       "      <td>MORTGAGE</td>\n",
       "      <td>705-709</td>\n",
       "    </tr>\n",
       "    <tr>\n",
       "      <th>2496</th>\n",
       "      <td>16000.00</td>\n",
       "      <td>14.09</td>\n",
       "      <td>60 months</td>\n",
       "      <td>home_improvement</td>\n",
       "      <td>OWN</td>\n",
       "      <td>740-744</td>\n",
       "    </tr>\n",
       "    <tr>\n",
       "      <th>2497</th>\n",
       "      <td>10000.00</td>\n",
       "      <td>13.99</td>\n",
       "      <td>36 months</td>\n",
       "      <td>debt_consolidation</td>\n",
       "      <td>MORTGAGE</td>\n",
       "      <td>680-684</td>\n",
       "    </tr>\n",
       "    <tr>\n",
       "      <th>2498</th>\n",
       "      <td>6000.00</td>\n",
       "      <td>12.42</td>\n",
       "      <td>36 months</td>\n",
       "      <td>major_purchase</td>\n",
       "      <td>RENT</td>\n",
       "      <td>675-679</td>\n",
       "    </tr>\n",
       "    <tr>\n",
       "      <th>2499</th>\n",
       "      <td>5242.75</td>\n",
       "      <td>13.79</td>\n",
       "      <td>36 months</td>\n",
       "      <td>debt_consolidation</td>\n",
       "      <td>RENT</td>\n",
       "      <td>670-674</td>\n",
       "    </tr>\n",
       "  </tbody>\n",
       "</table>\n",
       "<p>2494 rows × 6 columns</p>\n",
       "</div>"
      ],
      "text/plain": [
       "      Amount_Funded  Interest_Rate Loan_Length        Loan_Purpose   \n",
       "0          20000.00           8.90   36 months  debt_consolidation  \\\n",
       "1          19200.00          12.12   36 months  debt_consolidation   \n",
       "2          35000.00          21.98   60 months  debt_consolidation   \n",
       "3           9975.00           9.99   36 months  debt_consolidation   \n",
       "4          12000.00          11.71   36 months         credit_card   \n",
       "...             ...            ...         ...                 ...   \n",
       "2495       29950.00          16.77   60 months  debt_consolidation   \n",
       "2496       16000.00          14.09   60 months    home_improvement   \n",
       "2497       10000.00          13.99   36 months  debt_consolidation   \n",
       "2498        6000.00          12.42   36 months      major_purchase   \n",
       "2499        5242.75          13.79   36 months  debt_consolidation   \n",
       "\n",
       "     Home_Ownership FICO_Range  \n",
       "0          MORTGAGE    735-739  \n",
       "1          MORTGAGE    715-719  \n",
       "2          MORTGAGE    690-694  \n",
       "3          MORTGAGE    695-699  \n",
       "4              RENT    695-699  \n",
       "...             ...        ...  \n",
       "2495       MORTGAGE    705-709  \n",
       "2496            OWN    740-744  \n",
       "2497       MORTGAGE    680-684  \n",
       "2498           RENT    675-679  \n",
       "2499           RENT    670-674  \n",
       "\n",
       "[2494 rows x 6 columns]"
      ]
     },
     "execution_count": 9,
     "metadata": {},
     "output_type": "execute_result"
    }
   ],
   "source": [
    "loans_new"
   ]
  },
  {
   "cell_type": "code",
   "execution_count": 10,
   "id": "cbf8b74f",
   "metadata": {},
   "outputs": [
    {
     "data": {
      "text/plain": [
       "(13.55978785692633, 17.00280360268264)"
      ]
     },
     "execution_count": 10,
     "metadata": {},
     "output_type": "execute_result"
    }
   ],
   "source": [
    "# Calculating the variances of two groups\n",
    "np.var(loans_new.Interest_Rate.loc[loans_new.Loan_Length == '36 months']),np.var(loans_new.Interest_Rate.loc[loans_new.Loan_Length == '60 months'])"
   ]
  },
  {
   "cell_type": "markdown",
   "id": "3eb0ea5d",
   "metadata": {},
   "source": [
    "If the ratio of the larger data groups to the small data group is greater than 4:1 then we can consider that the given data groups have unequal variance."
   ]
  },
  {
   "cell_type": "code",
   "execution_count": 11,
   "id": "70e992d2",
   "metadata": {},
   "outputs": [
    {
     "data": {
      "text/plain": [
       "Ttest_indResult(statistic=-23.39876357348193, pvalue=1.2648546928005904e-109)"
      ]
     },
     "execution_count": 11,
     "metadata": {},
     "output_type": "execute_result"
    }
   ],
   "source": [
    "stats.ttest_ind(loans_new.Interest_Rate.loc[loans_new.Loan_Length == '36 months'],\n",
    "               loans_new.Interest_Rate.loc[loans_new.Loan_Length == '60 months']) "
   ]
  },
  {
   "cell_type": "markdown",
   "id": "d83ea008",
   "metadata": {},
   "source": [
    "Here p value is lesser than 0.05. So we  reject null hypothesis with 95% confidence level"
   ]
  },
  {
   "cell_type": "markdown",
   "id": "96143eae",
   "metadata": {},
   "source": [
    "##### Loan length is directly affecting interest rate"
   ]
  },
  {
   "cell_type": "markdown",
   "id": "2074b513",
   "metadata": {},
   "source": [
    "### c. Interest rate varies for different purpose of loans"
   ]
  },
  {
   "cell_type": "markdown",
   "id": "e8af43b7",
   "metadata": {},
   "source": [
    "> H0: Interest rate is not varied for different purpose of loans <br>\n",
    "  H1: Interest rate is  varied for different purpose of loans"
   ]
  },
  {
   "cell_type": "code",
   "execution_count": 12,
   "id": "75709407",
   "metadata": {},
   "outputs": [
    {
     "data": {
      "text/plain": [
       "Loan_Purpose\n",
       "debt_consolidation    1303\n",
       "credit_card            443\n",
       "other                  201\n",
       "home_improvement       152\n",
       "major_purchase         101\n",
       "small_business          87\n",
       "car                     50\n",
       "wedding                 38\n",
       "medical                 30\n",
       "moving                  29\n",
       "vacation                21\n",
       "house                   20\n",
       "educational             15\n",
       "renewable_energy         4\n",
       "Name: count, dtype: int64"
      ]
     },
     "execution_count": 12,
     "metadata": {},
     "output_type": "execute_result"
    }
   ],
   "source": [
    "loans_new.Loan_Purpose.value_counts()"
   ]
  },
  {
   "cell_type": "code",
   "execution_count": 13,
   "id": "f0e0da32",
   "metadata": {},
   "outputs": [],
   "source": [
    "x = list(loans_new.Loan_Purpose.unique())"
   ]
  },
  {
   "cell_type": "code",
   "execution_count": 14,
   "id": "f9eeec8e",
   "metadata": {},
   "outputs": [
    {
     "data": {
      "text/plain": [
       "['debt_consolidation',\n",
       " 'credit_card',\n",
       " 'other',\n",
       " 'moving',\n",
       " 'car',\n",
       " 'vacation',\n",
       " 'home_improvement',\n",
       " 'house',\n",
       " 'major_purchase',\n",
       " 'educational',\n",
       " 'medical',\n",
       " 'wedding',\n",
       " 'small_business',\n",
       " 'renewable_energy']"
      ]
     },
     "execution_count": 14,
     "metadata": {},
     "output_type": "execute_result"
    }
   ],
   "source": [
    "x"
   ]
  },
  {
   "cell_type": "code",
   "execution_count": 15,
   "id": "57d76f6d",
   "metadata": {},
   "outputs": [
    {
     "data": {
      "text/plain": [
       "F_onewayResult(statistic=7.478282787988784, pvalue=1.1904672506941616e-14)"
      ]
     },
     "execution_count": 15,
     "metadata": {},
     "output_type": "execute_result"
    }
   ],
   "source": [
    "stats.f_oneway(*(loans_new.Interest_Rate.loc[loans_new['Loan_Purpose']==loan_purpose] \n",
    " for loan_purpose in loans_new['Loan_Purpose'].unique()))"
   ]
  },
  {
   "cell_type": "markdown",
   "id": "ed57c6aa",
   "metadata": {},
   "source": [
    "Here p value is lesser than 0.05. So we  reject null hypothesis with 95% confidence level"
   ]
  },
  {
   "cell_type": "markdown",
   "id": "da33d25d",
   "metadata": {},
   "source": [
    "#### Interest rate is varied for different purpose of loans"
   ]
  },
  {
   "cell_type": "markdown",
   "id": "d12be4a0",
   "metadata": {},
   "source": [
    "### d. There is relationship between FICO scores and Home Ownership. It means that, People with owning home will have high FICO scores."
   ]
  },
  {
   "cell_type": "markdown",
   "id": "f527b398",
   "metadata": {},
   "source": [
    "> H0 : There is no relationship between FICO scores and Home Owneship <br>\n",
    "H1: There is  relationship between FICO scores and Home Owneship"
   ]
  },
  {
   "cell_type": "code",
   "execution_count": 16,
   "id": "069c1f87",
   "metadata": {},
   "outputs": [
    {
     "data": {
      "text/plain": [
       "Home_Ownership\n",
       "MORTGAGE    1145\n",
       "RENT        1143\n",
       "OWN          200\n",
       "OTHER          5\n",
       "NONE           1\n",
       "Name: count, dtype: int64"
      ]
     },
     "execution_count": 16,
     "metadata": {},
     "output_type": "execute_result"
    }
   ],
   "source": [
    "loans_new.Home_Ownership.value_counts()"
   ]
  },
  {
   "cell_type": "code",
   "execution_count": 17,
   "id": "f38be1be",
   "metadata": {},
   "outputs": [
    {
     "data": {
      "text/plain": [
       "FICO_Range\n",
       "670-674    171\n",
       "675-679    166\n",
       "680-684    157\n",
       "695-699    153\n",
       "665-669    145\n",
       "690-694    139\n",
       "685-689    136\n",
       "705-709    134\n",
       "700-704    131\n",
       "660-664    124\n",
       "720-724    114\n",
       "710-714    110\n",
       "730-734     94\n",
       "725-729     94\n",
       "715-719     93\n",
       "735-739     65\n",
       "750-754     61\n",
       "745-749     54\n",
       "740-744     53\n",
       "755-759     46\n",
       "760-764     46\n",
       "765-769     36\n",
       "780-784     28\n",
       "775-779     22\n",
       "790-794     20\n",
       "785-789     19\n",
       "770-774     17\n",
       "800-804     13\n",
       "795-799     13\n",
       "805-809     11\n",
       "810-814      8\n",
       "815-819      6\n",
       "640-644      5\n",
       "655-659      4\n",
       "645-649      3\n",
       "830-834      1\n",
       "820-824      1\n",
       "650-654      1\n",
       "Name: count, dtype: int64"
      ]
     },
     "execution_count": 17,
     "metadata": {},
     "output_type": "execute_result"
    }
   ],
   "source": [
    "loans_new.FICO_Range.value_counts()"
   ]
  },
  {
   "cell_type": "code",
   "execution_count": 18,
   "id": "944c28ac",
   "metadata": {},
   "outputs": [],
   "source": [
    "y = pd.crosstab(loans_new.FICO_Range,loans_new.Home_Ownership,margins=True)"
   ]
  },
  {
   "cell_type": "code",
   "execution_count": 19,
   "id": "85fd02c6",
   "metadata": {},
   "outputs": [
    {
     "data": {
      "text/html": [
       "<div>\n",
       "<style scoped>\n",
       "    .dataframe tbody tr th:only-of-type {\n",
       "        vertical-align: middle;\n",
       "    }\n",
       "\n",
       "    .dataframe tbody tr th {\n",
       "        vertical-align: top;\n",
       "    }\n",
       "\n",
       "    .dataframe thead th {\n",
       "        text-align: right;\n",
       "    }\n",
       "</style>\n",
       "<table border=\"1\" class=\"dataframe\">\n",
       "  <thead>\n",
       "    <tr style=\"text-align: right;\">\n",
       "      <th>Home_Ownership</th>\n",
       "      <th>MORTGAGE</th>\n",
       "      <th>NONE</th>\n",
       "      <th>OTHER</th>\n",
       "      <th>OWN</th>\n",
       "      <th>RENT</th>\n",
       "      <th>All</th>\n",
       "    </tr>\n",
       "    <tr>\n",
       "      <th>FICO_Range</th>\n",
       "      <th></th>\n",
       "      <th></th>\n",
       "      <th></th>\n",
       "      <th></th>\n",
       "      <th></th>\n",
       "      <th></th>\n",
       "    </tr>\n",
       "  </thead>\n",
       "  <tbody>\n",
       "    <tr>\n",
       "      <th>640-644</th>\n",
       "      <td>0</td>\n",
       "      <td>0</td>\n",
       "      <td>0</td>\n",
       "      <td>1</td>\n",
       "      <td>4</td>\n",
       "      <td>5</td>\n",
       "    </tr>\n",
       "    <tr>\n",
       "      <th>645-649</th>\n",
       "      <td>1</td>\n",
       "      <td>0</td>\n",
       "      <td>0</td>\n",
       "      <td>0</td>\n",
       "      <td>2</td>\n",
       "      <td>3</td>\n",
       "    </tr>\n",
       "    <tr>\n",
       "      <th>650-654</th>\n",
       "      <td>1</td>\n",
       "      <td>0</td>\n",
       "      <td>0</td>\n",
       "      <td>0</td>\n",
       "      <td>0</td>\n",
       "      <td>1</td>\n",
       "    </tr>\n",
       "    <tr>\n",
       "      <th>655-659</th>\n",
       "      <td>0</td>\n",
       "      <td>0</td>\n",
       "      <td>1</td>\n",
       "      <td>0</td>\n",
       "      <td>3</td>\n",
       "      <td>4</td>\n",
       "    </tr>\n",
       "    <tr>\n",
       "      <th>660-664</th>\n",
       "      <td>41</td>\n",
       "      <td>0</td>\n",
       "      <td>0</td>\n",
       "      <td>17</td>\n",
       "      <td>66</td>\n",
       "      <td>124</td>\n",
       "    </tr>\n",
       "    <tr>\n",
       "      <th>665-669</th>\n",
       "      <td>52</td>\n",
       "      <td>0</td>\n",
       "      <td>0</td>\n",
       "      <td>18</td>\n",
       "      <td>75</td>\n",
       "      <td>145</td>\n",
       "    </tr>\n",
       "    <tr>\n",
       "      <th>670-674</th>\n",
       "      <td>67</td>\n",
       "      <td>0</td>\n",
       "      <td>1</td>\n",
       "      <td>13</td>\n",
       "      <td>90</td>\n",
       "      <td>171</td>\n",
       "    </tr>\n",
       "    <tr>\n",
       "      <th>675-679</th>\n",
       "      <td>79</td>\n",
       "      <td>0</td>\n",
       "      <td>1</td>\n",
       "      <td>11</td>\n",
       "      <td>75</td>\n",
       "      <td>166</td>\n",
       "    </tr>\n",
       "    <tr>\n",
       "      <th>680-684</th>\n",
       "      <td>55</td>\n",
       "      <td>0</td>\n",
       "      <td>2</td>\n",
       "      <td>9</td>\n",
       "      <td>91</td>\n",
       "      <td>157</td>\n",
       "    </tr>\n",
       "    <tr>\n",
       "      <th>685-689</th>\n",
       "      <td>61</td>\n",
       "      <td>0</td>\n",
       "      <td>0</td>\n",
       "      <td>10</td>\n",
       "      <td>65</td>\n",
       "      <td>136</td>\n",
       "    </tr>\n",
       "    <tr>\n",
       "      <th>690-694</th>\n",
       "      <td>54</td>\n",
       "      <td>0</td>\n",
       "      <td>0</td>\n",
       "      <td>10</td>\n",
       "      <td>75</td>\n",
       "      <td>139</td>\n",
       "    </tr>\n",
       "    <tr>\n",
       "      <th>695-699</th>\n",
       "      <td>68</td>\n",
       "      <td>0</td>\n",
       "      <td>0</td>\n",
       "      <td>10</td>\n",
       "      <td>75</td>\n",
       "      <td>153</td>\n",
       "    </tr>\n",
       "    <tr>\n",
       "      <th>700-704</th>\n",
       "      <td>60</td>\n",
       "      <td>0</td>\n",
       "      <td>0</td>\n",
       "      <td>12</td>\n",
       "      <td>59</td>\n",
       "      <td>131</td>\n",
       "    </tr>\n",
       "    <tr>\n",
       "      <th>705-709</th>\n",
       "      <td>66</td>\n",
       "      <td>0</td>\n",
       "      <td>0</td>\n",
       "      <td>12</td>\n",
       "      <td>56</td>\n",
       "      <td>134</td>\n",
       "    </tr>\n",
       "    <tr>\n",
       "      <th>710-714</th>\n",
       "      <td>54</td>\n",
       "      <td>0</td>\n",
       "      <td>0</td>\n",
       "      <td>10</td>\n",
       "      <td>46</td>\n",
       "      <td>110</td>\n",
       "    </tr>\n",
       "    <tr>\n",
       "      <th>715-719</th>\n",
       "      <td>46</td>\n",
       "      <td>0</td>\n",
       "      <td>0</td>\n",
       "      <td>2</td>\n",
       "      <td>45</td>\n",
       "      <td>93</td>\n",
       "    </tr>\n",
       "    <tr>\n",
       "      <th>720-724</th>\n",
       "      <td>49</td>\n",
       "      <td>0</td>\n",
       "      <td>0</td>\n",
       "      <td>1</td>\n",
       "      <td>64</td>\n",
       "      <td>114</td>\n",
       "    </tr>\n",
       "    <tr>\n",
       "      <th>725-729</th>\n",
       "      <td>48</td>\n",
       "      <td>0</td>\n",
       "      <td>0</td>\n",
       "      <td>5</td>\n",
       "      <td>41</td>\n",
       "      <td>94</td>\n",
       "    </tr>\n",
       "    <tr>\n",
       "      <th>730-734</th>\n",
       "      <td>46</td>\n",
       "      <td>0</td>\n",
       "      <td>0</td>\n",
       "      <td>7</td>\n",
       "      <td>41</td>\n",
       "      <td>94</td>\n",
       "    </tr>\n",
       "    <tr>\n",
       "      <th>735-739</th>\n",
       "      <td>30</td>\n",
       "      <td>0</td>\n",
       "      <td>0</td>\n",
       "      <td>6</td>\n",
       "      <td>29</td>\n",
       "      <td>65</td>\n",
       "    </tr>\n",
       "    <tr>\n",
       "      <th>740-744</th>\n",
       "      <td>26</td>\n",
       "      <td>0</td>\n",
       "      <td>0</td>\n",
       "      <td>4</td>\n",
       "      <td>23</td>\n",
       "      <td>53</td>\n",
       "    </tr>\n",
       "    <tr>\n",
       "      <th>745-749</th>\n",
       "      <td>26</td>\n",
       "      <td>0</td>\n",
       "      <td>0</td>\n",
       "      <td>7</td>\n",
       "      <td>21</td>\n",
       "      <td>54</td>\n",
       "    </tr>\n",
       "    <tr>\n",
       "      <th>750-754</th>\n",
       "      <td>32</td>\n",
       "      <td>0</td>\n",
       "      <td>0</td>\n",
       "      <td>4</td>\n",
       "      <td>25</td>\n",
       "      <td>61</td>\n",
       "    </tr>\n",
       "    <tr>\n",
       "      <th>755-759</th>\n",
       "      <td>28</td>\n",
       "      <td>0</td>\n",
       "      <td>0</td>\n",
       "      <td>6</td>\n",
       "      <td>12</td>\n",
       "      <td>46</td>\n",
       "    </tr>\n",
       "    <tr>\n",
       "      <th>760-764</th>\n",
       "      <td>28</td>\n",
       "      <td>0</td>\n",
       "      <td>0</td>\n",
       "      <td>4</td>\n",
       "      <td>14</td>\n",
       "      <td>46</td>\n",
       "    </tr>\n",
       "    <tr>\n",
       "      <th>765-769</th>\n",
       "      <td>22</td>\n",
       "      <td>0</td>\n",
       "      <td>0</td>\n",
       "      <td>3</td>\n",
       "      <td>11</td>\n",
       "      <td>36</td>\n",
       "    </tr>\n",
       "    <tr>\n",
       "      <th>770-774</th>\n",
       "      <td>12</td>\n",
       "      <td>0</td>\n",
       "      <td>0</td>\n",
       "      <td>1</td>\n",
       "      <td>4</td>\n",
       "      <td>17</td>\n",
       "    </tr>\n",
       "    <tr>\n",
       "      <th>775-779</th>\n",
       "      <td>13</td>\n",
       "      <td>0</td>\n",
       "      <td>0</td>\n",
       "      <td>3</td>\n",
       "      <td>6</td>\n",
       "      <td>22</td>\n",
       "    </tr>\n",
       "    <tr>\n",
       "      <th>780-784</th>\n",
       "      <td>21</td>\n",
       "      <td>0</td>\n",
       "      <td>0</td>\n",
       "      <td>3</td>\n",
       "      <td>4</td>\n",
       "      <td>28</td>\n",
       "    </tr>\n",
       "    <tr>\n",
       "      <th>785-789</th>\n",
       "      <td>12</td>\n",
       "      <td>0</td>\n",
       "      <td>0</td>\n",
       "      <td>2</td>\n",
       "      <td>5</td>\n",
       "      <td>19</td>\n",
       "    </tr>\n",
       "    <tr>\n",
       "      <th>790-794</th>\n",
       "      <td>15</td>\n",
       "      <td>0</td>\n",
       "      <td>0</td>\n",
       "      <td>1</td>\n",
       "      <td>4</td>\n",
       "      <td>20</td>\n",
       "    </tr>\n",
       "    <tr>\n",
       "      <th>795-799</th>\n",
       "      <td>7</td>\n",
       "      <td>0</td>\n",
       "      <td>0</td>\n",
       "      <td>1</td>\n",
       "      <td>5</td>\n",
       "      <td>13</td>\n",
       "    </tr>\n",
       "    <tr>\n",
       "      <th>800-804</th>\n",
       "      <td>7</td>\n",
       "      <td>1</td>\n",
       "      <td>0</td>\n",
       "      <td>3</td>\n",
       "      <td>2</td>\n",
       "      <td>13</td>\n",
       "    </tr>\n",
       "    <tr>\n",
       "      <th>805-809</th>\n",
       "      <td>6</td>\n",
       "      <td>0</td>\n",
       "      <td>0</td>\n",
       "      <td>2</td>\n",
       "      <td>3</td>\n",
       "      <td>11</td>\n",
       "    </tr>\n",
       "    <tr>\n",
       "      <th>810-814</th>\n",
       "      <td>5</td>\n",
       "      <td>0</td>\n",
       "      <td>0</td>\n",
       "      <td>1</td>\n",
       "      <td>2</td>\n",
       "      <td>8</td>\n",
       "    </tr>\n",
       "    <tr>\n",
       "      <th>815-819</th>\n",
       "      <td>6</td>\n",
       "      <td>0</td>\n",
       "      <td>0</td>\n",
       "      <td>0</td>\n",
       "      <td>0</td>\n",
       "      <td>6</td>\n",
       "    </tr>\n",
       "    <tr>\n",
       "      <th>820-824</th>\n",
       "      <td>0</td>\n",
       "      <td>0</td>\n",
       "      <td>0</td>\n",
       "      <td>1</td>\n",
       "      <td>0</td>\n",
       "      <td>1</td>\n",
       "    </tr>\n",
       "    <tr>\n",
       "      <th>830-834</th>\n",
       "      <td>1</td>\n",
       "      <td>0</td>\n",
       "      <td>0</td>\n",
       "      <td>0</td>\n",
       "      <td>0</td>\n",
       "      <td>1</td>\n",
       "    </tr>\n",
       "    <tr>\n",
       "      <th>All</th>\n",
       "      <td>1145</td>\n",
       "      <td>1</td>\n",
       "      <td>5</td>\n",
       "      <td>200</td>\n",
       "      <td>1143</td>\n",
       "      <td>2494</td>\n",
       "    </tr>\n",
       "  </tbody>\n",
       "</table>\n",
       "</div>"
      ],
      "text/plain": [
       "Home_Ownership  MORTGAGE  NONE  OTHER  OWN  RENT   All\n",
       "FICO_Range                                            \n",
       "640-644                0     0      0    1     4     5\n",
       "645-649                1     0      0    0     2     3\n",
       "650-654                1     0      0    0     0     1\n",
       "655-659                0     0      1    0     3     4\n",
       "660-664               41     0      0   17    66   124\n",
       "665-669               52     0      0   18    75   145\n",
       "670-674               67     0      1   13    90   171\n",
       "675-679               79     0      1   11    75   166\n",
       "680-684               55     0      2    9    91   157\n",
       "685-689               61     0      0   10    65   136\n",
       "690-694               54     0      0   10    75   139\n",
       "695-699               68     0      0   10    75   153\n",
       "700-704               60     0      0   12    59   131\n",
       "705-709               66     0      0   12    56   134\n",
       "710-714               54     0      0   10    46   110\n",
       "715-719               46     0      0    2    45    93\n",
       "720-724               49     0      0    1    64   114\n",
       "725-729               48     0      0    5    41    94\n",
       "730-734               46     0      0    7    41    94\n",
       "735-739               30     0      0    6    29    65\n",
       "740-744               26     0      0    4    23    53\n",
       "745-749               26     0      0    7    21    54\n",
       "750-754               32     0      0    4    25    61\n",
       "755-759               28     0      0    6    12    46\n",
       "760-764               28     0      0    4    14    46\n",
       "765-769               22     0      0    3    11    36\n",
       "770-774               12     0      0    1     4    17\n",
       "775-779               13     0      0    3     6    22\n",
       "780-784               21     0      0    3     4    28\n",
       "785-789               12     0      0    2     5    19\n",
       "790-794               15     0      0    1     4    20\n",
       "795-799                7     0      0    1     5    13\n",
       "800-804                7     1      0    3     2    13\n",
       "805-809                6     0      0    2     3    11\n",
       "810-814                5     0      0    1     2     8\n",
       "815-819                6     0      0    0     0     6\n",
       "820-824                0     0      0    1     0     1\n",
       "830-834                1     0      0    0     0     1\n",
       "All                 1145     1      5  200  1143  2494"
      ]
     },
     "execution_count": 19,
     "metadata": {},
     "output_type": "execute_result"
    }
   ],
   "source": [
    "y"
   ]
  },
  {
   "cell_type": "code",
   "execution_count": 20,
   "id": "59dde486",
   "metadata": {},
   "outputs": [
    {
     "data": {
      "text/plain": [
       "(472.87112497585156,\n",
       " 4.2471616255039004e-26,\n",
       " 190,\n",
       " array([[2.29550922e+00, 2.00481155e-03, 1.00240577e-02, 4.00962310e-01,\n",
       "         2.29149960e+00, 5.00000000e+00],\n",
       "        [1.37730553e+00, 1.20288693e-03, 6.01443464e-03, 2.40577386e-01,\n",
       "         1.37489976e+00, 3.00000000e+00],\n",
       "        [4.59101844e-01, 4.00962310e-04, 2.00481155e-03, 8.01924619e-02,\n",
       "         4.58299920e-01, 1.00000000e+00],\n",
       "        [1.83640738e+00, 1.60384924e-03, 8.01924619e-03, 3.20769848e-01,\n",
       "         1.83319968e+00, 4.00000000e+00],\n",
       "        [5.69286287e+01, 4.97193264e-02, 2.48596632e-01, 9.94386528e+00,\n",
       "         5.68291901e+01, 1.24000000e+02],\n",
       "        [6.65697674e+01, 5.81395349e-02, 2.90697674e-01, 1.16279070e+01,\n",
       "         6.64534884e+01, 1.45000000e+02],\n",
       "        [7.85064154e+01, 6.85645549e-02, 3.42822775e-01, 1.37129110e+01,\n",
       "         7.83692863e+01, 1.71000000e+02],\n",
       "        [7.62109062e+01, 6.65597434e-02, 3.32798717e-01, 1.33119487e+01,\n",
       "         7.60777867e+01, 1.66000000e+02],\n",
       "        [7.20789896e+01, 6.29510826e-02, 3.14755413e-01, 1.25902165e+01,\n",
       "         7.19530874e+01, 1.57000000e+02],\n",
       "        [6.24378508e+01, 5.45308741e-02, 2.72654370e-01, 1.09061748e+01,\n",
       "         6.23287891e+01, 1.36000000e+02],\n",
       "        [6.38151564e+01, 5.57337610e-02, 2.78668805e-01, 1.11467522e+01,\n",
       "         6.37036889e+01, 1.39000000e+02],\n",
       "        [7.02425822e+01, 6.13472334e-02, 3.06736167e-01, 1.22694467e+01,\n",
       "         7.01198877e+01, 1.53000000e+02],\n",
       "        [6.01423416e+01, 5.25260626e-02, 2.62630313e-01, 1.05052125e+01,\n",
       "         6.00372895e+01, 1.31000000e+02],\n",
       "        [6.15196472e+01, 5.37289495e-02, 2.68644747e-01, 1.07457899e+01,\n",
       "         6.14121893e+01, 1.34000000e+02],\n",
       "        [5.05012029e+01, 4.41058540e-02, 2.20529270e-01, 8.82117081e+00,\n",
       "         5.04129912e+01, 1.10000000e+02],\n",
       "        [4.26964715e+01, 3.72894948e-02, 1.86447474e-01, 7.45789896e+00,\n",
       "         4.26218925e+01, 9.30000000e+01],\n",
       "        [5.23376103e+01, 4.57097033e-02, 2.28548516e-01, 9.14194066e+00,\n",
       "         5.22461909e+01, 1.14000000e+02],\n",
       "        [4.31555734e+01, 3.76904571e-02, 1.88452285e-01, 7.53809142e+00,\n",
       "         4.30801925e+01, 9.40000000e+01],\n",
       "        [4.31555734e+01, 3.76904571e-02, 1.88452285e-01, 7.53809142e+00,\n",
       "         4.30801925e+01, 9.40000000e+01],\n",
       "        [2.98416199e+01, 2.60625501e-02, 1.30312751e-01, 5.21251002e+00,\n",
       "         2.97894948e+01, 6.50000000e+01],\n",
       "        [2.43323978e+01, 2.12510024e-02, 1.06255012e-01, 4.25020048e+00,\n",
       "         2.42898957e+01, 5.30000000e+01],\n",
       "        [2.47914996e+01, 2.16519647e-02, 1.08259824e-01, 4.33039294e+00,\n",
       "         2.47481957e+01, 5.40000000e+01],\n",
       "        [2.80052125e+01, 2.44587009e-02, 1.22293504e-01, 4.89174018e+00,\n",
       "         2.79562951e+01, 6.10000000e+01],\n",
       "        [2.11186848e+01, 1.84442662e-02, 9.22213312e-02, 3.68885325e+00,\n",
       "         2.10817963e+01, 4.60000000e+01],\n",
       "        [2.11186848e+01, 1.84442662e-02, 9.22213312e-02, 3.68885325e+00,\n",
       "         2.10817963e+01, 4.60000000e+01],\n",
       "        [1.65276664e+01, 1.44346431e-02, 7.21732157e-02, 2.88692863e+00,\n",
       "         1.64987971e+01, 3.60000000e+01],\n",
       "        [7.80473136e+00, 6.81635926e-03, 3.40817963e-02, 1.36327185e+00,\n",
       "         7.79109864e+00, 1.70000000e+01],\n",
       "        [1.01002406e+01, 8.82117081e-03, 4.41058540e-02, 1.76423416e+00,\n",
       "         1.00825982e+01, 2.20000000e+01],\n",
       "        [1.28548516e+01, 1.12269447e-02, 5.61347233e-02, 2.24538893e+00,\n",
       "         1.28323978e+01, 2.80000000e+01],\n",
       "        [8.72293504e+00, 7.61828388e-03, 3.80914194e-02, 1.52365678e+00,\n",
       "         8.70769848e+00, 1.90000000e+01],\n",
       "        [9.18203689e+00, 8.01924619e-03, 4.00962310e-02, 1.60384924e+00,\n",
       "         9.16599840e+00, 2.00000000e+01],\n",
       "        [5.96832398e+00, 5.21251002e-03, 2.60625501e-02, 1.04250200e+00,\n",
       "         5.95789896e+00, 1.30000000e+01],\n",
       "        [5.96832398e+00, 5.21251002e-03, 2.60625501e-02, 1.04250200e+00,\n",
       "         5.95789896e+00, 1.30000000e+01],\n",
       "        [5.05012029e+00, 4.41058540e-03, 2.20529270e-02, 8.82117081e-01,\n",
       "         5.04129912e+00, 1.10000000e+01],\n",
       "        [3.67281476e+00, 3.20769848e-03, 1.60384924e-02, 6.41539695e-01,\n",
       "         3.66639936e+00, 8.00000000e+00],\n",
       "        [2.75461107e+00, 2.40577386e-03, 1.20288693e-02, 4.81154771e-01,\n",
       "         2.74979952e+00, 6.00000000e+00],\n",
       "        [4.59101844e-01, 4.00962310e-04, 2.00481155e-03, 8.01924619e-02,\n",
       "         4.58299920e-01, 1.00000000e+00],\n",
       "        [4.59101844e-01, 4.00962310e-04, 2.00481155e-03, 8.01924619e-02,\n",
       "         4.58299920e-01, 1.00000000e+00],\n",
       "        [1.14500000e+03, 1.00000000e+00, 5.00000000e+00, 2.00000000e+02,\n",
       "         1.14300000e+03, 2.49400000e+03]]))"
      ]
     },
     "execution_count": 20,
     "metadata": {},
     "output_type": "execute_result"
    }
   ],
   "source": [
    "stats.chi2_contingency(observed=y)"
   ]
  },
  {
   "cell_type": "markdown",
   "id": "0abf44a1",
   "metadata": {},
   "source": [
    "Here p value is lesser than 0.05. So we  reject null hypothesis with 95% confidence level"
   ]
  },
  {
   "cell_type": "markdown",
   "id": "a9509df0",
   "metadata": {},
   "source": [
    "##### There is  relationship between FICO scores and Home Owneship"
   ]
  },
  {
   "cell_type": "markdown",
   "id": "6d5124d7",
   "metadata": {},
   "source": [
    "## BUSINESS PROBLEM - 2\n"
   ]
  },
  {
   "cell_type": "markdown",
   "id": "92db2d60",
   "metadata": {},
   "source": [
    "### We would like to assess if there is any difference in the average price quotes provided by Mary and Barry."
   ]
  },
  {
   "cell_type": "code",
   "execution_count": 21,
   "id": "fb993434",
   "metadata": {},
   "outputs": [],
   "source": [
    "price_quote= pd.read_csv(\"Price_Quotes.csv\")"
   ]
  },
  {
   "cell_type": "code",
   "execution_count": 22,
   "id": "47c4e856",
   "metadata": {},
   "outputs": [
    {
     "data": {
      "text/html": [
       "<div>\n",
       "<style scoped>\n",
       "    .dataframe tbody tr th:only-of-type {\n",
       "        vertical-align: middle;\n",
       "    }\n",
       "\n",
       "    .dataframe tbody tr th {\n",
       "        vertical-align: top;\n",
       "    }\n",
       "\n",
       "    .dataframe thead th {\n",
       "        text-align: right;\n",
       "    }\n",
       "</style>\n",
       "<table border=\"1\" class=\"dataframe\">\n",
       "  <thead>\n",
       "    <tr style=\"text-align: right;\">\n",
       "      <th></th>\n",
       "      <th>Order_Number</th>\n",
       "      <th>Barry_Price</th>\n",
       "      <th>Mary_Price</th>\n",
       "    </tr>\n",
       "  </thead>\n",
       "  <tbody>\n",
       "    <tr>\n",
       "      <th>0</th>\n",
       "      <td>1</td>\n",
       "      <td>126</td>\n",
       "      <td>114</td>\n",
       "    </tr>\n",
       "    <tr>\n",
       "      <th>1</th>\n",
       "      <td>2</td>\n",
       "      <td>110</td>\n",
       "      <td>118</td>\n",
       "    </tr>\n",
       "    <tr>\n",
       "      <th>2</th>\n",
       "      <td>3</td>\n",
       "      <td>138</td>\n",
       "      <td>114</td>\n",
       "    </tr>\n",
       "    <tr>\n",
       "      <th>3</th>\n",
       "      <td>4</td>\n",
       "      <td>142</td>\n",
       "      <td>111</td>\n",
       "    </tr>\n",
       "    <tr>\n",
       "      <th>4</th>\n",
       "      <td>5</td>\n",
       "      <td>146</td>\n",
       "      <td>129</td>\n",
       "    </tr>\n",
       "    <tr>\n",
       "      <th>5</th>\n",
       "      <td>6</td>\n",
       "      <td>136</td>\n",
       "      <td>119</td>\n",
       "    </tr>\n",
       "    <tr>\n",
       "      <th>6</th>\n",
       "      <td>7</td>\n",
       "      <td>94</td>\n",
       "      <td>97</td>\n",
       "    </tr>\n",
       "    <tr>\n",
       "      <th>7</th>\n",
       "      <td>8</td>\n",
       "      <td>103</td>\n",
       "      <td>104</td>\n",
       "    </tr>\n",
       "    <tr>\n",
       "      <th>8</th>\n",
       "      <td>9</td>\n",
       "      <td>140</td>\n",
       "      <td>127</td>\n",
       "    </tr>\n",
       "    <tr>\n",
       "      <th>9</th>\n",
       "      <td>10</td>\n",
       "      <td>152</td>\n",
       "      <td>133</td>\n",
       "    </tr>\n",
       "    <tr>\n",
       "      <th>10</th>\n",
       "      <td>11</td>\n",
       "      <td>108</td>\n",
       "      <td>103</td>\n",
       "    </tr>\n",
       "    <tr>\n",
       "      <th>11</th>\n",
       "      <td>12</td>\n",
       "      <td>97</td>\n",
       "      <td>108</td>\n",
       "    </tr>\n",
       "  </tbody>\n",
       "</table>\n",
       "</div>"
      ],
      "text/plain": [
       "    Order_Number  Barry_Price  Mary_Price\n",
       "0              1          126         114\n",
       "1              2          110         118\n",
       "2              3          138         114\n",
       "3              4          142         111\n",
       "4              5          146         129\n",
       "5              6          136         119\n",
       "6              7           94          97\n",
       "7              8          103         104\n",
       "8              9          140         127\n",
       "9             10          152         133\n",
       "10            11          108         103\n",
       "11            12           97         108"
      ]
     },
     "execution_count": 22,
     "metadata": {},
     "output_type": "execute_result"
    }
   ],
   "source": [
    "price_quote"
   ]
  },
  {
   "cell_type": "code",
   "execution_count": 23,
   "id": "660d1b03",
   "metadata": {},
   "outputs": [
    {
     "data": {
      "text/plain": [
       "Order_Number    int64\n",
       "Barry_Price     int64\n",
       "Mary_Price      int64\n",
       "dtype: object"
      ]
     },
     "execution_count": 23,
     "metadata": {},
     "output_type": "execute_result"
    }
   ],
   "source": [
    "price_quote.dtypes"
   ]
  },
  {
   "cell_type": "code",
   "execution_count": 24,
   "id": "bd5ab602",
   "metadata": {},
   "outputs": [
    {
     "data": {
      "text/plain": [
       "124.33333333333333"
      ]
     },
     "execution_count": 24,
     "metadata": {},
     "output_type": "execute_result"
    }
   ],
   "source": [
    "price_quote.Barry_Price.mean()"
   ]
  },
  {
   "cell_type": "code",
   "execution_count": 25,
   "id": "9830d3e7",
   "metadata": {},
   "outputs": [
    {
     "data": {
      "text/plain": [
       "114.75"
      ]
     },
     "execution_count": 25,
     "metadata": {},
     "output_type": "execute_result"
    }
   ],
   "source": [
    "price_quote.Mary_Price.mean()"
   ]
  },
  {
   "cell_type": "markdown",
   "id": "dc7cb907",
   "metadata": {},
   "source": [
    "> H0: Average price quotes provide by Mary and Barry are equal <br>\n",
    "H1: Average price quotes provide by Mary and Barry are not equal"
   ]
  },
  {
   "cell_type": "code",
   "execution_count": 26,
   "id": "c3988c33",
   "metadata": {},
   "outputs": [
    {
     "data": {
      "text/plain": [
       "Ttest_relResult(statistic=2.5213765108923494, pvalue=0.02840588045242053)"
      ]
     },
     "execution_count": 26,
     "metadata": {},
     "output_type": "execute_result"
    }
   ],
   "source": [
    "stats.ttest_rel(a= price_quote.Barry_Price,\n",
    "                b= price_quote.Mary_Price)"
   ]
  },
  {
   "cell_type": "markdown",
   "id": "9bd47b09",
   "metadata": {},
   "source": [
    "Here p value is lesser than 0.05. So we  reject null hypothesis with 95% confidence level"
   ]
  },
  {
   "cell_type": "markdown",
   "id": "1e0a5de1",
   "metadata": {},
   "source": [
    "##### There is  difference in the average price quotes provided by Mary and Barry"
   ]
  },
  {
   "cell_type": "markdown",
   "id": "4ca83a1a",
   "metadata": {},
   "source": [
    "## BUSINESS PROBLEM - 3"
   ]
  },
  {
   "cell_type": "markdown",
   "id": "014802e9",
   "metadata": {},
   "source": [
    "###  Determine what effect, if any, the reengineering effort had on the incidence behavioral problems and staff turnover. i.e To determine if the reengineering effort changed the critical incidence rate. Isthere evidence that the critical incidence rate improved?\n"
   ]
  },
  {
   "cell_type": "code",
   "execution_count": 27,
   "id": "2ade5bdd",
   "metadata": {},
   "outputs": [],
   "source": [
    "treatment =  pd.read_csv(\"Treatment_Facility.csv\")"
   ]
  },
  {
   "cell_type": "code",
   "execution_count": 28,
   "id": "a4784cc9",
   "metadata": {},
   "outputs": [],
   "source": [
    "treatment.rename(columns={'VAR4' : 'TRFF(%)', 'VAR5' : 'CI(%)'},inplace=True)"
   ]
  },
  {
   "cell_type": "code",
   "execution_count": 29,
   "id": "6b8f2f6d",
   "metadata": {},
   "outputs": [
    {
     "data": {
      "text/html": [
       "<div>\n",
       "<style scoped>\n",
       "    .dataframe tbody tr th:only-of-type {\n",
       "        vertical-align: middle;\n",
       "    }\n",
       "\n",
       "    .dataframe tbody tr th {\n",
       "        vertical-align: top;\n",
       "    }\n",
       "\n",
       "    .dataframe thead th {\n",
       "        text-align: right;\n",
       "    }\n",
       "</style>\n",
       "<table border=\"1\" class=\"dataframe\">\n",
       "  <thead>\n",
       "    <tr style=\"text-align: right;\">\n",
       "      <th></th>\n",
       "      <th>Month</th>\n",
       "      <th>Reengineer</th>\n",
       "      <th>Employee_Turnover</th>\n",
       "      <th>TRFF(%)</th>\n",
       "      <th>CI(%)</th>\n",
       "    </tr>\n",
       "  </thead>\n",
       "  <tbody>\n",
       "    <tr>\n",
       "      <th>0</th>\n",
       "      <td>1</td>\n",
       "      <td>Prior</td>\n",
       "      <td>0.0000</td>\n",
       "      <td>24.390244</td>\n",
       "      <td>42.682927</td>\n",
       "    </tr>\n",
       "    <tr>\n",
       "      <th>1</th>\n",
       "      <td>2</td>\n",
       "      <td>Prior</td>\n",
       "      <td>6.0606</td>\n",
       "      <td>19.354839</td>\n",
       "      <td>25.806452</td>\n",
       "    </tr>\n",
       "    <tr>\n",
       "      <th>2</th>\n",
       "      <td>3</td>\n",
       "      <td>Prior</td>\n",
       "      <td>12.1212</td>\n",
       "      <td>35.087719</td>\n",
       "      <td>146.198830</td>\n",
       "    </tr>\n",
       "    <tr>\n",
       "      <th>3</th>\n",
       "      <td>4</td>\n",
       "      <td>Prior</td>\n",
       "      <td>3.3333</td>\n",
       "      <td>18.404908</td>\n",
       "      <td>110.429448</td>\n",
       "    </tr>\n",
       "    <tr>\n",
       "      <th>4</th>\n",
       "      <td>5</td>\n",
       "      <td>Prior</td>\n",
       "      <td>12.9032</td>\n",
       "      <td>17.964072</td>\n",
       "      <td>23.952096</td>\n",
       "    </tr>\n",
       "    <tr>\n",
       "      <th>5</th>\n",
       "      <td>6</td>\n",
       "      <td>Prior</td>\n",
       "      <td>9.6774</td>\n",
       "      <td>41.176471</td>\n",
       "      <td>47.058824</td>\n",
       "    </tr>\n",
       "    <tr>\n",
       "      <th>6</th>\n",
       "      <td>7</td>\n",
       "      <td>Prior</td>\n",
       "      <td>11.7647</td>\n",
       "      <td>13.422819</td>\n",
       "      <td>0.000000</td>\n",
       "    </tr>\n",
       "    <tr>\n",
       "      <th>7</th>\n",
       "      <td>8</td>\n",
       "      <td>Prior</td>\n",
       "      <td>11.4286</td>\n",
       "      <td>31.250000</td>\n",
       "      <td>25.000000</td>\n",
       "    </tr>\n",
       "    <tr>\n",
       "      <th>8</th>\n",
       "      <td>9</td>\n",
       "      <td>Prior</td>\n",
       "      <td>23.0769</td>\n",
       "      <td>17.241379</td>\n",
       "      <td>132.183908</td>\n",
       "    </tr>\n",
       "    <tr>\n",
       "      <th>9</th>\n",
       "      <td>10</td>\n",
       "      <td>Prior</td>\n",
       "      <td>15.0000</td>\n",
       "      <td>16.574586</td>\n",
       "      <td>16.574586</td>\n",
       "    </tr>\n",
       "    <tr>\n",
       "      <th>10</th>\n",
       "      <td>11</td>\n",
       "      <td>Prior</td>\n",
       "      <td>10.0000</td>\n",
       "      <td>5.917160</td>\n",
       "      <td>88.757396</td>\n",
       "    </tr>\n",
       "    <tr>\n",
       "      <th>11</th>\n",
       "      <td>12</td>\n",
       "      <td>Prior</td>\n",
       "      <td>26.0870</td>\n",
       "      <td>21.164021</td>\n",
       "      <td>31.746032</td>\n",
       "    </tr>\n",
       "    <tr>\n",
       "      <th>12</th>\n",
       "      <td>13</td>\n",
       "      <td>Prior</td>\n",
       "      <td>11.1111</td>\n",
       "      <td>5.076142</td>\n",
       "      <td>10.152284</td>\n",
       "    </tr>\n",
       "    <tr>\n",
       "      <th>13</th>\n",
       "      <td>14</td>\n",
       "      <td>Post</td>\n",
       "      <td>26.6667</td>\n",
       "      <td>9.708738</td>\n",
       "      <td>29.126214</td>\n",
       "    </tr>\n",
       "    <tr>\n",
       "      <th>14</th>\n",
       "      <td>15</td>\n",
       "      <td>Post</td>\n",
       "      <td>17.9487</td>\n",
       "      <td>4.201681</td>\n",
       "      <td>21.008403</td>\n",
       "    </tr>\n",
       "    <tr>\n",
       "      <th>15</th>\n",
       "      <td>16</td>\n",
       "      <td>Post</td>\n",
       "      <td>12.8205</td>\n",
       "      <td>13.043478</td>\n",
       "      <td>34.782609</td>\n",
       "    </tr>\n",
       "    <tr>\n",
       "      <th>16</th>\n",
       "      <td>17</td>\n",
       "      <td>Post</td>\n",
       "      <td>15.7895</td>\n",
       "      <td>9.950249</td>\n",
       "      <td>19.900498</td>\n",
       "    </tr>\n",
       "    <tr>\n",
       "      <th>17</th>\n",
       "      <td>18</td>\n",
       "      <td>Post</td>\n",
       "      <td>0.0000</td>\n",
       "      <td>9.950249</td>\n",
       "      <td>9.950249</td>\n",
       "    </tr>\n",
       "    <tr>\n",
       "      <th>18</th>\n",
       "      <td>19</td>\n",
       "      <td>Post</td>\n",
       "      <td>30.7692</td>\n",
       "      <td>8.510638</td>\n",
       "      <td>25.531915</td>\n",
       "    </tr>\n",
       "    <tr>\n",
       "      <th>19</th>\n",
       "      <td>20</td>\n",
       "      <td>Post</td>\n",
       "      <td>26.8293</td>\n",
       "      <td>9.259259</td>\n",
       "      <td>23.148148</td>\n",
       "    </tr>\n",
       "  </tbody>\n",
       "</table>\n",
       "</div>"
      ],
      "text/plain": [
       "    Month Reengineer  Employee_Turnover    TRFF(%)       CI(%)\n",
       "0       1      Prior             0.0000  24.390244   42.682927\n",
       "1       2      Prior             6.0606  19.354839   25.806452\n",
       "2       3      Prior            12.1212  35.087719  146.198830\n",
       "3       4      Prior             3.3333  18.404908  110.429448\n",
       "4       5      Prior            12.9032  17.964072   23.952096\n",
       "5       6      Prior             9.6774  41.176471   47.058824\n",
       "6       7      Prior            11.7647  13.422819    0.000000\n",
       "7       8      Prior            11.4286  31.250000   25.000000\n",
       "8       9      Prior            23.0769  17.241379  132.183908\n",
       "9      10      Prior            15.0000  16.574586   16.574586\n",
       "10     11      Prior            10.0000   5.917160   88.757396\n",
       "11     12      Prior            26.0870  21.164021   31.746032\n",
       "12     13      Prior            11.1111   5.076142   10.152284\n",
       "13     14       Post            26.6667   9.708738   29.126214\n",
       "14     15       Post            17.9487   4.201681   21.008403\n",
       "15     16       Post            12.8205  13.043478   34.782609\n",
       "16     17       Post            15.7895   9.950249   19.900498\n",
       "17     18       Post             0.0000   9.950249    9.950249\n",
       "18     19       Post            30.7692   8.510638   25.531915\n",
       "19     20       Post            26.8293   9.259259   23.148148"
      ]
     },
     "execution_count": 29,
     "metadata": {},
     "output_type": "execute_result"
    }
   ],
   "source": [
    "treatment"
   ]
  },
  {
   "cell_type": "code",
   "execution_count": 30,
   "id": "b839309f",
   "metadata": {},
   "outputs": [],
   "source": [
    "prior = treatment.loc[treatment.Reengineer == 'Prior']"
   ]
  },
  {
   "cell_type": "code",
   "execution_count": 31,
   "id": "c3748d0e",
   "metadata": {},
   "outputs": [],
   "source": [
    "post = treatment.loc[treatment.Reengineer == 'Post']"
   ]
  },
  {
   "cell_type": "code",
   "execution_count": 32,
   "id": "efb03905",
   "metadata": {},
   "outputs": [
    {
     "data": {
      "text/plain": [
       "11.735692307692307"
      ]
     },
     "execution_count": 32,
     "metadata": {},
     "output_type": "execute_result"
    }
   ],
   "source": [
    "prior.Employee_Turnover.mean()"
   ]
  },
  {
   "cell_type": "code",
   "execution_count": 33,
   "id": "96971d59",
   "metadata": {},
   "outputs": [
    {
     "data": {
      "text/plain": [
       "18.68912857142857"
      ]
     },
     "execution_count": 33,
     "metadata": {},
     "output_type": "execute_result"
    }
   ],
   "source": [
    "post.Employee_Turnover.mean()"
   ]
  },
  {
   "cell_type": "markdown",
   "id": "57c8cd90",
   "metadata": {},
   "source": [
    "### Effects of reengineering effort on staff turnover"
   ]
  },
  {
   "cell_type": "markdown",
   "id": "6a4def85",
   "metadata": {},
   "source": [
    "> H0: Staff turnover before reengineering effort = Staff turnover after reengineering effort <br>\n",
    "    H1: Staff turnover before reengineering effort >Staff turnover after reengineering effort "
   ]
  },
  {
   "cell_type": "code",
   "execution_count": 35,
   "id": "149a8834",
   "metadata": {},
   "outputs": [
    {
     "data": {
      "text/plain": [
       "(45.77063233301775, 95.5017958420408)"
      ]
     },
     "execution_count": 35,
     "metadata": {},
     "output_type": "execute_result"
    }
   ],
   "source": [
    "# Variance of two groups\n",
    "np.var(prior.Employee_Turnover),np.var(post.Employee_Turnover)"
   ]
  },
  {
   "cell_type": "markdown",
   "id": "20b61e1d",
   "metadata": {},
   "source": [
    "If the ratio of the larger data groups to the small data group is greater than 4:1 then we can consider that the given data groups have unequal variance."
   ]
  },
  {
   "cell_type": "code",
   "execution_count": 36,
   "id": "299f9832",
   "metadata": {},
   "outputs": [
    {
     "data": {
      "text/plain": [
       "Ttest_indResult(statistic=-1.770306704753604, pvalue=0.09361109345535304)"
      ]
     },
     "execution_count": 36,
     "metadata": {},
     "output_type": "execute_result"
    }
   ],
   "source": [
    "stats.ttest_ind(prior.Employee_Turnover,post.Employee_Turnover)"
   ]
  },
  {
   "cell_type": "markdown",
   "id": "74c108b3",
   "metadata": {},
   "source": [
    "Here p value is greater than 0.05. So we  failed to reject null hypothesis with 95% confidence level"
   ]
  },
  {
   "cell_type": "markdown",
   "id": "aba31d17",
   "metadata": {},
   "source": [
    "##### Staff turnover before and after reengineering efforts are equal. Reengineering effort didn't affect staff turnover"
   ]
  },
  {
   "cell_type": "markdown",
   "id": "ecd23046",
   "metadata": {},
   "source": [
    "### Effects of reengineering effort on critical incident rate"
   ]
  },
  {
   "cell_type": "markdown",
   "id": "e6e82141",
   "metadata": {},
   "source": [
    "> H0: Critical incident rate before reengineering effort = critical incident rate after reengineering effort <br>\n",
    "    H1: Critical incident rate before reengineering effort != Critical incident rate after reengineering effort "
   ]
  },
  {
   "cell_type": "code",
   "execution_count": 37,
   "id": "066218af",
   "metadata": {},
   "outputs": [
    {
     "data": {
      "text/plain": [
       "53.887906321846145"
      ]
     },
     "execution_count": 37,
     "metadata": {},
     "output_type": "execute_result"
    }
   ],
   "source": [
    "prior['CI(%)'].mean()"
   ]
  },
  {
   "cell_type": "code",
   "execution_count": 38,
   "id": "743fe2c5",
   "metadata": {},
   "outputs": [
    {
     "data": {
      "text/plain": [
       "23.34971927988571"
      ]
     },
     "execution_count": 38,
     "metadata": {},
     "output_type": "execute_result"
    }
   ],
   "source": [
    "post['CI(%)'].mean()"
   ]
  },
  {
   "cell_type": "code",
   "execution_count": 39,
   "id": "e8c8d4a7",
   "metadata": {},
   "outputs": [
    {
     "data": {
      "text/plain": [
       "(2188.851951255721, 52.258022415666076)"
      ]
     },
     "execution_count": 39,
     "metadata": {},
     "output_type": "execute_result"
    }
   ],
   "source": [
    "np.var(prior['CI(%)']),np.var(post['CI(%)'])"
   ]
  },
  {
   "cell_type": "markdown",
   "id": "60b53c73",
   "metadata": {},
   "source": [
    "If the ratio of the larger data groups to the small data group is greater than 4:1 then we can consider that the given data groups have unequal variance."
   ]
  },
  {
   "cell_type": "code",
   "execution_count": 40,
   "id": "b40e45de",
   "metadata": {},
   "outputs": [
    {
     "data": {
      "text/plain": [
       "Ttest_indResult(statistic=2.209006531430452, pvalue=0.045565519570193204)"
      ]
     },
     "execution_count": 40,
     "metadata": {},
     "output_type": "execute_result"
    }
   ],
   "source": [
    "stats.ttest_ind(prior['CI(%)'],post['CI(%)'],equal_var=False)"
   ]
  },
  {
   "cell_type": "markdown",
   "id": "1a074925",
   "metadata": {},
   "source": [
    "Here p value is lesser than 0.05. So we  reject null hypothesis with 95% confidence level"
   ]
  },
  {
   "cell_type": "markdown",
   "id": "ea2994cc",
   "metadata": {},
   "source": [
    "##### There is change in critical incident rate before and after rengineering effort. Critical incident rate improved after reengineering effort"
   ]
  },
  {
   "cell_type": "markdown",
   "id": "72b6a44c",
   "metadata": {},
   "source": [
    "## BUSINESS PROBLEM - 4"
   ]
  },
  {
   "cell_type": "markdown",
   "id": "88c5ed2d",
   "metadata": {},
   "source": [
    "### We will focus on the prioritization system. If the system is working, then high priority jobs, on average, should be completed more quickly than medium priority jobs, and medium priority jobs should be completed more quickly than low priority jobs. Use the data provided to determine whether thisis, in fact, occurring.\n"
   ]
  },
  {
   "cell_type": "code",
   "execution_count": 41,
   "id": "48e0b34e",
   "metadata": {},
   "outputs": [],
   "source": [
    "priority = pd.read_csv(\"Priority_Assessment.csv\")"
   ]
  },
  {
   "cell_type": "code",
   "execution_count": 42,
   "id": "694acdd9",
   "metadata": {},
   "outputs": [
    {
     "data": {
      "text/html": [
       "<div>\n",
       "<style scoped>\n",
       "    .dataframe tbody tr th:only-of-type {\n",
       "        vertical-align: middle;\n",
       "    }\n",
       "\n",
       "    .dataframe tbody tr th {\n",
       "        vertical-align: top;\n",
       "    }\n",
       "\n",
       "    .dataframe thead th {\n",
       "        text-align: right;\n",
       "    }\n",
       "</style>\n",
       "<table border=\"1\" class=\"dataframe\">\n",
       "  <thead>\n",
       "    <tr style=\"text-align: right;\">\n",
       "      <th></th>\n",
       "      <th>Days</th>\n",
       "      <th>Priority</th>\n",
       "    </tr>\n",
       "  </thead>\n",
       "  <tbody>\n",
       "    <tr>\n",
       "      <th>0</th>\n",
       "      <td>3.3</td>\n",
       "      <td>High</td>\n",
       "    </tr>\n",
       "    <tr>\n",
       "      <th>1</th>\n",
       "      <td>7.9</td>\n",
       "      <td>Medium</td>\n",
       "    </tr>\n",
       "    <tr>\n",
       "      <th>2</th>\n",
       "      <td>0.3</td>\n",
       "      <td>High</td>\n",
       "    </tr>\n",
       "    <tr>\n",
       "      <th>3</th>\n",
       "      <td>0.7</td>\n",
       "      <td>Medium</td>\n",
       "    </tr>\n",
       "    <tr>\n",
       "      <th>4</th>\n",
       "      <td>8.6</td>\n",
       "      <td>Medium</td>\n",
       "    </tr>\n",
       "    <tr>\n",
       "      <th>...</th>\n",
       "      <td>...</td>\n",
       "      <td>...</td>\n",
       "    </tr>\n",
       "    <tr>\n",
       "      <th>637</th>\n",
       "      <td>2.5</td>\n",
       "      <td>Low</td>\n",
       "    </tr>\n",
       "    <tr>\n",
       "      <th>638</th>\n",
       "      <td>0.3</td>\n",
       "      <td>High</td>\n",
       "    </tr>\n",
       "    <tr>\n",
       "      <th>639</th>\n",
       "      <td>0.3</td>\n",
       "      <td>Medium</td>\n",
       "    </tr>\n",
       "    <tr>\n",
       "      <th>640</th>\n",
       "      <td>1.3</td>\n",
       "      <td>Medium</td>\n",
       "    </tr>\n",
       "    <tr>\n",
       "      <th>641</th>\n",
       "      <td>0.5</td>\n",
       "      <td>High</td>\n",
       "    </tr>\n",
       "  </tbody>\n",
       "</table>\n",
       "<p>642 rows × 2 columns</p>\n",
       "</div>"
      ],
      "text/plain": [
       "     Days Priority\n",
       "0     3.3     High\n",
       "1     7.9   Medium\n",
       "2     0.3     High\n",
       "3     0.7   Medium\n",
       "4     8.6   Medium\n",
       "..    ...      ...\n",
       "637   2.5      Low\n",
       "638   0.3     High\n",
       "639   0.3   Medium\n",
       "640   1.3   Medium\n",
       "641   0.5     High\n",
       "\n",
       "[642 rows x 2 columns]"
      ]
     },
     "execution_count": 42,
     "metadata": {},
     "output_type": "execute_result"
    }
   ],
   "source": [
    "priority"
   ]
  },
  {
   "cell_type": "code",
   "execution_count": 43,
   "id": "4f35b9f1",
   "metadata": {},
   "outputs": [
    {
     "data": {
      "text/plain": [
       "3.0236196319018402"
      ]
     },
     "execution_count": 43,
     "metadata": {},
     "output_type": "execute_result"
    }
   ],
   "source": [
    "priority.Days.loc[priority.Priority == 'High'].mean()"
   ]
  },
  {
   "cell_type": "code",
   "execution_count": 44,
   "id": "ae0bddee",
   "metadata": {},
   "outputs": [
    {
     "data": {
      "text/plain": [
       "2.5"
      ]
     },
     "execution_count": 44,
     "metadata": {},
     "output_type": "execute_result"
    }
   ],
   "source": [
    "priority.Days.loc[priority.Priority == 'Medium'].mean()"
   ]
  },
  {
   "cell_type": "code",
   "execution_count": 45,
   "id": "4db7eb67",
   "metadata": {},
   "outputs": [
    {
     "data": {
      "text/plain": [
       "4.228358208955224"
      ]
     },
     "execution_count": 45,
     "metadata": {},
     "output_type": "execute_result"
    }
   ],
   "source": [
    "priority.Days.loc[priority.Priority == 'Low'].mean()"
   ]
  },
  {
   "cell_type": "code",
   "execution_count": 46,
   "id": "69d4bad5",
   "metadata": {},
   "outputs": [
    {
     "data": {
      "text/plain": [
       "Priority\n",
       "High      326\n",
       "Medium    249\n",
       "Low        67\n",
       "Name: count, dtype: int64"
      ]
     },
     "execution_count": 46,
     "metadata": {},
     "output_type": "execute_result"
    }
   ],
   "source": [
    "priority.Priority.value_counts()"
   ]
  },
  {
   "cell_type": "markdown",
   "id": "33dd0fd8",
   "metadata": {},
   "source": [
    "#### High and Medium priority"
   ]
  },
  {
   "cell_type": "markdown",
   "id": "6df466c6",
   "metadata": {},
   "source": [
    "> H0: High priority jobs and medium priority jobs completed same time <br>\n",
    "H1: High priority jobs completed quickly than medium priority jobs "
   ]
  },
  {
   "cell_type": "code",
   "execution_count": 47,
   "id": "2fc036dd",
   "metadata": {},
   "outputs": [
    {
     "data": {
      "text/plain": [
       "(60.363951315442876, 25.01590361445786)"
      ]
     },
     "execution_count": 47,
     "metadata": {},
     "output_type": "execute_result"
    }
   ],
   "source": [
    "np.var(priority.Days.loc[priority.Priority == 'High']),np.var(priority.Days.loc[priority.Priority == 'Medium'])"
   ]
  },
  {
   "cell_type": "markdown",
   "id": "3f39fc73",
   "metadata": {},
   "source": [
    "If the ratio of the larger data groups to the small data group is greater than 4:1 then we can consider that the given data groups have unequal variance."
   ]
  },
  {
   "cell_type": "code",
   "execution_count": 48,
   "id": "e479be38",
   "metadata": {},
   "outputs": [
    {
     "data": {
      "text/plain": [
       "Ttest_indResult(statistic=0.925239411198133, pvalue=0.3552308818116795)"
      ]
     },
     "execution_count": 48,
     "metadata": {},
     "output_type": "execute_result"
    }
   ],
   "source": [
    "stats.ttest_ind(priority.Days.loc[priority.Priority == 'High'],\n",
    "                priority.Days.loc[priority.Priority == 'Medium'])"
   ]
  },
  {
   "cell_type": "markdown",
   "id": "8c43345a",
   "metadata": {},
   "source": [
    "Here p value is greater than 0.05. So we  failed to reject null hypothesis with 95% confidence level"
   ]
  },
  {
   "cell_type": "markdown",
   "id": "349bb942",
   "metadata": {},
   "source": [
    "##### High priority jobs and medium priority jobs completed same time"
   ]
  },
  {
   "cell_type": "markdown",
   "id": "4731d660",
   "metadata": {},
   "source": [
    "#### Medium and Low priority"
   ]
  },
  {
   "cell_type": "markdown",
   "id": "83e37153",
   "metadata": {},
   "source": [
    "> H0: Medium priority jobs and low priority jobs completed same time <br>\n",
    "H1: Medium priority jobs completed quickly than low priority jobs "
   ]
  },
  {
   "cell_type": "code",
   "execution_count": 49,
   "id": "286760fa",
   "metadata": {},
   "outputs": [
    {
     "data": {
      "text/plain": [
       "(25.01590361445786, 38.719345065716176)"
      ]
     },
     "execution_count": 49,
     "metadata": {},
     "output_type": "execute_result"
    }
   ],
   "source": [
    "np.var(priority.Days.loc[priority.Priority == 'Medium']),np.var(priority.Days.loc[priority.Priority == 'Low'])"
   ]
  },
  {
   "cell_type": "markdown",
   "id": "4ca363e1",
   "metadata": {},
   "source": [
    "If the ratio of the larger data groups to the small data group is greater than 4:1 then we can consider that the given data groups have unequal variance."
   ]
  },
  {
   "cell_type": "code",
   "execution_count": 50,
   "id": "46c922cd",
   "metadata": {},
   "outputs": [
    {
     "data": {
      "text/plain": [
       "Ttest_indResult(statistic=-2.3690822147998514, pvalue=0.01843700901540487)"
      ]
     },
     "execution_count": 50,
     "metadata": {},
     "output_type": "execute_result"
    }
   ],
   "source": [
    "stats.ttest_ind(priority.Days.loc[priority.Priority == 'Medium'],\n",
    "                priority.Days.loc[priority.Priority == 'Low'])"
   ]
  },
  {
   "cell_type": "markdown",
   "id": "0b962947",
   "metadata": {},
   "source": [
    "Here p value is lesser than 0.05. So we  reject null hypothesis with 95% confidence level"
   ]
  },
  {
   "cell_type": "markdown",
   "id": "22e7f0d2",
   "metadata": {},
   "source": [
    "#####  Medium priority jobs completed quickly than low priority jobs"
   ]
  },
  {
   "cell_type": "markdown",
   "id": "2c94237a",
   "metadata": {},
   "source": [
    "##### High priority jobs are not completed before medium priority jobs  and Medium priority jobs are completed quickly than low priority jobs. So prioritization system is not totally working"
   ]
  },
  {
   "cell_type": "markdown",
   "id": "9476fa04",
   "metadata": {},
   "source": [
    "## BUSINESS PROBLEM - 5"
   ]
  },
  {
   "cell_type": "code",
   "execution_count": 51,
   "id": "bfc0c8bd",
   "metadata": {},
   "outputs": [],
   "source": [
    "films = pd.read_csv(\"Films.csv\")"
   ]
  },
  {
   "cell_type": "code",
   "execution_count": 52,
   "id": "fa674b88",
   "metadata": {},
   "outputs": [],
   "source": [
    "films.drop(columns='_rowstate_',inplace=True)"
   ]
  },
  {
   "cell_type": "code",
   "execution_count": 53,
   "id": "a782756b",
   "metadata": {},
   "outputs": [
    {
     "data": {
      "text/html": [
       "<div>\n",
       "<style scoped>\n",
       "    .dataframe tbody tr th:only-of-type {\n",
       "        vertical-align: middle;\n",
       "    }\n",
       "\n",
       "    .dataframe tbody tr th {\n",
       "        vertical-align: top;\n",
       "    }\n",
       "\n",
       "    .dataframe thead th {\n",
       "        text-align: right;\n",
       "    }\n",
       "</style>\n",
       "<table border=\"1\" class=\"dataframe\">\n",
       "  <thead>\n",
       "    <tr style=\"text-align: right;\">\n",
       "      <th></th>\n",
       "      <th>Movie</th>\n",
       "      <th>Gender</th>\n",
       "      <th>Marital_Status</th>\n",
       "      <th>Sinage</th>\n",
       "      <th>Parking</th>\n",
       "      <th>Clean</th>\n",
       "      <th>Overall</th>\n",
       "      <th>Age</th>\n",
       "      <th>Income</th>\n",
       "      <th>Hear_About</th>\n",
       "    </tr>\n",
       "  </thead>\n",
       "  <tbody>\n",
       "    <tr>\n",
       "      <th>0</th>\n",
       "      <td>Ferris Buellers Day Off</td>\n",
       "      <td>Female</td>\n",
       "      <td>Married</td>\n",
       "      <td>2.0</td>\n",
       "      <td>2.0</td>\n",
       "      <td>2.0</td>\n",
       "      <td>2.0</td>\n",
       "      <td>3.0</td>\n",
       "      <td>1.0</td>\n",
       "      <td>5</td>\n",
       "    </tr>\n",
       "    <tr>\n",
       "      <th>1</th>\n",
       "      <td>Ferris Buellers Day Off</td>\n",
       "      <td>Female</td>\n",
       "      <td>Single</td>\n",
       "      <td>1.0</td>\n",
       "      <td>1.0</td>\n",
       "      <td>1.0</td>\n",
       "      <td>1.0</td>\n",
       "      <td>2.0</td>\n",
       "      <td>1.0</td>\n",
       "      <td>5</td>\n",
       "    </tr>\n",
       "    <tr>\n",
       "      <th>2</th>\n",
       "      <td>Ferris Buellers Day Off</td>\n",
       "      <td>Male</td>\n",
       "      <td>Married</td>\n",
       "      <td>2.0</td>\n",
       "      <td>4.0</td>\n",
       "      <td>3.0</td>\n",
       "      <td>2.0</td>\n",
       "      <td>4.0</td>\n",
       "      <td>1.0</td>\n",
       "      <td>5</td>\n",
       "    </tr>\n",
       "    <tr>\n",
       "      <th>3</th>\n",
       "      <td>Ferris Buellers Day Off</td>\n",
       "      <td>Female</td>\n",
       "      <td>Married</td>\n",
       "      <td>1.0</td>\n",
       "      <td>3.0</td>\n",
       "      <td>2.0</td>\n",
       "      <td>2.0</td>\n",
       "      <td>4.0</td>\n",
       "      <td>1.0</td>\n",
       "      <td>5</td>\n",
       "    </tr>\n",
       "    <tr>\n",
       "      <th>4</th>\n",
       "      <td>Ferris Buellers Day Off</td>\n",
       "      <td>Female</td>\n",
       "      <td>Married</td>\n",
       "      <td>1.0</td>\n",
       "      <td>1.0</td>\n",
       "      <td>1.0</td>\n",
       "      <td>1.0</td>\n",
       "      <td>3.0</td>\n",
       "      <td>3.0</td>\n",
       "      <td>1</td>\n",
       "    </tr>\n",
       "    <tr>\n",
       "      <th>...</th>\n",
       "      <td>...</td>\n",
       "      <td>...</td>\n",
       "      <td>...</td>\n",
       "      <td>...</td>\n",
       "      <td>...</td>\n",
       "      <td>...</td>\n",
       "      <td>...</td>\n",
       "      <td>...</td>\n",
       "      <td>...</td>\n",
       "      <td>...</td>\n",
       "    </tr>\n",
       "    <tr>\n",
       "      <th>325</th>\n",
       "      <td>Old School</td>\n",
       "      <td>2</td>\n",
       "      <td>2</td>\n",
       "      <td>1.0</td>\n",
       "      <td>2.0</td>\n",
       "      <td>1.0</td>\n",
       "      <td>1.0</td>\n",
       "      <td>2.0</td>\n",
       "      <td>1.0</td>\n",
       "      <td>1</td>\n",
       "    </tr>\n",
       "    <tr>\n",
       "      <th>326</th>\n",
       "      <td>Old School</td>\n",
       "      <td>1</td>\n",
       "      <td>1</td>\n",
       "      <td>2.0</td>\n",
       "      <td>2.0</td>\n",
       "      <td>2.0</td>\n",
       "      <td>2.0</td>\n",
       "      <td>3.0</td>\n",
       "      <td>3.0</td>\n",
       "      <td>5</td>\n",
       "    </tr>\n",
       "    <tr>\n",
       "      <th>327</th>\n",
       "      <td>Old School</td>\n",
       "      <td>2</td>\n",
       "      <td>1</td>\n",
       "      <td>2.0</td>\n",
       "      <td>1.0</td>\n",
       "      <td>1.0</td>\n",
       "      <td>2.0</td>\n",
       "      <td>2.0</td>\n",
       "      <td>2.0</td>\n",
       "      <td>5</td>\n",
       "    </tr>\n",
       "    <tr>\n",
       "      <th>328</th>\n",
       "      <td>Old School</td>\n",
       "      <td>1</td>\n",
       "      <td>1</td>\n",
       "      <td>1.0</td>\n",
       "      <td>1.0</td>\n",
       "      <td>1.0</td>\n",
       "      <td>1.0</td>\n",
       "      <td>2.0</td>\n",
       "      <td>1.0</td>\n",
       "      <td>3</td>\n",
       "    </tr>\n",
       "    <tr>\n",
       "      <th>329</th>\n",
       "      <td>Old School</td>\n",
       "      <td>2</td>\n",
       "      <td>2</td>\n",
       "      <td>2.0</td>\n",
       "      <td>2.0</td>\n",
       "      <td>3.0</td>\n",
       "      <td>1.0</td>\n",
       "      <td>2.0</td>\n",
       "      <td>1.0</td>\n",
       "      <td>5</td>\n",
       "    </tr>\n",
       "  </tbody>\n",
       "</table>\n",
       "<p>330 rows × 10 columns</p>\n",
       "</div>"
      ],
      "text/plain": [
       "                       Movie  Gender Marital_Status  Sinage  Parking  Clean   \n",
       "0    Ferris Buellers Day Off  Female        Married     2.0      2.0    2.0  \\\n",
       "1    Ferris Buellers Day Off  Female         Single     1.0      1.0    1.0   \n",
       "2    Ferris Buellers Day Off    Male        Married     2.0      4.0    3.0   \n",
       "3    Ferris Buellers Day Off  Female        Married     1.0      3.0    2.0   \n",
       "4    Ferris Buellers Day Off  Female        Married     1.0      1.0    1.0   \n",
       "..                       ...     ...            ...     ...      ...    ...   \n",
       "325               Old School       2              2     1.0      2.0    1.0   \n",
       "326               Old School       1              1     2.0      2.0    2.0   \n",
       "327               Old School       2              1     2.0      1.0    1.0   \n",
       "328               Old School       1              1     1.0      1.0    1.0   \n",
       "329               Old School       2              2     2.0      2.0    3.0   \n",
       "\n",
       "     Overall  Age  Income Hear_About  \n",
       "0        2.0  3.0     1.0          5  \n",
       "1        1.0  2.0     1.0          5  \n",
       "2        2.0  4.0     1.0          5  \n",
       "3        2.0  4.0     1.0          5  \n",
       "4        1.0  3.0     3.0          1  \n",
       "..       ...  ...     ...        ...  \n",
       "325      1.0  2.0     1.0          1  \n",
       "326      2.0  3.0     3.0          5  \n",
       "327      2.0  2.0     2.0          5  \n",
       "328      1.0  2.0     1.0          3  \n",
       "329      1.0  2.0     1.0          5  \n",
       "\n",
       "[330 rows x 10 columns]"
      ]
     },
     "execution_count": 53,
     "metadata": {},
     "output_type": "execute_result"
    }
   ],
   "source": [
    "films"
   ]
  },
  {
   "cell_type": "code",
   "execution_count": 54,
   "id": "eb79b533",
   "metadata": {},
   "outputs": [
    {
     "data": {
      "text/plain": [
       "Gender\n",
       "2         194\n",
       "1         104\n",
       "Female     19\n",
       "Male       13\n",
       "Name: count, dtype: int64"
      ]
     },
     "execution_count": 54,
     "metadata": {},
     "output_type": "execute_result"
    }
   ],
   "source": [
    "films.Gender.value_counts()"
   ]
  },
  {
   "cell_type": "code",
   "execution_count": 55,
   "id": "5e852f53",
   "metadata": {},
   "outputs": [],
   "source": [
    "# Converting categorical data to numeric values\n",
    "films.Gender.replace(['Female','Male'],[2,1],inplace=True)"
   ]
  },
  {
   "cell_type": "code",
   "execution_count": 56,
   "id": "9a11e369",
   "metadata": {},
   "outputs": [],
   "source": [
    "# Changing the data types\n",
    "films['Gender'] = films.Gender.astype('int64')"
   ]
  },
  {
   "cell_type": "code",
   "execution_count": 57,
   "id": "dd982ee5",
   "metadata": {},
   "outputs": [
    {
     "data": {
      "text/plain": [
       "Gender\n",
       "2    213\n",
       "1    117\n",
       "Name: count, dtype: int64"
      ]
     },
     "execution_count": 57,
     "metadata": {},
     "output_type": "execute_result"
    }
   ],
   "source": [
    "films.Gender.value_counts()"
   ]
  },
  {
   "cell_type": "code",
   "execution_count": 58,
   "id": "55919056",
   "metadata": {},
   "outputs": [
    {
     "data": {
      "text/plain": [
       "Movie              0\n",
       "Gender             0\n",
       "Marital_Status     2\n",
       "Sinage             2\n",
       "Parking            2\n",
       "Clean              3\n",
       "Overall            2\n",
       "Age                2\n",
       "Income            16\n",
       "Hear_About         7\n",
       "dtype: int64"
      ]
     },
     "execution_count": 58,
     "metadata": {},
     "output_type": "execute_result"
    }
   ],
   "source": [
    "films.isna().sum()"
   ]
  },
  {
   "cell_type": "code",
   "execution_count": 59,
   "id": "9c23034f",
   "metadata": {},
   "outputs": [],
   "source": [
    "films.dropna(inplace=True)"
   ]
  },
  {
   "cell_type": "code",
   "execution_count": 60,
   "id": "235f21a6",
   "metadata": {},
   "outputs": [
    {
     "data": {
      "text/plain": [
       "Marital_Status\n",
       "2          192\n",
       "1           80\n",
       "Single      16\n",
       "Married     11\n",
       "Slngle       2\n",
       "Name: count, dtype: int64"
      ]
     },
     "execution_count": 60,
     "metadata": {},
     "output_type": "execute_result"
    }
   ],
   "source": [
    "films.Marital_Status.value_counts()"
   ]
  },
  {
   "cell_type": "code",
   "execution_count": 61,
   "id": "09244a8d",
   "metadata": {},
   "outputs": [],
   "source": [
    "# Changing the categorical and misspelt values to numerical values\n",
    "films.Marital_Status.replace(['Married','Single','Slngle'],[1,2,2],inplace=True)"
   ]
  },
  {
   "cell_type": "code",
   "execution_count": 62,
   "id": "5a718233",
   "metadata": {},
   "outputs": [],
   "source": [
    "films['Marital_Status'] = films.Marital_Status.astype('int64')"
   ]
  },
  {
   "cell_type": "code",
   "execution_count": 63,
   "id": "d3a5841e",
   "metadata": {},
   "outputs": [
    {
     "data": {
      "text/plain": [
       "Marital_Status\n",
       "2    210\n",
       "1     91\n",
       "Name: count, dtype: int64"
      ]
     },
     "execution_count": 63,
     "metadata": {},
     "output_type": "execute_result"
    }
   ],
   "source": [
    "films.Marital_Status.value_counts()"
   ]
  },
  {
   "cell_type": "markdown",
   "id": "5c243a5a",
   "metadata": {},
   "source": [
    "###  What is the overall level of customer satisfaction?"
   ]
  },
  {
   "cell_type": "code",
   "execution_count": 64,
   "id": "06b66a2f",
   "metadata": {},
   "outputs": [
    {
     "data": {
      "text/plain": [
       "Overall\n",
       "2.0    148\n",
       "1.0    137\n",
       "3.0     12\n",
       "5.0      3\n",
       "4.0      1\n",
       "Name: count, dtype: int64"
      ]
     },
     "execution_count": 64,
     "metadata": {},
     "output_type": "execute_result"
    }
   ],
   "source": [
    "films.Overall.value_counts()"
   ]
  },
  {
   "cell_type": "code",
   "execution_count": 65,
   "id": "ee56327b",
   "metadata": {},
   "outputs": [
    {
     "data": {
      "text/plain": [
       "Overall\n",
       "2.0    49.169435\n",
       "1.0    45.514950\n",
       "3.0     3.986711\n",
       "5.0     0.996678\n",
       "4.0     0.332226\n",
       "Name: proportion, dtype: float64"
      ]
     },
     "execution_count": 65,
     "metadata": {},
     "output_type": "execute_result"
    }
   ],
   "source": [
    "(films.Overall.value_counts(normalize=True))*100"
   ]
  },
  {
   "cell_type": "markdown",
   "id": "12d4414e",
   "metadata": {},
   "source": [
    "##### About 49 and 45 percent customers gave overall satisfaction 2 and 1 respectively. So most customers gave overall satisfaction 2 and 1"
   ]
  },
  {
   "cell_type": "markdown",
   "id": "b93b7712",
   "metadata": {},
   "source": [
    "### What factors are linked to satisfaction?"
   ]
  },
  {
   "cell_type": "code",
   "execution_count": 66,
   "id": "3892c100",
   "metadata": {},
   "outputs": [
    {
     "data": {
      "text/html": [
       "<div>\n",
       "<style scoped>\n",
       "    .dataframe tbody tr th:only-of-type {\n",
       "        vertical-align: middle;\n",
       "    }\n",
       "\n",
       "    .dataframe tbody tr th {\n",
       "        vertical-align: top;\n",
       "    }\n",
       "\n",
       "    .dataframe thead th {\n",
       "        text-align: right;\n",
       "    }\n",
       "</style>\n",
       "<table border=\"1\" class=\"dataframe\">\n",
       "  <thead>\n",
       "    <tr style=\"text-align: right;\">\n",
       "      <th></th>\n",
       "      <th>Movie</th>\n",
       "      <th>Gender</th>\n",
       "      <th>Marital_Status</th>\n",
       "      <th>Sinage</th>\n",
       "      <th>Parking</th>\n",
       "      <th>Clean</th>\n",
       "      <th>Overall</th>\n",
       "      <th>Age</th>\n",
       "      <th>Income</th>\n",
       "      <th>Hear_About</th>\n",
       "    </tr>\n",
       "  </thead>\n",
       "  <tbody>\n",
       "    <tr>\n",
       "      <th>0</th>\n",
       "      <td>Ferris Buellers Day Off</td>\n",
       "      <td>2</td>\n",
       "      <td>1</td>\n",
       "      <td>2.0</td>\n",
       "      <td>2.0</td>\n",
       "      <td>2.0</td>\n",
       "      <td>2.0</td>\n",
       "      <td>3.0</td>\n",
       "      <td>1.0</td>\n",
       "      <td>5</td>\n",
       "    </tr>\n",
       "    <tr>\n",
       "      <th>1</th>\n",
       "      <td>Ferris Buellers Day Off</td>\n",
       "      <td>2</td>\n",
       "      <td>2</td>\n",
       "      <td>1.0</td>\n",
       "      <td>1.0</td>\n",
       "      <td>1.0</td>\n",
       "      <td>1.0</td>\n",
       "      <td>2.0</td>\n",
       "      <td>1.0</td>\n",
       "      <td>5</td>\n",
       "    </tr>\n",
       "    <tr>\n",
       "      <th>2</th>\n",
       "      <td>Ferris Buellers Day Off</td>\n",
       "      <td>1</td>\n",
       "      <td>1</td>\n",
       "      <td>2.0</td>\n",
       "      <td>4.0</td>\n",
       "      <td>3.0</td>\n",
       "      <td>2.0</td>\n",
       "      <td>4.0</td>\n",
       "      <td>1.0</td>\n",
       "      <td>5</td>\n",
       "    </tr>\n",
       "    <tr>\n",
       "      <th>3</th>\n",
       "      <td>Ferris Buellers Day Off</td>\n",
       "      <td>2</td>\n",
       "      <td>1</td>\n",
       "      <td>1.0</td>\n",
       "      <td>3.0</td>\n",
       "      <td>2.0</td>\n",
       "      <td>2.0</td>\n",
       "      <td>4.0</td>\n",
       "      <td>1.0</td>\n",
       "      <td>5</td>\n",
       "    </tr>\n",
       "    <tr>\n",
       "      <th>4</th>\n",
       "      <td>Ferris Buellers Day Off</td>\n",
       "      <td>2</td>\n",
       "      <td>1</td>\n",
       "      <td>1.0</td>\n",
       "      <td>1.0</td>\n",
       "      <td>1.0</td>\n",
       "      <td>1.0</td>\n",
       "      <td>3.0</td>\n",
       "      <td>3.0</td>\n",
       "      <td>1</td>\n",
       "    </tr>\n",
       "    <tr>\n",
       "      <th>...</th>\n",
       "      <td>...</td>\n",
       "      <td>...</td>\n",
       "      <td>...</td>\n",
       "      <td>...</td>\n",
       "      <td>...</td>\n",
       "      <td>...</td>\n",
       "      <td>...</td>\n",
       "      <td>...</td>\n",
       "      <td>...</td>\n",
       "      <td>...</td>\n",
       "    </tr>\n",
       "    <tr>\n",
       "      <th>325</th>\n",
       "      <td>Old School</td>\n",
       "      <td>2</td>\n",
       "      <td>2</td>\n",
       "      <td>1.0</td>\n",
       "      <td>2.0</td>\n",
       "      <td>1.0</td>\n",
       "      <td>1.0</td>\n",
       "      <td>2.0</td>\n",
       "      <td>1.0</td>\n",
       "      <td>1</td>\n",
       "    </tr>\n",
       "    <tr>\n",
       "      <th>326</th>\n",
       "      <td>Old School</td>\n",
       "      <td>1</td>\n",
       "      <td>1</td>\n",
       "      <td>2.0</td>\n",
       "      <td>2.0</td>\n",
       "      <td>2.0</td>\n",
       "      <td>2.0</td>\n",
       "      <td>3.0</td>\n",
       "      <td>3.0</td>\n",
       "      <td>5</td>\n",
       "    </tr>\n",
       "    <tr>\n",
       "      <th>327</th>\n",
       "      <td>Old School</td>\n",
       "      <td>2</td>\n",
       "      <td>1</td>\n",
       "      <td>2.0</td>\n",
       "      <td>1.0</td>\n",
       "      <td>1.0</td>\n",
       "      <td>2.0</td>\n",
       "      <td>2.0</td>\n",
       "      <td>2.0</td>\n",
       "      <td>5</td>\n",
       "    </tr>\n",
       "    <tr>\n",
       "      <th>328</th>\n",
       "      <td>Old School</td>\n",
       "      <td>1</td>\n",
       "      <td>1</td>\n",
       "      <td>1.0</td>\n",
       "      <td>1.0</td>\n",
       "      <td>1.0</td>\n",
       "      <td>1.0</td>\n",
       "      <td>2.0</td>\n",
       "      <td>1.0</td>\n",
       "      <td>3</td>\n",
       "    </tr>\n",
       "    <tr>\n",
       "      <th>329</th>\n",
       "      <td>Old School</td>\n",
       "      <td>2</td>\n",
       "      <td>2</td>\n",
       "      <td>2.0</td>\n",
       "      <td>2.0</td>\n",
       "      <td>3.0</td>\n",
       "      <td>1.0</td>\n",
       "      <td>2.0</td>\n",
       "      <td>1.0</td>\n",
       "      <td>5</td>\n",
       "    </tr>\n",
       "  </tbody>\n",
       "</table>\n",
       "<p>301 rows × 10 columns</p>\n",
       "</div>"
      ],
      "text/plain": [
       "                       Movie  Gender  Marital_Status  Sinage  Parking  Clean   \n",
       "0    Ferris Buellers Day Off       2               1     2.0      2.0    2.0  \\\n",
       "1    Ferris Buellers Day Off       2               2     1.0      1.0    1.0   \n",
       "2    Ferris Buellers Day Off       1               1     2.0      4.0    3.0   \n",
       "3    Ferris Buellers Day Off       2               1     1.0      3.0    2.0   \n",
       "4    Ferris Buellers Day Off       2               1     1.0      1.0    1.0   \n",
       "..                       ...     ...             ...     ...      ...    ...   \n",
       "325               Old School       2               2     1.0      2.0    1.0   \n",
       "326               Old School       1               1     2.0      2.0    2.0   \n",
       "327               Old School       2               1     2.0      1.0    1.0   \n",
       "328               Old School       1               1     1.0      1.0    1.0   \n",
       "329               Old School       2               2     2.0      2.0    3.0   \n",
       "\n",
       "     Overall  Age  Income Hear_About  \n",
       "0        2.0  3.0     1.0          5  \n",
       "1        1.0  2.0     1.0          5  \n",
       "2        2.0  4.0     1.0          5  \n",
       "3        2.0  4.0     1.0          5  \n",
       "4        1.0  3.0     3.0          1  \n",
       "..       ...  ...     ...        ...  \n",
       "325      1.0  2.0     1.0          1  \n",
       "326      2.0  3.0     3.0          5  \n",
       "327      2.0  2.0     2.0          5  \n",
       "328      1.0  2.0     1.0          3  \n",
       "329      1.0  2.0     1.0          5  \n",
       "\n",
       "[301 rows x 10 columns]"
      ]
     },
     "execution_count": 66,
     "metadata": {},
     "output_type": "execute_result"
    }
   ],
   "source": [
    "films"
   ]
  },
  {
   "cell_type": "markdown",
   "id": "ea78c820",
   "metadata": {},
   "source": [
    "#### Signage"
   ]
  },
  {
   "cell_type": "markdown",
   "id": "2032db6e",
   "metadata": {},
   "source": [
    "> H0: Signage is not affecting the Overall satisfaction <br>\n",
    "H1: Signage is affecting the Overall satisfaction"
   ]
  },
  {
   "cell_type": "code",
   "execution_count": 85,
   "id": "b9b8777a",
   "metadata": {},
   "outputs": [
    {
     "data": {
      "text/plain": [
       "(121.32462033201085,\n",
       " 1.2922844322850256e-14,\n",
       " 25,\n",
       " array([[4.77906977e+01, 5.16279070e+01, 4.18604651e+00, 3.48837209e-01,\n",
       "         1.04651163e+00, 1.05000000e+02],\n",
       "        [6.37209302e+01, 6.88372093e+01, 5.58139535e+00, 4.65116279e-01,\n",
       "         1.39534884e+00, 1.40000000e+02],\n",
       "        [2.04817276e+01, 2.21262458e+01, 1.79401993e+00, 1.49501661e-01,\n",
       "         4.48504983e-01, 4.50000000e+01],\n",
       "        [2.73089701e+00, 2.95016611e+00, 2.39202658e-01, 1.99335548e-02,\n",
       "         5.98006645e-02, 6.00000000e+00],\n",
       "        [2.27574751e+00, 2.45847176e+00, 1.99335548e-01, 1.66112957e-02,\n",
       "         4.98338870e-02, 5.00000000e+00],\n",
       "        [1.37000000e+02, 1.48000000e+02, 1.20000000e+01, 1.00000000e+00,\n",
       "         3.00000000e+00, 3.01000000e+02]]))"
      ]
     },
     "execution_count": 85,
     "metadata": {},
     "output_type": "execute_result"
    }
   ],
   "source": [
    "stats.chi2_contingency(pd.crosstab(films.Sinage,films.Overall,margins=True))"
   ]
  },
  {
   "cell_type": "markdown",
   "id": "e19a3ef6",
   "metadata": {},
   "source": [
    "Here p value is lesser than 0.05. So we  reject null hypothesis with 95% confidence level"
   ]
  },
  {
   "cell_type": "markdown",
   "id": "ffedde51",
   "metadata": {},
   "source": [
    "##### Signage is affecting Overall satisfaction. Signage is one of the factors linked to Overall satisfaction"
   ]
  },
  {
   "cell_type": "markdown",
   "id": "2858fe29",
   "metadata": {},
   "source": [
    "#### Parking"
   ]
  },
  {
   "cell_type": "markdown",
   "id": "d08a93a4",
   "metadata": {},
   "source": [
    "> H0: Parking is not affecting the Overall satisfaction <br>\n",
    "H1: Parking is affecting the Overall satisfaction"
   ]
  },
  {
   "cell_type": "code",
   "execution_count": 67,
   "id": "e55553b4",
   "metadata": {},
   "outputs": [
    {
     "data": {
      "text/plain": [
       "(218.79348282085002,\n",
       " 7.07379320798715e-33,\n",
       " 25,\n",
       " array([[5.55282392e+01, 5.99867110e+01, 4.86378738e+00, 4.05315615e-01,\n",
       "         1.21594684e+00, 1.22000000e+02],\n",
       "        [6.32657807e+01, 6.83455150e+01, 5.54152824e+00, 4.61794020e-01,\n",
       "         1.38538206e+00, 1.39000000e+02],\n",
       "        [1.31993355e+01, 1.42591362e+01, 1.15614618e+00, 9.63455150e-02,\n",
       "         2.89036545e-01, 2.90000000e+01],\n",
       "        [3.18604651e+00, 3.44186047e+00, 2.79069767e-01, 2.32558140e-02,\n",
       "         6.97674419e-02, 7.00000000e+00],\n",
       "        [1.82059801e+00, 1.96677741e+00, 1.59468439e-01, 1.32890365e-02,\n",
       "         3.98671096e-02, 4.00000000e+00],\n",
       "        [1.37000000e+02, 1.48000000e+02, 1.20000000e+01, 1.00000000e+00,\n",
       "         3.00000000e+00, 3.01000000e+02]]))"
      ]
     },
     "execution_count": 67,
     "metadata": {},
     "output_type": "execute_result"
    }
   ],
   "source": [
    "stats.chi2_contingency(pd.crosstab(films.Parking,films.Overall,margins=True))"
   ]
  },
  {
   "cell_type": "markdown",
   "id": "83e88cd5",
   "metadata": {},
   "source": [
    "Here p value is lesser than 0.05. So we  reject null hypothesis with 95% confidence level"
   ]
  },
  {
   "cell_type": "markdown",
   "id": "5078f98c",
   "metadata": {},
   "source": [
    "##### Parking is affecting Overall satisfaction. Parking is one of the factors linked to Overall satisfaction"
   ]
  },
  {
   "cell_type": "markdown",
   "id": "07a48cf7",
   "metadata": {},
   "source": [
    "#### Cleanliness"
   ]
  },
  {
   "cell_type": "markdown",
   "id": "6428822b",
   "metadata": {},
   "source": [
    "> H0: Cleanliness is not affecting the Overall satisfaction <br>\n",
    "H1: Cleanliness is affecting the Overall satisfaction"
   ]
  },
  {
   "cell_type": "code",
   "execution_count": 68,
   "id": "0ddc0796",
   "metadata": {},
   "outputs": [
    {
     "data": {
      "text/plain": [
       "(129.0342392337068,\n",
       " 5.484923462041103e-16,\n",
       " 25,\n",
       " array([[6.09900332e+01, 6.58870432e+01, 5.34219269e+00, 4.45182724e-01,\n",
       "         1.33554817e+00, 1.34000000e+02],\n",
       "        [6.28106312e+01, 6.78538206e+01, 5.50166113e+00, 4.58471761e-01,\n",
       "         1.37541528e+00, 1.38000000e+02],\n",
       "        [1.00132890e+01, 1.08172757e+01, 8.77076412e-01, 7.30897010e-02,\n",
       "         2.19269103e-01, 2.20000000e+01],\n",
       "        [2.27574751e+00, 2.45847176e+00, 1.99335548e-01, 1.66112957e-02,\n",
       "         4.98338870e-02, 5.00000000e+00],\n",
       "        [9.10299003e-01, 9.83388704e-01, 7.97342193e-02, 6.64451827e-03,\n",
       "         1.99335548e-02, 2.00000000e+00],\n",
       "        [1.37000000e+02, 1.48000000e+02, 1.20000000e+01, 1.00000000e+00,\n",
       "         3.00000000e+00, 3.01000000e+02]]))"
      ]
     },
     "execution_count": 68,
     "metadata": {},
     "output_type": "execute_result"
    }
   ],
   "source": [
    "stats.chi2_contingency(pd.crosstab(films.Clean,films.Overall,margins=True))"
   ]
  },
  {
   "cell_type": "markdown",
   "id": "30f95904",
   "metadata": {},
   "source": [
    "Here p value is lesser than 0.05. So we  reject null hypothesis with 95% confidence level"
   ]
  },
  {
   "cell_type": "markdown",
   "id": "c3ac22f2",
   "metadata": {},
   "source": [
    "##### Clean is affecting the overall satisfaction. Cleanliness is one of the factors linked to Overall satisfaction"
   ]
  },
  {
   "cell_type": "code",
   "execution_count": 69,
   "id": "1486f3df",
   "metadata": {},
   "outputs": [
    {
     "data": {
      "text/plain": [
       "(13.765798136752121,\n",
       " 0.5433606325907478,\n",
       " 15,\n",
       " array([[5.82591362e+01, 6.29368771e+01, 5.10299003e+00, 4.25249169e-01,\n",
       "         1.27574751e+00, 1.28000000e+02],\n",
       "        [1.41096346e+01, 1.52425249e+01, 1.23588040e+00, 1.02990033e-01,\n",
       "         3.08970100e-01, 3.10000000e+01],\n",
       "        [6.46312292e+01, 6.98205980e+01, 5.66112957e+00, 4.71760797e-01,\n",
       "         1.41528239e+00, 1.42000000e+02],\n",
       "        [1.37000000e+02, 1.48000000e+02, 1.20000000e+01, 1.00000000e+00,\n",
       "         3.00000000e+00, 3.01000000e+02]]))"
      ]
     },
     "execution_count": 69,
     "metadata": {},
     "output_type": "execute_result"
    }
   ],
   "source": [
    "stats.chi2_contingency(pd.crosstab(films.Movie,films.Overall,margins=True)) # Films which showing didn't affect Overall satisfaction"
   ]
  },
  {
   "cell_type": "markdown",
   "id": "aba91b34",
   "metadata": {},
   "source": [
    "##### Signage,Parking and Clean Are the only three factors linked to overall satisfaction"
   ]
  },
  {
   "cell_type": "markdown",
   "id": "b5d218bb",
   "metadata": {},
   "source": [
    "### What is the demographic profile of Film on the Rocks patrons?"
   ]
  },
  {
   "cell_type": "code",
   "execution_count": 70,
   "id": "7a66c09c",
   "metadata": {},
   "outputs": [
    {
     "data": {
      "text/plain": [
       "Gender\n",
       "2    195\n",
       "1    106\n",
       "Name: count, dtype: int64"
      ]
     },
     "execution_count": 70,
     "metadata": {},
     "output_type": "execute_result"
    }
   ],
   "source": [
    "films.Gender.value_counts() # More females are attending than men"
   ]
  },
  {
   "cell_type": "code",
   "execution_count": 71,
   "id": "7e267222",
   "metadata": {},
   "outputs": [
    {
     "data": {
      "text/plain": [
       "Gender\n",
       "2    64.784053\n",
       "1    35.215947\n",
       "Name: proportion, dtype: float64"
      ]
     },
     "execution_count": 71,
     "metadata": {},
     "output_type": "execute_result"
    }
   ],
   "source": [
    "films.Gender.value_counts(normalize=True) * 100"
   ]
  },
  {
   "cell_type": "markdown",
   "id": "e5728390",
   "metadata": {},
   "source": [
    "##### 64 percent of customers are Females"
   ]
  },
  {
   "cell_type": "code",
   "execution_count": 72,
   "id": "477611ee",
   "metadata": {},
   "outputs": [
    {
     "data": {
      "text/plain": [
       "Marital_Status\n",
       "2    210\n",
       "1     91\n",
       "Name: count, dtype: int64"
      ]
     },
     "execution_count": 72,
     "metadata": {},
     "output_type": "execute_result"
    }
   ],
   "source": [
    "films.Marital_Status.value_counts() # Singles are attending more than married peoples"
   ]
  },
  {
   "cell_type": "code",
   "execution_count": 73,
   "id": "8e07ad7e",
   "metadata": {},
   "outputs": [
    {
     "data": {
      "text/plain": [
       "Marital_Status\n",
       "2    69.767442\n",
       "1    30.232558\n",
       "Name: proportion, dtype: float64"
      ]
     },
     "execution_count": 73,
     "metadata": {},
     "output_type": "execute_result"
    }
   ],
   "source": [
    "films.Marital_Status.value_counts(normalize=True) * 100"
   ]
  },
  {
   "cell_type": "markdown",
   "id": "07083787",
   "metadata": {},
   "source": [
    "##### About 69 percent of customers are Singles"
   ]
  },
  {
   "cell_type": "code",
   "execution_count": 74,
   "id": "8f6936e0",
   "metadata": {},
   "outputs": [
    {
     "data": {
      "text/plain": [
       "Age\n",
       "2.0    164\n",
       "3.0    108\n",
       "1.0     22\n",
       "4.0      7\n",
       "Name: count, dtype: int64"
      ]
     },
     "execution_count": 74,
     "metadata": {},
     "output_type": "execute_result"
    }
   ],
   "source": [
    "films.Age.value_counts() # Age grooup 13-30 attending more than any other age group"
   ]
  },
  {
   "cell_type": "code",
   "execution_count": 75,
   "id": "cb4026b0",
   "metadata": {},
   "outputs": [
    {
     "data": {
      "text/plain": [
       "Age\n",
       "2.0    54.485050\n",
       "3.0    35.880399\n",
       "1.0     7.308970\n",
       "4.0     2.325581\n",
       "Name: proportion, dtype: float64"
      ]
     },
     "execution_count": 75,
     "metadata": {},
     "output_type": "execute_result"
    }
   ],
   "source": [
    "films.Age.value_counts(normalize=True) * 100"
   ]
  },
  {
   "cell_type": "markdown",
   "id": "e23dbe41",
   "metadata": {},
   "source": [
    "##### 54 percent of customers are in the age group of 13-30"
   ]
  },
  {
   "cell_type": "code",
   "execution_count": 76,
   "id": "c84baec6",
   "metadata": {},
   "outputs": [
    {
     "data": {
      "text/plain": [
       "Income\n",
       "1.0    135\n",
       "3.0     86\n",
       "2.0     80\n",
       "Name: count, dtype: int64"
      ]
     },
     "execution_count": 76,
     "metadata": {},
     "output_type": "execute_result"
    }
   ],
   "source": [
    "films.Income.value_counts() # Peoples who have income Less than $50,000 are attending more"
   ]
  },
  {
   "cell_type": "code",
   "execution_count": 77,
   "id": "64891866",
   "metadata": {},
   "outputs": [
    {
     "data": {
      "text/plain": [
       "Income\n",
       "1.0    44.850498\n",
       "3.0    28.571429\n",
       "2.0    26.578073\n",
       "Name: proportion, dtype: float64"
      ]
     },
     "execution_count": 77,
     "metadata": {},
     "output_type": "execute_result"
    }
   ],
   "source": [
    "films.Income.value_counts(normalize=True) * 100"
   ]
  },
  {
   "cell_type": "markdown",
   "id": "fbdd9783",
   "metadata": {},
   "source": [
    "##### 44 percent of customers are in the income range of less than $50,000"
   ]
  },
  {
   "cell_type": "code",
   "execution_count": 78,
   "id": "6927d3d5",
   "metadata": {},
   "outputs": [
    {
     "data": {
      "image/png": "[encoded data removed]",
      "text/plain": [
       "<Figure size 800x500 with 1 Axes>"
      ]
     },
     "metadata": {},
     "output_type": "display_data"
    }
   ],
   "source": [
    "\n",
    "sns.set_palette(\"Set2\")\n",
    "\n",
    "plt.figure(figsize=(8, 5))  # Adjust the figsize as per your preference\n",
    "sns.countplot(data=films, x='Gender', hue='Movie')\n",
    "plt.xlabel('Gender')\n",
    "plt.ylabel('Count')\n",
    "plt.title('Count of Genders for each Film')\n",
    "plt.legend(title='Movie')\n",
    "plt.show()\n"
   ]
  },
  {
   "cell_type": "code",
   "execution_count": 79,
   "id": "ad798a57",
   "metadata": {},
   "outputs": [
    {
     "data": {
      "image/png": "[encoded data removed]",
      "text/plain": [
       "<Figure size 1000x600 with 1 Axes>"
      ]
     },
     "metadata": {},
     "output_type": "display_data"
    }
   ],
   "source": [
    "\n",
    "sns.set_palette(\"deep\")\n",
    "\n",
    "plt.figure(figsize=(10, 6))\n",
    "sns.countplot(data=films, x='Marital_Status', hue='Movie')\n",
    "plt.xlabel('Marital Status')\n",
    "plt.ylabel('Count')\n",
    "plt.title('Count of Marital Status for each Film')\n",
    "plt.legend(title='Movie')\n",
    "plt.show()\n"
   ]
  },
  {
   "cell_type": "code",
   "execution_count": 80,
   "id": "0b379dbf",
   "metadata": {},
   "outputs": [
    {
     "data": {
      "image/png": "[encoded data removed]",
      "text/plain": [
       "<Figure size 1000x600 with 1 Axes>"
      ]
     },
     "metadata": {},
     "output_type": "display_data"
    }
   ],
   "source": [
    "sns.set_palette(\"deep\")\n",
    "\n",
    "plt.figure(figsize=(10, 6))\n",
    "sns.countplot(data=films, x='Age', hue='Movie')\n",
    "plt.xlabel('Age Category')\n",
    "plt.ylabel('Count')\n",
    "plt.title('Count of Age Category for each Film')\n",
    "plt.legend(title='Movie')\n",
    "plt.show()"
   ]
  },
  {
   "cell_type": "code",
   "execution_count": 81,
   "id": "32d36706",
   "metadata": {},
   "outputs": [
    {
     "data": {
      "image/png": "[encoded data removed]",
      "text/plain": [
       "<Figure size 1000x600 with 1 Axes>"
      ]
     },
     "metadata": {},
     "output_type": "display_data"
    }
   ],
   "source": [
    "\n",
    "sns.set_palette(\"deep\")\n",
    "\n",
    "plt.figure(figsize=(10, 6))\n",
    "sns.countplot(data=films, x='Income', hue='Movie')\n",
    "plt.xlabel('Income Category')\n",
    "plt.ylabel('Count')\n",
    "plt.title('Count of Income Category for each Film')\n",
    "plt.legend(title='Movie')\n",
    "plt.show()"
   ]
  },
  {
   "cell_type": "markdown",
   "id": "6b7e4cf6",
   "metadata": {},
   "source": [
    "### In what media outlet(s) should the film series be advertised?"
   ]
  },
  {
   "cell_type": "code",
   "execution_count": 82,
   "id": "fcc18fdd",
   "metadata": {},
   "outputs": [],
   "source": [
    "a = films.loc[films.Hear_About.isin(['1','2','3','4','5'])].Hear_About.value_counts()"
   ]
  },
  {
   "cell_type": "code",
   "execution_count": 83,
   "id": "590ec28f",
   "metadata": {},
   "outputs": [
    {
     "data": {
      "text/plain": [
       "Hear_About\n",
       "5    212\n",
       "4     39\n",
       "1     19\n",
       "3     13\n",
       "2     11\n",
       "Name: count, dtype: int64"
      ]
     },
     "execution_count": 83,
     "metadata": {},
     "output_type": "execute_result"
    }
   ],
   "source": [
    "a"
   ]
  },
  {
   "cell_type": "code",
   "execution_count": 85,
   "id": "0e4c74d5",
   "metadata": {},
   "outputs": [
    {
     "data": {
      "image/png": "[encoded data removed]",
      "text/plain": [
       "<Figure size 800x500 with 1 Axes>"
      ]
     },
     "metadata": {},
     "output_type": "display_data"
    }
   ],
   "source": [
    "\n",
    "colors = ['#FFC300', '#FF5733', '#C70039', '#900C3F', '#581845']\n",
    "\n",
    "plt.figure(figsize=(8, 5))\n",
    "a.plot(kind='bar', color=colors)\n",
    "plt.xlabel('Categories')\n",
    "plt.ylabel('Count')\n",
    "plt.title('Distribution of Categories')\n",
    "plt.xticks(rotation=45)\n",
    "plt.show()\n"
   ]
  },
  {
   "cell_type": "markdown",
   "id": "e431fb2d",
   "metadata": {},
   "source": [
    "#### 72 percent of participants in the data attended the film fest  from word of mouth ie through mouth publicity . Then more than 13 percent of viewers know about the film fest through websites.\n"
   ]
  },
  {
   "cell_type": "markdown",
   "id": "e5d8ebe0",
   "metadata": {},
   "source": [
    "##### Website advertisement should be focused more than any other advertisements in media outlets. Most of the people are spending much time in internet. Website advertisement should mainly consist of social media ad."
   ]
  }
 ],
 "metadata": {
  "kernelspec": {
   "display_name": "Python 3 (ipykernel)",
   "language": "python",
   "name": "python3"
  },
  "language_info": {
   "codemirror_mode": {
    "name": "ipython",
    "version": 3
   },
   "file_extension": ".py",
   "mimetype": "text/x-python",
   "name": "python",
   "nbconvert_exporter": "python",
   "pygments_lexer": "ipython3",
   "version": "3.10.9"
  }
 },
 "nbformat": 4,
 "nbformat_minor": 5
}
