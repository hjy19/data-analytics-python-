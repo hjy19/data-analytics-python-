{
 "cells": [
  {
   "cell_type": "markdown",
   "id": "abc54363",
   "metadata": {},
   "source": [
    "# Customer Analysis for Retail Case Study"
   ]
  },
  {
   "cell_type": "code",
   "execution_count": 96,
   "id": "dd1bb12c",
   "metadata": {},
   "outputs": [],
   "source": [
    "import numpy as np\n",
    "import pandas as pd \n",
    "import matplotlib.pyplot as  plt  \n",
    "import seaborn as sns\n",
    "import datetime as dt\n",
    "import warnings\n",
    "warnings.filterwarnings('ignore')"
   ]
  },
  {
   "cell_type": "markdown",
   "id": "06e58530",
   "metadata": {},
   "source": [
    "### Importing Datasets"
   ]
  },
  {
   "cell_type": "code",
   "execution_count": 44,
   "id": "c806956c",
   "metadata": {},
   "outputs": [],
   "source": [
    "Customers =pd.read_csv(\"Customer.csv\")\n",
    "Product_Hierarchy = pd.read_csv(\"prod_cat_info.csv\")\n",
    "Product_Hierarchy.rename(columns={'prod_sub_cat_code': 'prod_subcat_code'}, inplace=True)\n",
    "Transactions = pd.read_csv(\"Transactions.csv\")"
   ]
  },
  {
   "cell_type": "markdown",
   "id": "44f91b55",
   "metadata": {},
   "source": [
    "## Create a report and display the below calculated metrics, reports and inferences.\n",
    "### 1. Merge the datasets Customers, Product Hierarchy and Transactions as Customer_Final. Ensure to keep all customers who have done transactions with us and select the join type accordingly.\n"
   ]
  },
  {
   "cell_type": "code",
   "execution_count": 45,
   "id": "5ce725c7",
   "metadata": {},
   "outputs": [
    {
     "data": {
      "text/html": [
       "<div>\n",
       "<style scoped>\n",
       "    .dataframe tbody tr th:only-of-type {\n",
       "        vertical-align: middle;\n",
       "    }\n",
       "\n",
       "    .dataframe tbody tr th {\n",
       "        vertical-align: top;\n",
       "    }\n",
       "\n",
       "    .dataframe thead th {\n",
       "        text-align: right;\n",
       "    }\n",
       "</style>\n",
       "<table border=\"1\" class=\"dataframe\">\n",
       "  <thead>\n",
       "    <tr style=\"text-align: right;\">\n",
       "      <th></th>\n",
       "      <th>transaction_id</th>\n",
       "      <th>cust_id</th>\n",
       "      <th>tran_date</th>\n",
       "      <th>prod_subcat_code</th>\n",
       "      <th>prod_cat_code</th>\n",
       "      <th>Qty</th>\n",
       "      <th>Rate</th>\n",
       "      <th>Tax</th>\n",
       "      <th>total_amt</th>\n",
       "      <th>Store_type</th>\n",
       "      <th>customer_Id</th>\n",
       "      <th>DOB</th>\n",
       "      <th>Gender</th>\n",
       "      <th>city_code</th>\n",
       "      <th>prod_cat</th>\n",
       "      <th>prod_subcat</th>\n",
       "    </tr>\n",
       "  </thead>\n",
       "  <tbody>\n",
       "    <tr>\n",
       "      <th>0</th>\n",
       "      <td>80712190438</td>\n",
       "      <td>270351</td>\n",
       "      <td>28-02-2014</td>\n",
       "      <td>1</td>\n",
       "      <td>1</td>\n",
       "      <td>-5</td>\n",
       "      <td>-772</td>\n",
       "      <td>405.300</td>\n",
       "      <td>-4265.300</td>\n",
       "      <td>e-Shop</td>\n",
       "      <td>270351</td>\n",
       "      <td>26-09-1981</td>\n",
       "      <td>M</td>\n",
       "      <td>5.0</td>\n",
       "      <td>Clothing</td>\n",
       "      <td>Women</td>\n",
       "    </tr>\n",
       "    <tr>\n",
       "      <th>1</th>\n",
       "      <td>80712190438</td>\n",
       "      <td>270351</td>\n",
       "      <td>20-02-2014</td>\n",
       "      <td>1</td>\n",
       "      <td>1</td>\n",
       "      <td>5</td>\n",
       "      <td>772</td>\n",
       "      <td>405.300</td>\n",
       "      <td>4265.300</td>\n",
       "      <td>e-Shop</td>\n",
       "      <td>270351</td>\n",
       "      <td>26-09-1981</td>\n",
       "      <td>M</td>\n",
       "      <td>5.0</td>\n",
       "      <td>Clothing</td>\n",
       "      <td>Women</td>\n",
       "    </tr>\n",
       "    <tr>\n",
       "      <th>2</th>\n",
       "      <td>18505840838</td>\n",
       "      <td>271509</td>\n",
       "      <td>16-12-2013</td>\n",
       "      <td>1</td>\n",
       "      <td>1</td>\n",
       "      <td>3</td>\n",
       "      <td>1229</td>\n",
       "      <td>387.135</td>\n",
       "      <td>4074.135</td>\n",
       "      <td>Flagship store</td>\n",
       "      <td>271509</td>\n",
       "      <td>08-06-1981</td>\n",
       "      <td>M</td>\n",
       "      <td>3.0</td>\n",
       "      <td>Clothing</td>\n",
       "      <td>Women</td>\n",
       "    </tr>\n",
       "    <tr>\n",
       "      <th>3</th>\n",
       "      <td>92814475704</td>\n",
       "      <td>267750</td>\n",
       "      <td>16-08-2013</td>\n",
       "      <td>1</td>\n",
       "      <td>1</td>\n",
       "      <td>-4</td>\n",
       "      <td>-284</td>\n",
       "      <td>119.280</td>\n",
       "      <td>-1255.280</td>\n",
       "      <td>Flagship store</td>\n",
       "      <td>267750</td>\n",
       "      <td>13-10-1986</td>\n",
       "      <td>M</td>\n",
       "      <td>1.0</td>\n",
       "      <td>Clothing</td>\n",
       "      <td>Women</td>\n",
       "    </tr>\n",
       "    <tr>\n",
       "      <th>4</th>\n",
       "      <td>92814475704</td>\n",
       "      <td>267750</td>\n",
       "      <td>7/8/2013</td>\n",
       "      <td>1</td>\n",
       "      <td>1</td>\n",
       "      <td>4</td>\n",
       "      <td>284</td>\n",
       "      <td>119.280</td>\n",
       "      <td>1255.280</td>\n",
       "      <td>Flagship store</td>\n",
       "      <td>267750</td>\n",
       "      <td>13-10-1986</td>\n",
       "      <td>M</td>\n",
       "      <td>1.0</td>\n",
       "      <td>Clothing</td>\n",
       "      <td>Women</td>\n",
       "    </tr>\n",
       "    <tr>\n",
       "      <th>...</th>\n",
       "      <td>...</td>\n",
       "      <td>...</td>\n",
       "      <td>...</td>\n",
       "      <td>...</td>\n",
       "      <td>...</td>\n",
       "      <td>...</td>\n",
       "      <td>...</td>\n",
       "      <td>...</td>\n",
       "      <td>...</td>\n",
       "      <td>...</td>\n",
       "      <td>...</td>\n",
       "      <td>...</td>\n",
       "      <td>...</td>\n",
       "      <td>...</td>\n",
       "      <td>...</td>\n",
       "      <td>...</td>\n",
       "    </tr>\n",
       "    <tr>\n",
       "      <th>23048</th>\n",
       "      <td>7173864364</td>\n",
       "      <td>271157</td>\n",
       "      <td>9/4/2011</td>\n",
       "      <td>4</td>\n",
       "      <td>4</td>\n",
       "      <td>5</td>\n",
       "      <td>788</td>\n",
       "      <td>413.700</td>\n",
       "      <td>4353.700</td>\n",
       "      <td>Flagship store</td>\n",
       "      <td>271157</td>\n",
       "      <td>15-10-1973</td>\n",
       "      <td>F</td>\n",
       "      <td>6.0</td>\n",
       "      <td>Bags</td>\n",
       "      <td>Women</td>\n",
       "    </tr>\n",
       "    <tr>\n",
       "      <th>23049</th>\n",
       "      <td>5618131425</td>\n",
       "      <td>272010</td>\n",
       "      <td>3/3/2011</td>\n",
       "      <td>4</td>\n",
       "      <td>4</td>\n",
       "      <td>2</td>\n",
       "      <td>1150</td>\n",
       "      <td>241.500</td>\n",
       "      <td>2541.500</td>\n",
       "      <td>MBR</td>\n",
       "      <td>272010</td>\n",
       "      <td>22-12-1972</td>\n",
       "      <td>F</td>\n",
       "      <td>5.0</td>\n",
       "      <td>Bags</td>\n",
       "      <td>Women</td>\n",
       "    </tr>\n",
       "    <tr>\n",
       "      <th>23050</th>\n",
       "      <td>18727956164</td>\n",
       "      <td>267161</td>\n",
       "      <td>23-02-2011</td>\n",
       "      <td>4</td>\n",
       "      <td>4</td>\n",
       "      <td>5</td>\n",
       "      <td>668</td>\n",
       "      <td>350.700</td>\n",
       "      <td>3690.700</td>\n",
       "      <td>e-Shop</td>\n",
       "      <td>267161</td>\n",
       "      <td>08-05-1981</td>\n",
       "      <td>M</td>\n",
       "      <td>9.0</td>\n",
       "      <td>Bags</td>\n",
       "      <td>Women</td>\n",
       "    </tr>\n",
       "    <tr>\n",
       "      <th>23051</th>\n",
       "      <td>60416814232</td>\n",
       "      <td>273281</td>\n",
       "      <td>18-02-2011</td>\n",
       "      <td>4</td>\n",
       "      <td>4</td>\n",
       "      <td>4</td>\n",
       "      <td>202</td>\n",
       "      <td>84.840</td>\n",
       "      <td>892.840</td>\n",
       "      <td>Flagship store</td>\n",
       "      <td>273281</td>\n",
       "      <td>14-12-1988</td>\n",
       "      <td>F</td>\n",
       "      <td>9.0</td>\n",
       "      <td>Bags</td>\n",
       "      <td>Women</td>\n",
       "    </tr>\n",
       "    <tr>\n",
       "      <th>23052</th>\n",
       "      <td>83245680995</td>\n",
       "      <td>273723</td>\n",
       "      <td>26-01-2011</td>\n",
       "      <td>4</td>\n",
       "      <td>4</td>\n",
       "      <td>4</td>\n",
       "      <td>1477</td>\n",
       "      <td>620.340</td>\n",
       "      <td>6528.340</td>\n",
       "      <td>e-Shop</td>\n",
       "      <td>273723</td>\n",
       "      <td>21-01-1984</td>\n",
       "      <td>F</td>\n",
       "      <td>4.0</td>\n",
       "      <td>Bags</td>\n",
       "      <td>Women</td>\n",
       "    </tr>\n",
       "  </tbody>\n",
       "</table>\n",
       "<p>23053 rows × 16 columns</p>\n",
       "</div>"
      ],
      "text/plain": [
       "       transaction_id  cust_id   tran_date  prod_subcat_code  prod_cat_code   \n",
       "0         80712190438   270351  28-02-2014                 1              1  \\\n",
       "1         80712190438   270351  20-02-2014                 1              1   \n",
       "2         18505840838   271509  16-12-2013                 1              1   \n",
       "3         92814475704   267750  16-08-2013                 1              1   \n",
       "4         92814475704   267750    7/8/2013                 1              1   \n",
       "...               ...      ...         ...               ...            ...   \n",
       "23048      7173864364   271157    9/4/2011                 4              4   \n",
       "23049      5618131425   272010    3/3/2011                 4              4   \n",
       "23050     18727956164   267161  23-02-2011                 4              4   \n",
       "23051     60416814232   273281  18-02-2011                 4              4   \n",
       "23052     83245680995   273723  26-01-2011                 4              4   \n",
       "\n",
       "       Qty  Rate      Tax  total_amt      Store_type  customer_Id         DOB   \n",
       "0       -5  -772  405.300  -4265.300          e-Shop       270351  26-09-1981  \\\n",
       "1        5   772  405.300   4265.300          e-Shop       270351  26-09-1981   \n",
       "2        3  1229  387.135   4074.135  Flagship store       271509  08-06-1981   \n",
       "3       -4  -284  119.280  -1255.280  Flagship store       267750  13-10-1986   \n",
       "4        4   284  119.280   1255.280  Flagship store       267750  13-10-1986   \n",
       "...    ...   ...      ...        ...             ...          ...         ...   \n",
       "23048    5   788  413.700   4353.700  Flagship store       271157  15-10-1973   \n",
       "23049    2  1150  241.500   2541.500             MBR       272010  22-12-1972   \n",
       "23050    5   668  350.700   3690.700          e-Shop       267161  08-05-1981   \n",
       "23051    4   202   84.840    892.840  Flagship store       273281  14-12-1988   \n",
       "23052    4  1477  620.340   6528.340          e-Shop       273723  21-01-1984   \n",
       "\n",
       "      Gender  city_code  prod_cat prod_subcat  \n",
       "0          M        5.0  Clothing       Women  \n",
       "1          M        5.0  Clothing       Women  \n",
       "2          M        3.0  Clothing       Women  \n",
       "3          M        1.0  Clothing       Women  \n",
       "4          M        1.0  Clothing       Women  \n",
       "...      ...        ...       ...         ...  \n",
       "23048      F        6.0      Bags       Women  \n",
       "23049      F        5.0      Bags       Women  \n",
       "23050      M        9.0      Bags       Women  \n",
       "23051      F        9.0      Bags       Women  \n",
       "23052      F        4.0      Bags       Women  \n",
       "\n",
       "[23053 rows x 16 columns]"
      ]
     },
     "execution_count": 45,
     "metadata": {},
     "output_type": "execute_result"
    }
   ],
   "source": [
    "Customer_Final = Transactions.merge(Customers,how='inner',left_on='cust_id',right_on='customer_Id').merge(Product_Hierarchy,how='inner',on=['prod_subcat_code','prod_cat_code'])\n",
    "Customer_Final"
   ]
  },
  {
   "cell_type": "markdown",
   "id": "e59a40cc",
   "metadata": {},
   "source": [
    "### 2. Prepare a summary report for the merged data set.\n",
    "### a. Get the column names and their corresponding data types"
   ]
  },
  {
   "cell_type": "code",
   "execution_count": 46,
   "id": "ea20844c",
   "metadata": {},
   "outputs": [
    {
     "data": {
      "text/plain": [
       "Index(['transaction_id', 'cust_id', 'tran_date', 'prod_subcat_code',\n",
       "       'prod_cat_code', 'Qty', 'Rate', 'Tax', 'total_amt', 'Store_type',\n",
       "       'customer_Id', 'DOB', 'Gender', 'city_code', 'prod_cat', 'prod_subcat'],\n",
       "      dtype='object')"
      ]
     },
     "execution_count": 46,
     "metadata": {},
     "output_type": "execute_result"
    }
   ],
   "source": [
    "# Column names in Customer Final\n",
    "Customer_Final.columns"
   ]
  },
  {
   "cell_type": "code",
   "execution_count": 47,
   "id": "8e43ed72",
   "metadata": {},
   "outputs": [
    {
     "data": {
      "text/plain": [
       "transaction_id        int64\n",
       "cust_id               int64\n",
       "tran_date            object\n",
       "prod_subcat_code      int64\n",
       "prod_cat_code         int64\n",
       "Qty                   int64\n",
       "Rate                  int64\n",
       "Tax                 float64\n",
       "total_amt           float64\n",
       "Store_type           object\n",
       "customer_Id           int64\n",
       "DOB                  object\n",
       "Gender               object\n",
       "city_code           float64\n",
       "prod_cat             object\n",
       "prod_subcat          object\n",
       "dtype: object"
      ]
     },
     "execution_count": 47,
     "metadata": {},
     "output_type": "execute_result"
    }
   ],
   "source": [
    "# Data types of columns in Customer Final\n",
    "Customer_Final.dtypes"
   ]
  },
  {
   "cell_type": "markdown",
   "id": "7a36188c",
   "metadata": {},
   "source": [
    "### b. Top/Bottom 10 observations"
   ]
  },
  {
   "cell_type": "code",
   "execution_count": 48,
   "id": "9c6648dd",
   "metadata": {},
   "outputs": [
    {
     "data": {
      "text/html": [
       "<div>\n",
       "<style scoped>\n",
       "    .dataframe tbody tr th:only-of-type {\n",
       "        vertical-align: middle;\n",
       "    }\n",
       "\n",
       "    .dataframe tbody tr th {\n",
       "        vertical-align: top;\n",
       "    }\n",
       "\n",
       "    .dataframe thead th {\n",
       "        text-align: right;\n",
       "    }\n",
       "</style>\n",
       "<table border=\"1\" class=\"dataframe\">\n",
       "  <thead>\n",
       "    <tr style=\"text-align: right;\">\n",
       "      <th></th>\n",
       "      <th>transaction_id</th>\n",
       "      <th>cust_id</th>\n",
       "      <th>tran_date</th>\n",
       "      <th>prod_subcat_code</th>\n",
       "      <th>prod_cat_code</th>\n",
       "      <th>Qty</th>\n",
       "      <th>Rate</th>\n",
       "      <th>Tax</th>\n",
       "      <th>total_amt</th>\n",
       "      <th>Store_type</th>\n",
       "      <th>customer_Id</th>\n",
       "      <th>DOB</th>\n",
       "      <th>Gender</th>\n",
       "      <th>city_code</th>\n",
       "      <th>prod_cat</th>\n",
       "      <th>prod_subcat</th>\n",
       "    </tr>\n",
       "  </thead>\n",
       "  <tbody>\n",
       "    <tr>\n",
       "      <th>0</th>\n",
       "      <td>80712190438</td>\n",
       "      <td>270351</td>\n",
       "      <td>28-02-2014</td>\n",
       "      <td>1</td>\n",
       "      <td>1</td>\n",
       "      <td>-5</td>\n",
       "      <td>-772</td>\n",
       "      <td>405.300</td>\n",
       "      <td>-4265.300</td>\n",
       "      <td>e-Shop</td>\n",
       "      <td>270351</td>\n",
       "      <td>26-09-1981</td>\n",
       "      <td>M</td>\n",
       "      <td>5.0</td>\n",
       "      <td>Clothing</td>\n",
       "      <td>Women</td>\n",
       "    </tr>\n",
       "    <tr>\n",
       "      <th>1</th>\n",
       "      <td>80712190438</td>\n",
       "      <td>270351</td>\n",
       "      <td>20-02-2014</td>\n",
       "      <td>1</td>\n",
       "      <td>1</td>\n",
       "      <td>5</td>\n",
       "      <td>772</td>\n",
       "      <td>405.300</td>\n",
       "      <td>4265.300</td>\n",
       "      <td>e-Shop</td>\n",
       "      <td>270351</td>\n",
       "      <td>26-09-1981</td>\n",
       "      <td>M</td>\n",
       "      <td>5.0</td>\n",
       "      <td>Clothing</td>\n",
       "      <td>Women</td>\n",
       "    </tr>\n",
       "    <tr>\n",
       "      <th>2</th>\n",
       "      <td>18505840838</td>\n",
       "      <td>271509</td>\n",
       "      <td>16-12-2013</td>\n",
       "      <td>1</td>\n",
       "      <td>1</td>\n",
       "      <td>3</td>\n",
       "      <td>1229</td>\n",
       "      <td>387.135</td>\n",
       "      <td>4074.135</td>\n",
       "      <td>Flagship store</td>\n",
       "      <td>271509</td>\n",
       "      <td>08-06-1981</td>\n",
       "      <td>M</td>\n",
       "      <td>3.0</td>\n",
       "      <td>Clothing</td>\n",
       "      <td>Women</td>\n",
       "    </tr>\n",
       "    <tr>\n",
       "      <th>3</th>\n",
       "      <td>92814475704</td>\n",
       "      <td>267750</td>\n",
       "      <td>16-08-2013</td>\n",
       "      <td>1</td>\n",
       "      <td>1</td>\n",
       "      <td>-4</td>\n",
       "      <td>-284</td>\n",
       "      <td>119.280</td>\n",
       "      <td>-1255.280</td>\n",
       "      <td>Flagship store</td>\n",
       "      <td>267750</td>\n",
       "      <td>13-10-1986</td>\n",
       "      <td>M</td>\n",
       "      <td>1.0</td>\n",
       "      <td>Clothing</td>\n",
       "      <td>Women</td>\n",
       "    </tr>\n",
       "    <tr>\n",
       "      <th>4</th>\n",
       "      <td>92814475704</td>\n",
       "      <td>267750</td>\n",
       "      <td>7/8/2013</td>\n",
       "      <td>1</td>\n",
       "      <td>1</td>\n",
       "      <td>4</td>\n",
       "      <td>284</td>\n",
       "      <td>119.280</td>\n",
       "      <td>1255.280</td>\n",
       "      <td>Flagship store</td>\n",
       "      <td>267750</td>\n",
       "      <td>13-10-1986</td>\n",
       "      <td>M</td>\n",
       "      <td>1.0</td>\n",
       "      <td>Clothing</td>\n",
       "      <td>Women</td>\n",
       "    </tr>\n",
       "    <tr>\n",
       "      <th>5</th>\n",
       "      <td>4737317330</td>\n",
       "      <td>269345</td>\n",
       "      <td>29-07-2011</td>\n",
       "      <td>1</td>\n",
       "      <td>1</td>\n",
       "      <td>5</td>\n",
       "      <td>1141</td>\n",
       "      <td>599.025</td>\n",
       "      <td>6304.025</td>\n",
       "      <td>MBR</td>\n",
       "      <td>269345</td>\n",
       "      <td>26-06-1970</td>\n",
       "      <td>F</td>\n",
       "      <td>10.0</td>\n",
       "      <td>Clothing</td>\n",
       "      <td>Women</td>\n",
       "    </tr>\n",
       "    <tr>\n",
       "      <th>6</th>\n",
       "      <td>44425889101</td>\n",
       "      <td>274987</td>\n",
       "      <td>18-03-2012</td>\n",
       "      <td>1</td>\n",
       "      <td>1</td>\n",
       "      <td>4</td>\n",
       "      <td>897</td>\n",
       "      <td>376.740</td>\n",
       "      <td>3964.740</td>\n",
       "      <td>Flagship store</td>\n",
       "      <td>274987</td>\n",
       "      <td>08-10-1983</td>\n",
       "      <td>M</td>\n",
       "      <td>2.0</td>\n",
       "      <td>Clothing</td>\n",
       "      <td>Women</td>\n",
       "    </tr>\n",
       "    <tr>\n",
       "      <th>7</th>\n",
       "      <td>90501340928</td>\n",
       "      <td>271817</td>\n",
       "      <td>19-02-2012</td>\n",
       "      <td>1</td>\n",
       "      <td>1</td>\n",
       "      <td>1</td>\n",
       "      <td>1122</td>\n",
       "      <td>117.810</td>\n",
       "      <td>1239.810</td>\n",
       "      <td>TeleShop</td>\n",
       "      <td>271817</td>\n",
       "      <td>24-12-1989</td>\n",
       "      <td>M</td>\n",
       "      <td>8.0</td>\n",
       "      <td>Clothing</td>\n",
       "      <td>Women</td>\n",
       "    </tr>\n",
       "    <tr>\n",
       "      <th>8</th>\n",
       "      <td>99335419136</td>\n",
       "      <td>268755</td>\n",
       "      <td>13-12-2012</td>\n",
       "      <td>1</td>\n",
       "      <td>1</td>\n",
       "      <td>3</td>\n",
       "      <td>1181</td>\n",
       "      <td>372.015</td>\n",
       "      <td>3915.015</td>\n",
       "      <td>e-Shop</td>\n",
       "      <td>268755</td>\n",
       "      <td>15-07-1984</td>\n",
       "      <td>F</td>\n",
       "      <td>8.0</td>\n",
       "      <td>Clothing</td>\n",
       "      <td>Women</td>\n",
       "    </tr>\n",
       "    <tr>\n",
       "      <th>9</th>\n",
       "      <td>35030444164</td>\n",
       "      <td>268129</td>\n",
       "      <td>18-11-2011</td>\n",
       "      <td>1</td>\n",
       "      <td>1</td>\n",
       "      <td>5</td>\n",
       "      <td>1047</td>\n",
       "      <td>549.675</td>\n",
       "      <td>5784.675</td>\n",
       "      <td>MBR</td>\n",
       "      <td>268129</td>\n",
       "      <td>07-08-1982</td>\n",
       "      <td>F</td>\n",
       "      <td>9.0</td>\n",
       "      <td>Clothing</td>\n",
       "      <td>Women</td>\n",
       "    </tr>\n",
       "  </tbody>\n",
       "</table>\n",
       "</div>"
      ],
      "text/plain": [
       "   transaction_id  cust_id   tran_date  prod_subcat_code  prod_cat_code  Qty   \n",
       "0     80712190438   270351  28-02-2014                 1              1   -5  \\\n",
       "1     80712190438   270351  20-02-2014                 1              1    5   \n",
       "2     18505840838   271509  16-12-2013                 1              1    3   \n",
       "3     92814475704   267750  16-08-2013                 1              1   -4   \n",
       "4     92814475704   267750    7/8/2013                 1              1    4   \n",
       "5      4737317330   269345  29-07-2011                 1              1    5   \n",
       "6     44425889101   274987  18-03-2012                 1              1    4   \n",
       "7     90501340928   271817  19-02-2012                 1              1    1   \n",
       "8     99335419136   268755  13-12-2012                 1              1    3   \n",
       "9     35030444164   268129  18-11-2011                 1              1    5   \n",
       "\n",
       "   Rate      Tax  total_amt      Store_type  customer_Id         DOB Gender   \n",
       "0  -772  405.300  -4265.300          e-Shop       270351  26-09-1981      M  \\\n",
       "1   772  405.300   4265.300          e-Shop       270351  26-09-1981      M   \n",
       "2  1229  387.135   4074.135  Flagship store       271509  08-06-1981      M   \n",
       "3  -284  119.280  -1255.280  Flagship store       267750  13-10-1986      M   \n",
       "4   284  119.280   1255.280  Flagship store       267750  13-10-1986      M   \n",
       "5  1141  599.025   6304.025             MBR       269345  26-06-1970      F   \n",
       "6   897  376.740   3964.740  Flagship store       274987  08-10-1983      M   \n",
       "7  1122  117.810   1239.810        TeleShop       271817  24-12-1989      M   \n",
       "8  1181  372.015   3915.015          e-Shop       268755  15-07-1984      F   \n",
       "9  1047  549.675   5784.675             MBR       268129  07-08-1982      F   \n",
       "\n",
       "   city_code  prod_cat prod_subcat  \n",
       "0        5.0  Clothing       Women  \n",
       "1        5.0  Clothing       Women  \n",
       "2        3.0  Clothing       Women  \n",
       "3        1.0  Clothing       Women  \n",
       "4        1.0  Clothing       Women  \n",
       "5       10.0  Clothing       Women  \n",
       "6        2.0  Clothing       Women  \n",
       "7        8.0  Clothing       Women  \n",
       "8        8.0  Clothing       Women  \n",
       "9        9.0  Clothing       Women  "
      ]
     },
     "execution_count": 48,
     "metadata": {},
     "output_type": "execute_result"
    }
   ],
   "source": [
    "# Top 10 observations\n",
    "Customer_Final.head(10)"
   ]
  },
  {
   "cell_type": "code",
   "execution_count": 49,
   "id": "fa358360",
   "metadata": {},
   "outputs": [
    {
     "data": {
      "text/html": [
       "<div>\n",
       "<style scoped>\n",
       "    .dataframe tbody tr th:only-of-type {\n",
       "        vertical-align: middle;\n",
       "    }\n",
       "\n",
       "    .dataframe tbody tr th {\n",
       "        vertical-align: top;\n",
       "    }\n",
       "\n",
       "    .dataframe thead th {\n",
       "        text-align: right;\n",
       "    }\n",
       "</style>\n",
       "<table border=\"1\" class=\"dataframe\">\n",
       "  <thead>\n",
       "    <tr style=\"text-align: right;\">\n",
       "      <th></th>\n",
       "      <th>transaction_id</th>\n",
       "      <th>cust_id</th>\n",
       "      <th>tran_date</th>\n",
       "      <th>prod_subcat_code</th>\n",
       "      <th>prod_cat_code</th>\n",
       "      <th>Qty</th>\n",
       "      <th>Rate</th>\n",
       "      <th>Tax</th>\n",
       "      <th>total_amt</th>\n",
       "      <th>Store_type</th>\n",
       "      <th>customer_Id</th>\n",
       "      <th>DOB</th>\n",
       "      <th>Gender</th>\n",
       "      <th>city_code</th>\n",
       "      <th>prod_cat</th>\n",
       "      <th>prod_subcat</th>\n",
       "    </tr>\n",
       "  </thead>\n",
       "  <tbody>\n",
       "    <tr>\n",
       "      <th>23043</th>\n",
       "      <td>3387244829</td>\n",
       "      <td>269114</td>\n",
       "      <td>15-07-2011</td>\n",
       "      <td>4</td>\n",
       "      <td>4</td>\n",
       "      <td>1</td>\n",
       "      <td>388</td>\n",
       "      <td>40.740</td>\n",
       "      <td>428.740</td>\n",
       "      <td>e-Shop</td>\n",
       "      <td>269114</td>\n",
       "      <td>22-01-1989</td>\n",
       "      <td>F</td>\n",
       "      <td>5.0</td>\n",
       "      <td>Bags</td>\n",
       "      <td>Women</td>\n",
       "    </tr>\n",
       "    <tr>\n",
       "      <th>23044</th>\n",
       "      <td>76906459516</td>\n",
       "      <td>267940</td>\n",
       "      <td>15-06-2011</td>\n",
       "      <td>4</td>\n",
       "      <td>4</td>\n",
       "      <td>2</td>\n",
       "      <td>1263</td>\n",
       "      <td>265.230</td>\n",
       "      <td>2791.230</td>\n",
       "      <td>Flagship store</td>\n",
       "      <td>267940</td>\n",
       "      <td>09-06-1979</td>\n",
       "      <td>M</td>\n",
       "      <td>9.0</td>\n",
       "      <td>Bags</td>\n",
       "      <td>Women</td>\n",
       "    </tr>\n",
       "    <tr>\n",
       "      <th>23045</th>\n",
       "      <td>73549617163</td>\n",
       "      <td>271334</td>\n",
       "      <td>5/7/2011</td>\n",
       "      <td>4</td>\n",
       "      <td>4</td>\n",
       "      <td>5</td>\n",
       "      <td>263</td>\n",
       "      <td>138.075</td>\n",
       "      <td>1453.075</td>\n",
       "      <td>e-Shop</td>\n",
       "      <td>271334</td>\n",
       "      <td>08-12-1983</td>\n",
       "      <td>F</td>\n",
       "      <td>10.0</td>\n",
       "      <td>Bags</td>\n",
       "      <td>Women</td>\n",
       "    </tr>\n",
       "    <tr>\n",
       "      <th>23046</th>\n",
       "      <td>75339646315</td>\n",
       "      <td>274827</td>\n",
       "      <td>2/5/2011</td>\n",
       "      <td>4</td>\n",
       "      <td>4</td>\n",
       "      <td>4</td>\n",
       "      <td>1381</td>\n",
       "      <td>580.020</td>\n",
       "      <td>6104.020</td>\n",
       "      <td>e-Shop</td>\n",
       "      <td>274827</td>\n",
       "      <td>27-12-1988</td>\n",
       "      <td>F</td>\n",
       "      <td>8.0</td>\n",
       "      <td>Bags</td>\n",
       "      <td>Women</td>\n",
       "    </tr>\n",
       "    <tr>\n",
       "      <th>23047</th>\n",
       "      <td>6650926717</td>\n",
       "      <td>268110</td>\n",
       "      <td>5/4/2011</td>\n",
       "      <td>4</td>\n",
       "      <td>4</td>\n",
       "      <td>4</td>\n",
       "      <td>1036</td>\n",
       "      <td>435.120</td>\n",
       "      <td>4579.120</td>\n",
       "      <td>MBR</td>\n",
       "      <td>268110</td>\n",
       "      <td>06-03-1976</td>\n",
       "      <td>M</td>\n",
       "      <td>2.0</td>\n",
       "      <td>Bags</td>\n",
       "      <td>Women</td>\n",
       "    </tr>\n",
       "    <tr>\n",
       "      <th>23048</th>\n",
       "      <td>7173864364</td>\n",
       "      <td>271157</td>\n",
       "      <td>9/4/2011</td>\n",
       "      <td>4</td>\n",
       "      <td>4</td>\n",
       "      <td>5</td>\n",
       "      <td>788</td>\n",
       "      <td>413.700</td>\n",
       "      <td>4353.700</td>\n",
       "      <td>Flagship store</td>\n",
       "      <td>271157</td>\n",
       "      <td>15-10-1973</td>\n",
       "      <td>F</td>\n",
       "      <td>6.0</td>\n",
       "      <td>Bags</td>\n",
       "      <td>Women</td>\n",
       "    </tr>\n",
       "    <tr>\n",
       "      <th>23049</th>\n",
       "      <td>5618131425</td>\n",
       "      <td>272010</td>\n",
       "      <td>3/3/2011</td>\n",
       "      <td>4</td>\n",
       "      <td>4</td>\n",
       "      <td>2</td>\n",
       "      <td>1150</td>\n",
       "      <td>241.500</td>\n",
       "      <td>2541.500</td>\n",
       "      <td>MBR</td>\n",
       "      <td>272010</td>\n",
       "      <td>22-12-1972</td>\n",
       "      <td>F</td>\n",
       "      <td>5.0</td>\n",
       "      <td>Bags</td>\n",
       "      <td>Women</td>\n",
       "    </tr>\n",
       "    <tr>\n",
       "      <th>23050</th>\n",
       "      <td>18727956164</td>\n",
       "      <td>267161</td>\n",
       "      <td>23-02-2011</td>\n",
       "      <td>4</td>\n",
       "      <td>4</td>\n",
       "      <td>5</td>\n",
       "      <td>668</td>\n",
       "      <td>350.700</td>\n",
       "      <td>3690.700</td>\n",
       "      <td>e-Shop</td>\n",
       "      <td>267161</td>\n",
       "      <td>08-05-1981</td>\n",
       "      <td>M</td>\n",
       "      <td>9.0</td>\n",
       "      <td>Bags</td>\n",
       "      <td>Women</td>\n",
       "    </tr>\n",
       "    <tr>\n",
       "      <th>23051</th>\n",
       "      <td>60416814232</td>\n",
       "      <td>273281</td>\n",
       "      <td>18-02-2011</td>\n",
       "      <td>4</td>\n",
       "      <td>4</td>\n",
       "      <td>4</td>\n",
       "      <td>202</td>\n",
       "      <td>84.840</td>\n",
       "      <td>892.840</td>\n",
       "      <td>Flagship store</td>\n",
       "      <td>273281</td>\n",
       "      <td>14-12-1988</td>\n",
       "      <td>F</td>\n",
       "      <td>9.0</td>\n",
       "      <td>Bags</td>\n",
       "      <td>Women</td>\n",
       "    </tr>\n",
       "    <tr>\n",
       "      <th>23052</th>\n",
       "      <td>83245680995</td>\n",
       "      <td>273723</td>\n",
       "      <td>26-01-2011</td>\n",
       "      <td>4</td>\n",
       "      <td>4</td>\n",
       "      <td>4</td>\n",
       "      <td>1477</td>\n",
       "      <td>620.340</td>\n",
       "      <td>6528.340</td>\n",
       "      <td>e-Shop</td>\n",
       "      <td>273723</td>\n",
       "      <td>21-01-1984</td>\n",
       "      <td>F</td>\n",
       "      <td>4.0</td>\n",
       "      <td>Bags</td>\n",
       "      <td>Women</td>\n",
       "    </tr>\n",
       "  </tbody>\n",
       "</table>\n",
       "</div>"
      ],
      "text/plain": [
       "       transaction_id  cust_id   tran_date  prod_subcat_code  prod_cat_code   \n",
       "23043      3387244829   269114  15-07-2011                 4              4  \\\n",
       "23044     76906459516   267940  15-06-2011                 4              4   \n",
       "23045     73549617163   271334    5/7/2011                 4              4   \n",
       "23046     75339646315   274827    2/5/2011                 4              4   \n",
       "23047      6650926717   268110    5/4/2011                 4              4   \n",
       "23048      7173864364   271157    9/4/2011                 4              4   \n",
       "23049      5618131425   272010    3/3/2011                 4              4   \n",
       "23050     18727956164   267161  23-02-2011                 4              4   \n",
       "23051     60416814232   273281  18-02-2011                 4              4   \n",
       "23052     83245680995   273723  26-01-2011                 4              4   \n",
       "\n",
       "       Qty  Rate      Tax  total_amt      Store_type  customer_Id         DOB   \n",
       "23043    1   388   40.740    428.740          e-Shop       269114  22-01-1989  \\\n",
       "23044    2  1263  265.230   2791.230  Flagship store       267940  09-06-1979   \n",
       "23045    5   263  138.075   1453.075          e-Shop       271334  08-12-1983   \n",
       "23046    4  1381  580.020   6104.020          e-Shop       274827  27-12-1988   \n",
       "23047    4  1036  435.120   4579.120             MBR       268110  06-03-1976   \n",
       "23048    5   788  413.700   4353.700  Flagship store       271157  15-10-1973   \n",
       "23049    2  1150  241.500   2541.500             MBR       272010  22-12-1972   \n",
       "23050    5   668  350.700   3690.700          e-Shop       267161  08-05-1981   \n",
       "23051    4   202   84.840    892.840  Flagship store       273281  14-12-1988   \n",
       "23052    4  1477  620.340   6528.340          e-Shop       273723  21-01-1984   \n",
       "\n",
       "      Gender  city_code prod_cat prod_subcat  \n",
       "23043      F        5.0     Bags       Women  \n",
       "23044      M        9.0     Bags       Women  \n",
       "23045      F       10.0     Bags       Women  \n",
       "23046      F        8.0     Bags       Women  \n",
       "23047      M        2.0     Bags       Women  \n",
       "23048      F        6.0     Bags       Women  \n",
       "23049      F        5.0     Bags       Women  \n",
       "23050      M        9.0     Bags       Women  \n",
       "23051      F        9.0     Bags       Women  \n",
       "23052      F        4.0     Bags       Women  "
      ]
     },
     "execution_count": 49,
     "metadata": {},
     "output_type": "execute_result"
    }
   ],
   "source": [
    "# Bottom 10 observations\n",
    "Customer_Final.tail(10)"
   ]
  },
  {
   "cell_type": "markdown",
   "id": "91e7e069",
   "metadata": {},
   "source": [
    "### c. “Five-number summary” for continuous variables (min, Q1, median, Q3 and max)"
   ]
  },
  {
   "cell_type": "code",
   "execution_count": 50,
   "id": "d6eeae01",
   "metadata": {},
   "outputs": [
    {
     "data": {
      "text/html": [
       "<div>\n",
       "<style scoped>\n",
       "    .dataframe tbody tr th:only-of-type {\n",
       "        vertical-align: middle;\n",
       "    }\n",
       "\n",
       "    .dataframe tbody tr th {\n",
       "        vertical-align: top;\n",
       "    }\n",
       "\n",
       "    .dataframe thead th {\n",
       "        text-align: right;\n",
       "    }\n",
       "</style>\n",
       "<table border=\"1\" class=\"dataframe\">\n",
       "  <thead>\n",
       "    <tr style=\"text-align: right;\">\n",
       "      <th></th>\n",
       "      <th>Qty</th>\n",
       "      <th>Rate</th>\n",
       "      <th>Tax</th>\n",
       "      <th>total_amt</th>\n",
       "    </tr>\n",
       "  </thead>\n",
       "  <tbody>\n",
       "    <tr>\n",
       "      <th>min</th>\n",
       "      <td>-5.0</td>\n",
       "      <td>-1499.0</td>\n",
       "      <td>7.350</td>\n",
       "      <td>-8270.925</td>\n",
       "    </tr>\n",
       "    <tr>\n",
       "      <th>Q1</th>\n",
       "      <td>1.0</td>\n",
       "      <td>312.0</td>\n",
       "      <td>98.280</td>\n",
       "      <td>762.450</td>\n",
       "    </tr>\n",
       "    <tr>\n",
       "      <th>median</th>\n",
       "      <td>3.0</td>\n",
       "      <td>710.0</td>\n",
       "      <td>199.080</td>\n",
       "      <td>1754.740</td>\n",
       "    </tr>\n",
       "    <tr>\n",
       "      <th>Q3</th>\n",
       "      <td>4.0</td>\n",
       "      <td>1109.0</td>\n",
       "      <td>365.715</td>\n",
       "      <td>3569.150</td>\n",
       "    </tr>\n",
       "    <tr>\n",
       "      <th>max</th>\n",
       "      <td>5.0</td>\n",
       "      <td>1500.0</td>\n",
       "      <td>787.500</td>\n",
       "      <td>8287.500</td>\n",
       "    </tr>\n",
       "  </tbody>\n",
       "</table>\n",
       "</div>"
      ],
      "text/plain": [
       "        Qty    Rate      Tax  total_amt\n",
       "min    -5.0 -1499.0    7.350  -8270.925\n",
       "Q1      1.0   312.0   98.280    762.450\n",
       "median  3.0   710.0  199.080   1754.740\n",
       "Q3      4.0  1109.0  365.715   3569.150\n",
       "max     5.0  1500.0  787.500   8287.500"
      ]
     },
     "execution_count": 50,
     "metadata": {},
     "output_type": "execute_result"
    }
   ],
   "source": [
    "# Here '25%','50%', '75%' means Q1 ,median, Q3 respectively \n",
    "y =Customer_Final.loc[:,'Qty':'total_amt'].describe().loc[['min','25%','50%','75%','max']]\n",
    "y.rename(index={'25%': 'Q1','50%':'median','75%':'Q3'},inplace=True)\n",
    "y"
   ]
  },
  {
   "cell_type": "markdown",
   "id": "2e121677",
   "metadata": {},
   "source": [
    "### d. Frequency tables for all the categorical variables"
   ]
  },
  {
   "cell_type": "code",
   "execution_count": 51,
   "id": "86dc2696",
   "metadata": {},
   "outputs": [
    {
     "data": {
      "text/plain": [
       "Gender\n",
       "M    11811\n",
       "F    11233\n",
       "Name: count, dtype: int64"
      ]
     },
     "execution_count": 51,
     "metadata": {},
     "output_type": "execute_result"
    }
   ],
   "source": [
    "# Frequency of different Genders\n",
    "Customer_Final.value_counts('Gender')"
   ]
  },
  {
   "cell_type": "code",
   "execution_count": 52,
   "id": "69ebbb75",
   "metadata": {},
   "outputs": [
    {
     "data": {
      "text/plain": [
       "Store_type\n",
       "e-Shop            9311\n",
       "MBR               4661\n",
       "Flagship store    4577\n",
       "TeleShop          4504\n",
       "Name: count, dtype: int64"
      ]
     },
     "execution_count": 52,
     "metadata": {},
     "output_type": "execute_result"
    }
   ],
   "source": [
    "# Frequency of different Store Types\n",
    "Customer_Final.value_counts('Store_type')"
   ]
  },
  {
   "cell_type": "code",
   "execution_count": 53,
   "id": "b923b340",
   "metadata": {},
   "outputs": [
    {
     "data": {
      "text/plain": [
       "city_code\n",
       "4.0     2422\n",
       "3.0     2411\n",
       "5.0     2360\n",
       "7.0     2356\n",
       "10.0    2333\n",
       "8.0     2330\n",
       "2.0     2270\n",
       "1.0     2258\n",
       "9.0     2178\n",
       "6.0     2127\n",
       "Name: count, dtype: int64"
      ]
     },
     "execution_count": 53,
     "metadata": {},
     "output_type": "execute_result"
    }
   ],
   "source": [
    "# Frequency of different City Codes\n",
    "Customer_Final.value_counts('city_code')"
   ]
  },
  {
   "cell_type": "code",
   "execution_count": 54,
   "id": "3678613c",
   "metadata": {},
   "outputs": [
    {
     "data": {
      "text/html": [
       "<div>\n",
       "<style scoped>\n",
       "    .dataframe tbody tr th:only-of-type {\n",
       "        vertical-align: middle;\n",
       "    }\n",
       "\n",
       "    .dataframe tbody tr th {\n",
       "        vertical-align: top;\n",
       "    }\n",
       "\n",
       "    .dataframe thead th {\n",
       "        text-align: right;\n",
       "    }\n",
       "</style>\n",
       "<table border=\"1\" class=\"dataframe\">\n",
       "  <thead>\n",
       "    <tr style=\"text-align: right;\">\n",
       "      <th></th>\n",
       "      <th></th>\n",
       "      <th>prod_subcat</th>\n",
       "    </tr>\n",
       "    <tr>\n",
       "      <th>prod_cat</th>\n",
       "      <th>prod_subcat</th>\n",
       "      <th></th>\n",
       "    </tr>\n",
       "  </thead>\n",
       "  <tbody>\n",
       "    <tr>\n",
       "      <th rowspan=\"2\" valign=\"top\">Bags</th>\n",
       "      <th>Mens</th>\n",
       "      <td>1003</td>\n",
       "    </tr>\n",
       "    <tr>\n",
       "      <th>Women</th>\n",
       "      <td>995</td>\n",
       "    </tr>\n",
       "    <tr>\n",
       "      <th rowspan=\"6\" valign=\"top\">Books</th>\n",
       "      <th>Academic</th>\n",
       "      <td>967</td>\n",
       "    </tr>\n",
       "    <tr>\n",
       "      <th>Children</th>\n",
       "      <td>1035</td>\n",
       "    </tr>\n",
       "    <tr>\n",
       "      <th>Comics</th>\n",
       "      <td>1031</td>\n",
       "    </tr>\n",
       "    <tr>\n",
       "      <th>DIY</th>\n",
       "      <td>989</td>\n",
       "    </tr>\n",
       "    <tr>\n",
       "      <th>Fiction</th>\n",
       "      <td>1043</td>\n",
       "    </tr>\n",
       "    <tr>\n",
       "      <th>Non-Fiction</th>\n",
       "      <td>1004</td>\n",
       "    </tr>\n",
       "    <tr>\n",
       "      <th rowspan=\"3\" valign=\"top\">Clothing</th>\n",
       "      <th>Kids</th>\n",
       "      <td>988</td>\n",
       "    </tr>\n",
       "    <tr>\n",
       "      <th>Mens</th>\n",
       "      <td>967</td>\n",
       "    </tr>\n",
       "    <tr>\n",
       "      <th>Women</th>\n",
       "      <td>1005</td>\n",
       "    </tr>\n",
       "    <tr>\n",
       "      <th rowspan=\"5\" valign=\"top\">Electronics</th>\n",
       "      <th>Audio and video</th>\n",
       "      <td>952</td>\n",
       "    </tr>\n",
       "    <tr>\n",
       "      <th>Cameras</th>\n",
       "      <td>985</td>\n",
       "    </tr>\n",
       "    <tr>\n",
       "      <th>Computers</th>\n",
       "      <td>958</td>\n",
       "    </tr>\n",
       "    <tr>\n",
       "      <th>Mobiles</th>\n",
       "      <td>1031</td>\n",
       "    </tr>\n",
       "    <tr>\n",
       "      <th>Personal Appliances</th>\n",
       "      <td>972</td>\n",
       "    </tr>\n",
       "    <tr>\n",
       "      <th rowspan=\"3\" valign=\"top\">Footwear</th>\n",
       "      <th>Kids</th>\n",
       "      <td>1009</td>\n",
       "    </tr>\n",
       "    <tr>\n",
       "      <th>Mens</th>\n",
       "      <td>942</td>\n",
       "    </tr>\n",
       "    <tr>\n",
       "      <th>Women</th>\n",
       "      <td>1048</td>\n",
       "    </tr>\n",
       "    <tr>\n",
       "      <th rowspan=\"4\" valign=\"top\">Home and kitchen</th>\n",
       "      <th>Bath</th>\n",
       "      <td>1023</td>\n",
       "    </tr>\n",
       "    <tr>\n",
       "      <th>Furnishing</th>\n",
       "      <td>1007</td>\n",
       "    </tr>\n",
       "    <tr>\n",
       "      <th>Kitchen</th>\n",
       "      <td>1037</td>\n",
       "    </tr>\n",
       "    <tr>\n",
       "      <th>Tools</th>\n",
       "      <td>1062</td>\n",
       "    </tr>\n",
       "  </tbody>\n",
       "</table>\n",
       "</div>"
      ],
      "text/plain": [
       "                                      prod_subcat\n",
       "prod_cat         prod_subcat                     \n",
       "Bags             Mens                        1003\n",
       "                 Women                        995\n",
       "Books            Academic                     967\n",
       "                 Children                    1035\n",
       "                 Comics                      1031\n",
       "                 DIY                          989\n",
       "                 Fiction                     1043\n",
       "                 Non-Fiction                 1004\n",
       "Clothing         Kids                         988\n",
       "                 Mens                         967\n",
       "                 Women                       1005\n",
       "Electronics      Audio and video              952\n",
       "                 Cameras                      985\n",
       "                 Computers                    958\n",
       "                 Mobiles                     1031\n",
       "                 Personal Appliances          972\n",
       "Footwear         Kids                        1009\n",
       "                 Mens                         942\n",
       "                 Women                       1048\n",
       "Home and kitchen Bath                        1023\n",
       "                 Furnishing                  1007\n",
       "                 Kitchen                     1037\n",
       "                 Tools                       1062"
      ]
     },
     "execution_count": 54,
     "metadata": {},
     "output_type": "execute_result"
    }
   ],
   "source": [
    "# Frequency of different prod_subcat in each of the prod_cat\n",
    "Customer_Final.groupby(['prod_cat','prod_subcat'])[['prod_subcat']].count()"
   ]
  },
  {
   "cell_type": "markdown",
   "id": "a0b6b792",
   "metadata": {},
   "source": [
    "### 3. Generate histograms for all continuous variables and frequency bars for categorical variables."
   ]
  },
  {
   "cell_type": "code",
   "execution_count": 55,
   "id": "187541c7",
   "metadata": {},
   "outputs": [
    {
     "data": {
      "image/png": "[encoded data removed]",
      "text/plain": [
       "<Figure size 640x480 with 1 Axes>"
      ]
     },
     "metadata": {},
     "output_type": "display_data"
    }
   ],
   "source": [
    "\n",
    "sns.set_palette(\"magma\")\n",
    "\n",
    "# Set the grid style\n",
    "sns.set_style(\"darkgrid\")\n",
    "\n",
    "# Plot the kernel density estimation\n",
    "sns.kdeplot(data=Customer_Final, x='Qty', fill=True)\n",
    "\n",
    "# Display the plot\n",
    "plt.show()\n"
   ]
  },
  {
   "cell_type": "code",
   "execution_count": 56,
   "id": "e4aa1036",
   "metadata": {},
   "outputs": [
    {
     "data": {
      "image/png": "[encoded data removed]",
      "text/plain": [
       "<Figure size 640x480 with 1 Axes>"
      ]
     },
     "metadata": {},
     "output_type": "display_data"
    }
   ],
   "source": [
    "\n",
    "# Set the color palette to \"Set2\"\n",
    "sns.set_palette(\"magma\")\n",
    "\n",
    "# Plot the histogram\n",
    "sns.histplot(data=Customer_Final, x='Rate', bins=8)\n",
    "\n",
    "# Display the plot\n",
    "plt.show()\n"
   ]
  },
  {
   "cell_type": "code",
   "execution_count": 57,
   "id": "97752879",
   "metadata": {},
   "outputs": [
    {
     "data": {
      "text/plain": [
       "<AxesSubplot: xlabel='Tax', ylabel='Count'>"
      ]
     },
     "execution_count": 57,
     "metadata": {},
     "output_type": "execute_result"
    },
    {
     "data": {
      "image/png": "[encoded data removed]",
      "text/plain": [
       "<Figure size 640x480 with 1 Axes>"
      ]
     },
     "metadata": {},
     "output_type": "display_data"
    }
   ],
   "source": [
    "\n",
    "import seaborn as sns\n",
    "\n",
    "sns.set_palette(\"magma\")\n",
    "sns.histplot(data=Customer_Final, x='Tax', bins=8)\n"
   ]
  },
  {
   "cell_type": "code",
   "execution_count": 58,
   "id": "fd678cb9",
   "metadata": {},
   "outputs": [
    {
     "data": {
      "image/png": "[encoded data removed]",
      "text/plain": [
       "<Figure size 640x480 with 1 Axes>"
      ]
     },
     "metadata": {},
     "output_type": "display_data"
    }
   ],
   "source": [
    "# Histogram for total amount\n",
    "sns.set_palette(\"viridis\")\n",
    "sns.histplot(data = Customer_Final,x='total_amt',bins=8);"
   ]
  },
  {
   "cell_type": "code",
   "execution_count": 59,
   "id": "2ca4fbdc",
   "metadata": {},
   "outputs": [
    {
     "data": {
      "image/png": "[encoded data removed]",
      "text/plain": [
       "<Figure size 640x480 with 1 Axes>"
      ]
     },
     "metadata": {},
     "output_type": "display_data"
    }
   ],
   "source": [
    "# Bar chart of Gender\n",
    "sns.set_palette(\"PiYG\")\n",
    "sns.barplot(x=Customer_Final.value_counts('Gender').index,y=Customer_Final.value_counts('Gender').values)\n",
    "plt.ylabel('Count');"
   ]
  },
  {
   "cell_type": "code",
   "execution_count": 60,
   "id": "767a4b46",
   "metadata": {},
   "outputs": [
    {
     "data": {
      "image/png": "[encoded data removed]",
      "text/plain": [
       "<Figure size 640x480 with 1 Axes>"
      ]
     },
     "metadata": {},
     "output_type": "display_data"
    }
   ],
   "source": [
    "# Bar chart for Store Type\n",
    "sns.set_palette(\"deep\")\n",
    "sns.barplot(x=Customer_Final.value_counts('Store_type').index,y=Customer_Final.value_counts('Store_type').values)\n",
    "plt.ylabel('Count');"
   ]
  },
  {
   "cell_type": "code",
   "execution_count": 61,
   "id": "091ceabe",
   "metadata": {},
   "outputs": [
    {
     "data": {
      "image/png": "[encoded data removed]",
      "text/plain": [
       "<Figure size 640x480 with 1 Axes>"
      ]
     },
     "metadata": {},
     "output_type": "display_data"
    }
   ],
   "source": [
    "# Bar chart for City code\n",
    "sns.set_palette('deep')\n",
    "sns.barplot(x=Customer_Final.value_counts('city_code').index,y=Customer_Final.value_counts('city_code').values)\n",
    "plt.ylabel('Count');"
   ]
  },
  {
   "cell_type": "code",
   "execution_count": 63,
   "id": "f638ad56",
   "metadata": {},
   "outputs": [
    {
     "data": {
      "image/png": "[encoded data removed]",
      "text/plain": [
       "<Figure size 1900x900 with 1 Axes>"
      ]
     },
     "metadata": {},
     "output_type": "display_data"
    }
   ],
   "source": [
    "# Using pivot table and seaborn\n",
    "x=Customer_Final.pivot_table(index=['prod_cat','prod_subcat'],values='cust_id',aggfunc='count')\n",
    "x=x.reset_index(level ='prod_subcat')\n",
    "sns.set_palette(\"Set1\")\n",
    "plt.figure(figsize=(19,9))\n",
    "plt.xticks(np.arange(0, 1200, step=100))\n",
    "m =sns.barplot(data=x,hue=x.index,x=x.prod_subcat,y=x.cust_id)\n",
    "sns.move_legend( m,\"upper left\", bbox_to_anchor=(1, 1))\n",
    "plt.ylabel('Count');"
   ]
  },
  {
   "cell_type": "code",
   "execution_count": 64,
   "id": "70b5e85a",
   "metadata": {},
   "outputs": [
    {
     "data": {
      "image/png": "[encoded data removed]",
      "text/plain": [
       "<Figure size 1000x800 with 1 Axes>"
      ]
     },
     "metadata": {},
     "output_type": "display_data"
    }
   ],
   "source": [
    "\n",
    "\n",
    "sns.set_palette(\"deep\")\n",
    "plt.figure(figsize=(10, 8))\n",
    "x = Customer_Final.groupby(['prod_cat', 'prod_subcat']).size().reset_index(name='count')\n",
    "x = x.sort_values('count', ascending=False)\n",
    "sns.barplot(data=x, y='prod_subcat', x='count', hue='prod_cat', dodge=False)\n",
    "plt.xlabel('Count')\n",
    "plt.ylabel('Product Subcategory')\n",
    "plt.legend(title='Product Category')\n",
    "plt.show()\n"
   ]
  },
  {
   "cell_type": "markdown",
   "id": "6d3af904",
   "metadata": {},
   "source": [
    "### 4. Calculate the following information using the merged dataset :\n",
    "### a. Time period of the available transaction data"
   ]
  },
  {
   "cell_type": "code",
   "execution_count": 65,
   "id": "9a54bd42",
   "metadata": {},
   "outputs": [
    {
     "data": {
      "text/plain": [
       "0       2014-02-28\n",
       "1       2014-02-27\n",
       "2       2014-02-24\n",
       "3       2014-02-24\n",
       "4       2014-02-23\n",
       "           ...    \n",
       "23048   2011-01-25\n",
       "23049   2011-01-25\n",
       "23050   2011-01-25\n",
       "23051   2011-01-25\n",
       "23052   2011-01-25\n",
       "Name: tran_date, Length: 23053, dtype: datetime64[ns]"
      ]
     },
     "execution_count": 65,
     "metadata": {},
     "output_type": "execute_result"
    }
   ],
   "source": [
    "Transactions['tran_date'] = pd.to_datetime(Transactions['tran_date'], format='mixed', dayfirst=True)\n",
    "Transactions['tran_date']"
   ]
  },
  {
   "cell_type": "code",
   "execution_count": 66,
   "id": "02102fb8",
   "metadata": {},
   "outputs": [],
   "source": [
    "Customer_Final['tran_date'] = pd.to_datetime(Customer_Final['tran_date'], format='mixed', dayfirst=True)\n"
   ]
  },
  {
   "cell_type": "code",
   "execution_count": 67,
   "id": "a7cc59da",
   "metadata": {},
   "outputs": [
    {
     "data": {
      "text/plain": [
       "1130"
      ]
     },
     "execution_count": 67,
     "metadata": {},
     "output_type": "execute_result"
    }
   ],
   "source": [
    "# Time period in Days\n",
    "(Customer_Final.tran_date.max()-Customer_Final.tran_date.min()).days"
   ]
  },
  {
   "cell_type": "code",
   "execution_count": 128,
   "id": "a7bfddae",
   "metadata": {},
   "outputs": [
    {
     "data": {
      "text/plain": [
       "37"
      ]
     },
     "execution_count": 128,
     "metadata": {},
     "output_type": "execute_result"
    }
   ],
   "source": [
    "# Time period in Months approximately\n",
    "(Customer_Final.tran_date.max().to_period('m') - Customer_Final.tran_date.min().to_period('m')).n"
   ]
  },
  {
   "cell_type": "code",
   "execution_count": 68,
   "id": "502ddee6",
   "metadata": {},
   "outputs": [
    {
     "data": {
      "text/plain": [
       "3"
      ]
     },
     "execution_count": 68,
     "metadata": {},
     "output_type": "execute_result"
    }
   ],
   "source": [
    "# Time period in Years approximately\n",
    "(Customer_Final.tran_date.max().to_period('y') - Customer_Final.tran_date.min().to_period('y')).n"
   ]
  },
  {
   "cell_type": "markdown",
   "id": "14c20049",
   "metadata": {},
   "source": [
    "### b. Count of transactions where the total amount of transaction was negative"
   ]
  },
  {
   "cell_type": "code",
   "execution_count": 69,
   "id": "5d99d74a",
   "metadata": {},
   "outputs": [
    {
     "data": {
      "text/plain": [
       "2177"
      ]
     },
     "execution_count": 69,
     "metadata": {},
     "output_type": "execute_result"
    }
   ],
   "source": [
    "len(Customer_Final.loc[Customer_Final.total_amt<0])"
   ]
  },
  {
   "cell_type": "markdown",
   "id": "63be8155",
   "metadata": {},
   "source": [
    "### 5. Analyze which product categories are more popular among females vs male customers."
   ]
  },
  {
   "cell_type": "code",
   "execution_count": 70,
   "id": "f74b64e0",
   "metadata": {},
   "outputs": [
    {
     "data": {
      "text/html": [
       "<div>\n",
       "<style scoped>\n",
       "    .dataframe tbody tr th:only-of-type {\n",
       "        vertical-align: middle;\n",
       "    }\n",
       "\n",
       "    .dataframe tbody tr th {\n",
       "        vertical-align: top;\n",
       "    }\n",
       "\n",
       "    .dataframe thead th {\n",
       "        text-align: right;\n",
       "    }\n",
       "</style>\n",
       "<table border=\"1\" class=\"dataframe\">\n",
       "  <thead>\n",
       "    <tr style=\"text-align: right;\">\n",
       "      <th>prod_cat</th>\n",
       "      <th>Bags</th>\n",
       "      <th>Books</th>\n",
       "      <th>Clothing</th>\n",
       "      <th>Electronics</th>\n",
       "      <th>Footwear</th>\n",
       "      <th>Home and kitchen</th>\n",
       "    </tr>\n",
       "    <tr>\n",
       "      <th>Gender</th>\n",
       "      <th></th>\n",
       "      <th></th>\n",
       "      <th></th>\n",
       "      <th></th>\n",
       "      <th></th>\n",
       "      <th></th>\n",
       "    </tr>\n",
       "  </thead>\n",
       "  <tbody>\n",
       "    <tr>\n",
       "      <th>F</th>\n",
       "      <td>994</td>\n",
       "      <td>2949</td>\n",
       "      <td>1439</td>\n",
       "      <td>2328</td>\n",
       "      <td>1529</td>\n",
       "      <td>1994</td>\n",
       "    </tr>\n",
       "    <tr>\n",
       "      <th>M</th>\n",
       "      <td>1004</td>\n",
       "      <td>3116</td>\n",
       "      <td>1518</td>\n",
       "      <td>2570</td>\n",
       "      <td>1469</td>\n",
       "      <td>2134</td>\n",
       "    </tr>\n",
       "  </tbody>\n",
       "</table>\n",
       "</div>"
      ],
      "text/plain": [
       "prod_cat  Bags  Books  Clothing  Electronics  Footwear  Home and kitchen\n",
       "Gender                                                                  \n",
       "F          994   2949      1439         2328      1529              1994\n",
       "M         1004   3116      1518         2570      1469              2134"
      ]
     },
     "execution_count": 70,
     "metadata": {},
     "output_type": "execute_result"
    }
   ],
   "source": [
    "# Using pivot table\n",
    "Customer_Final.pivot_table(index='Gender',columns='prod_cat',values='cust_id',aggfunc='count')"
   ]
  },
  {
   "cell_type": "markdown",
   "id": "2186f6d1",
   "metadata": {},
   "source": [
    "##### All the product categories are popular among Males other than Footwear"
   ]
  },
  {
   "cell_type": "markdown",
   "id": "251defa6",
   "metadata": {},
   "source": [
    "### 6. Which City code has the maximum customers and what was the percentage of customers from that city?\n"
   ]
  },
  {
   "cell_type": "code",
   "execution_count": 71,
   "id": "2cb95ad7",
   "metadata": {},
   "outputs": [],
   "source": [
    "# Grouping number of customers to each city code\n",
    "city_customer=Customers.groupby('city_code')[['customer_Id']].count().rename(columns={'customer_Id':'Number of Customers'})"
   ]
  },
  {
   "cell_type": "code",
   "execution_count": 72,
   "id": "ad0bfa7d",
   "metadata": {},
   "outputs": [],
   "source": [
    "# Sorting Number of Customers from highest to lowest\n",
    "city_customer = city_customer.sort_values(by=['Number of Customers'],ascending=False)"
   ]
  },
  {
   "cell_type": "code",
   "execution_count": 73,
   "id": "939d0869",
   "metadata": {},
   "outputs": [],
   "source": [
    "# Assigning a new column for percentage of customers\n",
    "city_customer['Percentage of total Customers'] = round((city_customer['Number of Customers'] * 100/(city_customer['Number of Customers'].sum())),2)"
   ]
  },
  {
   "cell_type": "code",
   "execution_count": 74,
   "id": "f3ef951d",
   "metadata": {},
   "outputs": [
    {
     "data": {
      "text/html": [
       "<div>\n",
       "<style scoped>\n",
       "    .dataframe tbody tr th:only-of-type {\n",
       "        vertical-align: middle;\n",
       "    }\n",
       "\n",
       "    .dataframe tbody tr th {\n",
       "        vertical-align: top;\n",
       "    }\n",
       "\n",
       "    .dataframe thead th {\n",
       "        text-align: right;\n",
       "    }\n",
       "</style>\n",
       "<table border=\"1\" class=\"dataframe\">\n",
       "  <thead>\n",
       "    <tr style=\"text-align: right;\">\n",
       "      <th></th>\n",
       "      <th>Number of Customers</th>\n",
       "      <th>Percentage of total Customers</th>\n",
       "    </tr>\n",
       "    <tr>\n",
       "      <th>city_code</th>\n",
       "      <th></th>\n",
       "      <th></th>\n",
       "    </tr>\n",
       "  </thead>\n",
       "  <tbody>\n",
       "    <tr>\n",
       "      <th>3.0</th>\n",
       "      <td>595</td>\n",
       "      <td>10.54</td>\n",
       "    </tr>\n",
       "  </tbody>\n",
       "</table>\n",
       "</div>"
      ],
      "text/plain": [
       "           Number of Customers  Percentage of total Customers\n",
       "city_code                                                    \n",
       "3.0                        595                          10.54"
      ]
     },
     "execution_count": 74,
     "metadata": {},
     "output_type": "execute_result"
    }
   ],
   "source": [
    "city_customer.head(1)"
   ]
  },
  {
   "cell_type": "markdown",
   "id": "d0ef0989",
   "metadata": {},
   "source": [
    "##### City code 3 has maximum customers and has 10.54 percentage of total customers"
   ]
  },
  {
   "cell_type": "markdown",
   "id": "b0ebbaf3",
   "metadata": {},
   "source": [
    "### 7. Which store type sells the maximum products by value and by quantity?"
   ]
  },
  {
   "cell_type": "code",
   "execution_count": 75,
   "id": "0a2fc654",
   "metadata": {},
   "outputs": [
    {
     "data": {
      "text/html": [
       "<div>\n",
       "<style scoped>\n",
       "    .dataframe tbody tr th:only-of-type {\n",
       "        vertical-align: middle;\n",
       "    }\n",
       "\n",
       "    .dataframe tbody tr th {\n",
       "        vertical-align: top;\n",
       "    }\n",
       "\n",
       "    .dataframe thead th {\n",
       "        text-align: right;\n",
       "    }\n",
       "</style>\n",
       "<table border=\"1\" class=\"dataframe\">\n",
       "  <thead>\n",
       "    <tr style=\"text-align: right;\">\n",
       "      <th></th>\n",
       "      <th>total_amt</th>\n",
       "      <th>Qty</th>\n",
       "    </tr>\n",
       "    <tr>\n",
       "      <th>Store_type</th>\n",
       "      <th></th>\n",
       "      <th></th>\n",
       "    </tr>\n",
       "  </thead>\n",
       "  <tbody>\n",
       "    <tr>\n",
       "      <th>e-Shop</th>\n",
       "      <td>2.218561e+07</td>\n",
       "      <td>25435</td>\n",
       "    </tr>\n",
       "    <tr>\n",
       "      <th>MBR</th>\n",
       "      <td>1.090854e+07</td>\n",
       "      <td>12581</td>\n",
       "    </tr>\n",
       "    <tr>\n",
       "      <th>Flagship store</th>\n",
       "      <td>1.090662e+07</td>\n",
       "      <td>12460</td>\n",
       "    </tr>\n",
       "    <tr>\n",
       "      <th>TeleShop</th>\n",
       "      <td>1.045312e+07</td>\n",
       "      <td>12225</td>\n",
       "    </tr>\n",
       "  </tbody>\n",
       "</table>\n",
       "</div>"
      ],
      "text/plain": [
       "                   total_amt    Qty\n",
       "Store_type                         \n",
       "e-Shop          2.218561e+07  25435\n",
       "MBR             1.090854e+07  12581\n",
       "Flagship store  1.090662e+07  12460\n",
       "TeleShop        1.045312e+07  12225"
      ]
     },
     "execution_count": 75,
     "metadata": {},
     "output_type": "execute_result"
    }
   ],
   "source": [
    "# Grouping sum of total amount and sum of quantity to each Store typthen sorting from highest to lowest\n",
    "Customer_Final.loc[Customer_Final.total_amt>0].groupby('Store_type')[['total_amt','Qty']].sum().sort_values(by=['total_amt','Qty'],ascending=False)"
   ]
  },
  {
   "cell_type": "markdown",
   "id": "39343c4c",
   "metadata": {},
   "source": [
    "##### Store type e-Shop sells the maximum products by value and by quantity"
   ]
  },
  {
   "cell_type": "markdown",
   "id": "05281101",
   "metadata": {},
   "source": [
    "### 8. What was the total amount earned from the \"Electronics\" and \"Clothing\" categories from Flagship Stores?\n"
   ]
  },
  {
   "cell_type": "code",
   "execution_count": 76,
   "id": "0a477026",
   "metadata": {},
   "outputs": [],
   "source": [
    "# Assigning sales and returns separately to two dataframes\n",
    "sales = Customer_Final.loc[Customer_Final.total_amt>0]\n",
    "returns = Customer_Final.loc[Customer_Final.total_amt<0]"
   ]
  },
  {
   "cell_type": "code",
   "execution_count": 77,
   "id": "445436bb",
   "metadata": {},
   "outputs": [],
   "source": [
    "# Dropping tran date in Returns help to remove duplicates later\n",
    "returns =returns.drop(columns='tran_date')"
   ]
  },
  {
   "cell_type": "code",
   "execution_count": 78,
   "id": "e0bee5cc",
   "metadata": {},
   "outputs": [],
   "source": [
    "# Merging Sales with Return using left join\n",
    "final =sales.merge(returns,on='transaction_id',how='left')"
   ]
  },
  {
   "cell_type": "code",
   "execution_count": 79,
   "id": "04f8cd77",
   "metadata": {},
   "outputs": [
    {
     "data": {
      "text/html": [
       "<div>\n",
       "<style scoped>\n",
       "    .dataframe tbody tr th:only-of-type {\n",
       "        vertical-align: middle;\n",
       "    }\n",
       "\n",
       "    .dataframe tbody tr th {\n",
       "        vertical-align: top;\n",
       "    }\n",
       "\n",
       "    .dataframe thead th {\n",
       "        text-align: right;\n",
       "    }\n",
       "</style>\n",
       "<table border=\"1\" class=\"dataframe\">\n",
       "  <thead>\n",
       "    <tr style=\"text-align: right;\">\n",
       "      <th></th>\n",
       "      <th>transaction_id</th>\n",
       "      <th>cust_id_x</th>\n",
       "      <th>tran_date</th>\n",
       "      <th>prod_subcat_code_x</th>\n",
       "      <th>prod_cat_code_x</th>\n",
       "      <th>Qty_x</th>\n",
       "      <th>Rate_x</th>\n",
       "      <th>Tax_x</th>\n",
       "      <th>total_amt_x</th>\n",
       "      <th>Store_type_x</th>\n",
       "      <th>...</th>\n",
       "      <th>Rate_y</th>\n",
       "      <th>Tax_y</th>\n",
       "      <th>total_amt_y</th>\n",
       "      <th>Store_type_y</th>\n",
       "      <th>customer_Id_y</th>\n",
       "      <th>DOB_y</th>\n",
       "      <th>Gender_y</th>\n",
       "      <th>city_code_y</th>\n",
       "      <th>prod_cat_y</th>\n",
       "      <th>prod_subcat_y</th>\n",
       "    </tr>\n",
       "  </thead>\n",
       "  <tbody>\n",
       "    <tr>\n",
       "      <th>0</th>\n",
       "      <td>80712190438</td>\n",
       "      <td>270351</td>\n",
       "      <td>2014-02-20</td>\n",
       "      <td>1</td>\n",
       "      <td>1</td>\n",
       "      <td>5</td>\n",
       "      <td>772</td>\n",
       "      <td>405.300</td>\n",
       "      <td>4265.300</td>\n",
       "      <td>e-Shop</td>\n",
       "      <td>...</td>\n",
       "      <td>-772.0</td>\n",
       "      <td>405.30</td>\n",
       "      <td>-4265.30</td>\n",
       "      <td>e-Shop</td>\n",
       "      <td>270351.0</td>\n",
       "      <td>26-09-1981</td>\n",
       "      <td>M</td>\n",
       "      <td>5.0</td>\n",
       "      <td>Clothing</td>\n",
       "      <td>Women</td>\n",
       "    </tr>\n",
       "    <tr>\n",
       "      <th>1</th>\n",
       "      <td>18505840838</td>\n",
       "      <td>271509</td>\n",
       "      <td>2013-12-16</td>\n",
       "      <td>1</td>\n",
       "      <td>1</td>\n",
       "      <td>3</td>\n",
       "      <td>1229</td>\n",
       "      <td>387.135</td>\n",
       "      <td>4074.135</td>\n",
       "      <td>Flagship store</td>\n",
       "      <td>...</td>\n",
       "      <td>NaN</td>\n",
       "      <td>NaN</td>\n",
       "      <td>NaN</td>\n",
       "      <td>NaN</td>\n",
       "      <td>NaN</td>\n",
       "      <td>NaN</td>\n",
       "      <td>NaN</td>\n",
       "      <td>NaN</td>\n",
       "      <td>NaN</td>\n",
       "      <td>NaN</td>\n",
       "    </tr>\n",
       "    <tr>\n",
       "      <th>2</th>\n",
       "      <td>92814475704</td>\n",
       "      <td>267750</td>\n",
       "      <td>2013-08-07</td>\n",
       "      <td>1</td>\n",
       "      <td>1</td>\n",
       "      <td>4</td>\n",
       "      <td>284</td>\n",
       "      <td>119.280</td>\n",
       "      <td>1255.280</td>\n",
       "      <td>Flagship store</td>\n",
       "      <td>...</td>\n",
       "      <td>-284.0</td>\n",
       "      <td>119.28</td>\n",
       "      <td>-1255.28</td>\n",
       "      <td>Flagship store</td>\n",
       "      <td>267750.0</td>\n",
       "      <td>13-10-1986</td>\n",
       "      <td>M</td>\n",
       "      <td>1.0</td>\n",
       "      <td>Clothing</td>\n",
       "      <td>Women</td>\n",
       "    </tr>\n",
       "    <tr>\n",
       "      <th>3</th>\n",
       "      <td>4737317330</td>\n",
       "      <td>269345</td>\n",
       "      <td>2011-07-29</td>\n",
       "      <td>1</td>\n",
       "      <td>1</td>\n",
       "      <td>5</td>\n",
       "      <td>1141</td>\n",
       "      <td>599.025</td>\n",
       "      <td>6304.025</td>\n",
       "      <td>MBR</td>\n",
       "      <td>...</td>\n",
       "      <td>NaN</td>\n",
       "      <td>NaN</td>\n",
       "      <td>NaN</td>\n",
       "      <td>NaN</td>\n",
       "      <td>NaN</td>\n",
       "      <td>NaN</td>\n",
       "      <td>NaN</td>\n",
       "      <td>NaN</td>\n",
       "      <td>NaN</td>\n",
       "      <td>NaN</td>\n",
       "    </tr>\n",
       "    <tr>\n",
       "      <th>4</th>\n",
       "      <td>44425889101</td>\n",
       "      <td>274987</td>\n",
       "      <td>2012-03-18</td>\n",
       "      <td>1</td>\n",
       "      <td>1</td>\n",
       "      <td>4</td>\n",
       "      <td>897</td>\n",
       "      <td>376.740</td>\n",
       "      <td>3964.740</td>\n",
       "      <td>Flagship store</td>\n",
       "      <td>...</td>\n",
       "      <td>NaN</td>\n",
       "      <td>NaN</td>\n",
       "      <td>NaN</td>\n",
       "      <td>NaN</td>\n",
       "      <td>NaN</td>\n",
       "      <td>NaN</td>\n",
       "      <td>NaN</td>\n",
       "      <td>NaN</td>\n",
       "      <td>NaN</td>\n",
       "      <td>NaN</td>\n",
       "    </tr>\n",
       "    <tr>\n",
       "      <th>...</th>\n",
       "      <td>...</td>\n",
       "      <td>...</td>\n",
       "      <td>...</td>\n",
       "      <td>...</td>\n",
       "      <td>...</td>\n",
       "      <td>...</td>\n",
       "      <td>...</td>\n",
       "      <td>...</td>\n",
       "      <td>...</td>\n",
       "      <td>...</td>\n",
       "      <td>...</td>\n",
       "      <td>...</td>\n",
       "      <td>...</td>\n",
       "      <td>...</td>\n",
       "      <td>...</td>\n",
       "      <td>...</td>\n",
       "      <td>...</td>\n",
       "      <td>...</td>\n",
       "      <td>...</td>\n",
       "      <td>...</td>\n",
       "      <td>...</td>\n",
       "    </tr>\n",
       "    <tr>\n",
       "      <th>20989</th>\n",
       "      <td>7173864364</td>\n",
       "      <td>271157</td>\n",
       "      <td>2011-04-09</td>\n",
       "      <td>4</td>\n",
       "      <td>4</td>\n",
       "      <td>5</td>\n",
       "      <td>788</td>\n",
       "      <td>413.700</td>\n",
       "      <td>4353.700</td>\n",
       "      <td>Flagship store</td>\n",
       "      <td>...</td>\n",
       "      <td>NaN</td>\n",
       "      <td>NaN</td>\n",
       "      <td>NaN</td>\n",
       "      <td>NaN</td>\n",
       "      <td>NaN</td>\n",
       "      <td>NaN</td>\n",
       "      <td>NaN</td>\n",
       "      <td>NaN</td>\n",
       "      <td>NaN</td>\n",
       "      <td>NaN</td>\n",
       "    </tr>\n",
       "    <tr>\n",
       "      <th>20990</th>\n",
       "      <td>5618131425</td>\n",
       "      <td>272010</td>\n",
       "      <td>2011-03-03</td>\n",
       "      <td>4</td>\n",
       "      <td>4</td>\n",
       "      <td>2</td>\n",
       "      <td>1150</td>\n",
       "      <td>241.500</td>\n",
       "      <td>2541.500</td>\n",
       "      <td>MBR</td>\n",
       "      <td>...</td>\n",
       "      <td>NaN</td>\n",
       "      <td>NaN</td>\n",
       "      <td>NaN</td>\n",
       "      <td>NaN</td>\n",
       "      <td>NaN</td>\n",
       "      <td>NaN</td>\n",
       "      <td>NaN</td>\n",
       "      <td>NaN</td>\n",
       "      <td>NaN</td>\n",
       "      <td>NaN</td>\n",
       "    </tr>\n",
       "    <tr>\n",
       "      <th>20991</th>\n",
       "      <td>18727956164</td>\n",
       "      <td>267161</td>\n",
       "      <td>2011-02-23</td>\n",
       "      <td>4</td>\n",
       "      <td>4</td>\n",
       "      <td>5</td>\n",
       "      <td>668</td>\n",
       "      <td>350.700</td>\n",
       "      <td>3690.700</td>\n",
       "      <td>e-Shop</td>\n",
       "      <td>...</td>\n",
       "      <td>NaN</td>\n",
       "      <td>NaN</td>\n",
       "      <td>NaN</td>\n",
       "      <td>NaN</td>\n",
       "      <td>NaN</td>\n",
       "      <td>NaN</td>\n",
       "      <td>NaN</td>\n",
       "      <td>NaN</td>\n",
       "      <td>NaN</td>\n",
       "      <td>NaN</td>\n",
       "    </tr>\n",
       "    <tr>\n",
       "      <th>20992</th>\n",
       "      <td>60416814232</td>\n",
       "      <td>273281</td>\n",
       "      <td>2011-02-18</td>\n",
       "      <td>4</td>\n",
       "      <td>4</td>\n",
       "      <td>4</td>\n",
       "      <td>202</td>\n",
       "      <td>84.840</td>\n",
       "      <td>892.840</td>\n",
       "      <td>Flagship store</td>\n",
       "      <td>...</td>\n",
       "      <td>NaN</td>\n",
       "      <td>NaN</td>\n",
       "      <td>NaN</td>\n",
       "      <td>NaN</td>\n",
       "      <td>NaN</td>\n",
       "      <td>NaN</td>\n",
       "      <td>NaN</td>\n",
       "      <td>NaN</td>\n",
       "      <td>NaN</td>\n",
       "      <td>NaN</td>\n",
       "    </tr>\n",
       "    <tr>\n",
       "      <th>20993</th>\n",
       "      <td>83245680995</td>\n",
       "      <td>273723</td>\n",
       "      <td>2011-01-26</td>\n",
       "      <td>4</td>\n",
       "      <td>4</td>\n",
       "      <td>4</td>\n",
       "      <td>1477</td>\n",
       "      <td>620.340</td>\n",
       "      <td>6528.340</td>\n",
       "      <td>e-Shop</td>\n",
       "      <td>...</td>\n",
       "      <td>NaN</td>\n",
       "      <td>NaN</td>\n",
       "      <td>NaN</td>\n",
       "      <td>NaN</td>\n",
       "      <td>NaN</td>\n",
       "      <td>NaN</td>\n",
       "      <td>NaN</td>\n",
       "      <td>NaN</td>\n",
       "      <td>NaN</td>\n",
       "      <td>NaN</td>\n",
       "    </tr>\n",
       "  </tbody>\n",
       "</table>\n",
       "<p>20876 rows × 30 columns</p>\n",
       "</div>"
      ],
      "text/plain": [
       "       transaction_id  cust_id_x  tran_date  prod_subcat_code_x   \n",
       "0         80712190438     270351 2014-02-20                   1  \\\n",
       "1         18505840838     271509 2013-12-16                   1   \n",
       "2         92814475704     267750 2013-08-07                   1   \n",
       "3          4737317330     269345 2011-07-29                   1   \n",
       "4         44425889101     274987 2012-03-18                   1   \n",
       "...               ...        ...        ...                 ...   \n",
       "20989      7173864364     271157 2011-04-09                   4   \n",
       "20990      5618131425     272010 2011-03-03                   4   \n",
       "20991     18727956164     267161 2011-02-23                   4   \n",
       "20992     60416814232     273281 2011-02-18                   4   \n",
       "20993     83245680995     273723 2011-01-26                   4   \n",
       "\n",
       "       prod_cat_code_x  Qty_x  Rate_x    Tax_x  total_amt_x    Store_type_x   \n",
       "0                    1      5     772  405.300     4265.300          e-Shop  \\\n",
       "1                    1      3    1229  387.135     4074.135  Flagship store   \n",
       "2                    1      4     284  119.280     1255.280  Flagship store   \n",
       "3                    1      5    1141  599.025     6304.025             MBR   \n",
       "4                    1      4     897  376.740     3964.740  Flagship store   \n",
       "...                ...    ...     ...      ...          ...             ...   \n",
       "20989                4      5     788  413.700     4353.700  Flagship store   \n",
       "20990                4      2    1150  241.500     2541.500             MBR   \n",
       "20991                4      5     668  350.700     3690.700          e-Shop   \n",
       "20992                4      4     202   84.840      892.840  Flagship store   \n",
       "20993                4      4    1477  620.340     6528.340          e-Shop   \n",
       "\n",
       "       ...  Rate_y   Tax_y total_amt_y    Store_type_y customer_Id_y   \n",
       "0      ...  -772.0  405.30    -4265.30          e-Shop      270351.0  \\\n",
       "1      ...     NaN     NaN         NaN             NaN           NaN   \n",
       "2      ...  -284.0  119.28    -1255.28  Flagship store      267750.0   \n",
       "3      ...     NaN     NaN         NaN             NaN           NaN   \n",
       "4      ...     NaN     NaN         NaN             NaN           NaN   \n",
       "...    ...     ...     ...         ...             ...           ...   \n",
       "20989  ...     NaN     NaN         NaN             NaN           NaN   \n",
       "20990  ...     NaN     NaN         NaN             NaN           NaN   \n",
       "20991  ...     NaN     NaN         NaN             NaN           NaN   \n",
       "20992  ...     NaN     NaN         NaN             NaN           NaN   \n",
       "20993  ...     NaN     NaN         NaN             NaN           NaN   \n",
       "\n",
       "            DOB_y  Gender_y  city_code_y  prod_cat_y  prod_subcat_y  \n",
       "0      26-09-1981         M          5.0    Clothing          Women  \n",
       "1             NaN       NaN          NaN         NaN            NaN  \n",
       "2      13-10-1986         M          1.0    Clothing          Women  \n",
       "3             NaN       NaN          NaN         NaN            NaN  \n",
       "4             NaN       NaN          NaN         NaN            NaN  \n",
       "...           ...       ...          ...         ...            ...  \n",
       "20989         NaN       NaN          NaN         NaN            NaN  \n",
       "20990         NaN       NaN          NaN         NaN            NaN  \n",
       "20991         NaN       NaN          NaN         NaN            NaN  \n",
       "20992         NaN       NaN          NaN         NaN            NaN  \n",
       "20993         NaN       NaN          NaN         NaN            NaN  \n",
       "\n",
       "[20876 rows x 30 columns]"
      ]
     },
     "execution_count": 79,
     "metadata": {},
     "output_type": "execute_result"
    }
   ],
   "source": [
    "# Dropping duplicates helps to remove the duplicates of different returns of the same transaction id\n",
    "final=final.drop_duplicates()\n",
    "final"
   ]
  },
  {
   "cell_type": "code",
   "execution_count": 80,
   "id": "82f9aaee",
   "metadata": {},
   "outputs": [],
   "source": [
    "# Filtering Electronics and clothing in product category and Flagship store in store type\n",
    "x = final.loc[(final.prod_cat_x.isin (['Electronics','Clothing'])) & (final.Store_type_x == 'Flagship store')]"
   ]
  },
  {
   "cell_type": "code",
   "execution_count": 81,
   "id": "a972a5fc",
   "metadata": {},
   "outputs": [
    {
     "data": {
      "text/plain": [
       "3428316.645"
      ]
     },
     "execution_count": 81,
     "metadata": {},
     "output_type": "execute_result"
    }
   ],
   "source": [
    "# Total amount earned from the \"Electronics\" and \"Clothing\" categories from Flagship Stores\n",
    "x.total_amt_x.sum() + x.total_amt_y.sum()"
   ]
  },
  {
   "cell_type": "markdown",
   "id": "eea9c79a",
   "metadata": {},
   "source": [
    "### 9. What was the total amount earned from \"Male\" customers under the \"Electronics\" category?"
   ]
  },
  {
   "cell_type": "code",
   "execution_count": 85,
   "id": "9d7bf13e",
   "metadata": {},
   "outputs": [
    {
     "data": {
      "text/plain": [
       "5744917.1"
      ]
     },
     "execution_count": 85,
     "metadata": {},
     "output_type": "execute_result"
    }
   ],
   "source": [
    "# Filtering Electronics in product category and Males in gender\n",
    "temp =final.loc[(final.Gender_x == 'M') & (final.prod_cat_x == 'Electronics')]\n",
    "# Total amount earned from \"Male\" customers under the \"Electronics\" category\n",
    "temp.total_amt_x.sum() + temp.total_amt_y.sum()"
   ]
  },
  {
   "cell_type": "markdown",
   "id": "18d608d2",
   "metadata": {},
   "source": [
    "### 10. How many customers have more than 10 unique transactions, after removing all transactions which have any negative amounts?\n"
   ]
  },
  {
   "cell_type": "code",
   "execution_count": 88,
   "id": "15866975",
   "metadata": {},
   "outputs": [],
   "source": [
    "# Using sale df to avoid negative transactions and grouping cust id to get number of unique transactions\n",
    "a= sales.groupby('cust_id')[['transaction_id']].count()"
   ]
  },
  {
   "cell_type": "code",
   "execution_count": 89,
   "id": "20710e53",
   "metadata": {},
   "outputs": [
    {
     "data": {
      "text/plain": [
       "6"
      ]
     },
     "execution_count": 89,
     "metadata": {},
     "output_type": "execute_result"
    }
   ],
   "source": [
    "# Number of customers have more than 10 unique transactions after removing negative amounts\n",
    "len(a.loc[a.transaction_id >10])"
   ]
  },
  {
   "cell_type": "markdown",
   "id": "cb71f0e3",
   "metadata": {},
   "source": [
    "### 11. For all customers aged between 25 - 35, find out:\n",
    "### a. What was the total amount spent for “Electronics” and “Books” product categories?"
   ]
  },
  {
   "cell_type": "code",
   "execution_count": 119,
   "id": "7001c2e7",
   "metadata": {},
   "outputs": [
    {
     "data": {
      "text/plain": [
       "5572389.03"
      ]
     },
     "execution_count": 119,
     "metadata": {},
     "output_type": "execute_result"
    }
   ],
   "source": [
    "# Changing the data type of DOB to datetime\n",
    "sales['DOB'] = pd.to_datetime(sales['DOB'], dayfirst=True)\n",
    "\n",
    "# Locating rows of sales between 25 and 35 age group\n",
    "temp1 = sales.loc[(dt.date.today().year - sales.DOB.dt.year).between(25,35)]\n",
    "temp1 = temp1.loc[temp1.prod_cat.isin(['Electronics','Books'])]\n",
    "# total amount spent for “Electronics” and “Books” product categories by all customers aged between 25 - 35\n",
    "temp1.total_amt.sum()"
   ]
  },
  {
   "cell_type": "markdown",
   "id": "482cb9a4",
   "metadata": {},
   "source": [
    "# b. What was the total amount spent by these customers between 1st Jan, 2014 to 1st Mar, 2014?"
   ]
  },
  {
   "cell_type": "code",
   "execution_count": 121,
   "id": "f8da27c2",
   "metadata": {},
   "outputs": [
    {
     "data": {
      "text/plain": [
       "2532216.895"
      ]
     },
     "execution_count": 121,
     "metadata": {},
     "output_type": "execute_result"
    }
   ],
   "source": [
    "sales.loc[sales.tran_date.between('2014-01-01','2014-03-01')].total_amt.sum()"
   ]
  },
  {
   "cell_type": "code",
   "execution_count": null,
   "id": "08fdb038",
   "metadata": {},
   "outputs": [],
   "source": []
  },
  {
   "cell_type": "code",
   "execution_count": null,
   "id": "e9ce2f2e",
   "metadata": {},
   "outputs": [],
   "source": []
  },
  {
   "cell_type": "code",
   "execution_count": null,
   "id": "4deb43e6",
   "metadata": {},
   "outputs": [],
   "source": []
  },
  {
   "cell_type": "code",
   "execution_count": null,
   "id": "8ba4557d",
   "metadata": {},
   "outputs": [],
   "source": []
  },
  {
   "cell_type": "code",
   "execution_count": null,
   "id": "593fff7e",
   "metadata": {},
   "outputs": [],
   "source": []
  },
  {
   "cell_type": "code",
   "execution_count": null,
   "id": "063e0501",
   "metadata": {},
   "outputs": [],
   "source": []
  },
  {
   "cell_type": "code",
   "execution_count": null,
   "id": "5a0ba7d5",
   "metadata": {},
   "outputs": [],
   "source": []
  },
  {
   "cell_type": "code",
   "execution_count": null,
   "id": "c1c326bd",
   "metadata": {},
   "outputs": [],
   "source": []
  },
  {
   "cell_type": "code",
   "execution_count": null,
   "id": "0bd8da95",
   "metadata": {},
   "outputs": [],
   "source": []
  },
  {
   "cell_type": "code",
   "execution_count": null,
   "id": "f293c9ed",
   "metadata": {},
   "outputs": [],
   "source": []
  },
  {
   "cell_type": "code",
   "execution_count": null,
   "id": "04f78057",
   "metadata": {},
   "outputs": [],
   "source": []
  },
  {
   "cell_type": "code",
   "execution_count": null,
   "id": "2ba48180",
   "metadata": {},
   "outputs": [],
   "source": []
  },
  {
   "cell_type": "code",
   "execution_count": null,
   "id": "70c6f291",
   "metadata": {},
   "outputs": [],
   "source": []
  },
  {
   "cell_type": "code",
   "execution_count": null,
   "id": "78137d9d",
   "metadata": {},
   "outputs": [],
   "source": []
  },
  {
   "cell_type": "code",
   "execution_count": null,
   "id": "469c0901",
   "metadata": {},
   "outputs": [],
   "source": []
  }
 ],
 "metadata": {
  "kernelspec": {
   "display_name": "Python 3 (ipykernel)",
   "language": "python",
   "name": "python3"
  },
  "language_info": {
   "codemirror_mode": {
    "name": "ipython",
    "version": 3
   },
   "file_extension": ".py",
   "mimetype": "text/x-python",
   "name": "python",
   "nbconvert_exporter": "python",
   "pygments_lexer": "ipython3",
   "version": "3.10.9"
  }
 },
 "nbformat": 4,
 "nbformat_minor": 5
}
